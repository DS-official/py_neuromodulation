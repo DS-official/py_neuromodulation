{
 "cells": [
  {
   "cell_type": "code",
   "execution_count": null,
   "id": "e846bf8b",
   "metadata": {},
   "outputs": [],
   "source": [
    "import pyneuromodulation as pn\n",
    "import pandas as pd"
   ]
  },
  {
   "cell_type": "markdown",
   "id": "a6f71172",
   "metadata": {},
   "source": [
    "### BIDS use"
   ]
  },
  {
   "cell_type": "code",
   "execution_count": null,
   "id": "b2223a77",
   "metadata": {},
   "outputs": [],
   "source": [
    "PATH_BIDS = ###\n",
    "PATH_RUN = ###\n",
    "\n",
    "pn_stream = pn.BIDS(PATH_BIDS, PATH_RUN)"
   ]
  },
  {
   "cell_type": "code",
   "execution_count": null,
   "id": "ba928ee4",
   "metadata": {},
   "outputs": [],
   "source": [
    "pn_stream.channels[\"used\"] = True\n",
    "pn_stream.channels.name = [\"ECOG_1\", \"STN_1\", \"MOV_1\"]\n",
    "pn_stream.channels.target = [0, 0, 1]"
   ]
  },
  {
   "cell_type": "code",
   "execution_count": null,
   "id": "91ff5f63",
   "metadata": {},
   "outputs": [],
   "source": [
    "pn_stream.model = # Load Pretrained Model"
   ]
  },
  {
   "cell_type": "code",
   "execution_count": null,
   "id": "5942931f",
   "metadata": {},
   "outputs": [],
   "source": [
    "pn_stream.settings[\"methods\"][\"fft\"] = True\n",
    "pn_stream.seetings[\"fft\"][\"window_length\"] = 500"
   ]
  },
  {
   "cell_type": "code",
   "execution_count": null,
   "id": "6dbc696e",
   "metadata": {},
   "outputs": [],
   "source": [
    "pn_stream.run()"
   ]
  },
  {
   "cell_type": "code",
   "execution_count": null,
   "id": "0189f550",
   "metadata": {},
   "outputs": [],
   "source": [
    "pn_analyzer = pn.analzer(feature_path=pn_stream.out_path)"
   ]
  },
  {
   "cell_type": "code",
   "execution_count": null,
   "id": "914dc4de",
   "metadata": {},
   "outputs": [],
   "source": [
    "pn_analyzer.run_CV(target=\"MOV_1\")"
   ]
  },
  {
   "cell_type": "code",
   "execution_count": null,
   "id": "53ca7046",
   "metadata": {},
   "outputs": [],
   "source": [
    "pn_analyzer.save_model()"
   ]
  },
  {
   "cell_type": "code",
   "execution_count": null,
   "id": "8e7b89a7",
   "metadata": {},
   "outputs": [],
   "source": [
    "pn_analyzer.plot_target_avg_features(target=\"MOV_1\", feature_str=\"coh\")"
   ]
  },
  {
   "cell_type": "markdown",
   "id": "67c0383a",
   "metadata": {},
   "source": [
    "### Real Time use"
   ]
  },
  {
   "cell_type": "code",
   "execution_count": null,
   "id": "59221d45",
   "metadata": {},
   "outputs": [],
   "source": [
    "pn_stream = pn.FieldTripBuffer()"
   ]
  },
  {
   "cell_type": "code",
   "execution_count": null,
   "id": "3dd7aa45",
   "metadata": {},
   "outputs": [],
   "source": [
    "pn_stream.channels.add(\n",
    "    \"channel\"=\"ECOG_1\",\n",
    "    \"reference\"=\"CAR\",\n",
    "    \"used\"=True,\n",
    "    \"target\"=False,\n",
    "    \"type\"=\"ECOG\",\n",
    "    \"status\"=\"good\",\n",
    "    \"new_name\"=\"ECOG_1_avgref\")"
   ]
  },
  {
   "cell_type": "code",
   "execution_count": null,
   "id": "59c584b9",
   "metadata": {},
   "outputs": [],
   "source": [
    "pn_stream.run()"
   ]
  },
  {
   "cell_type": "code",
   "execution_count": null,
   "id": "a9a04ad1",
   "metadata": {},
   "outputs": [],
   "source": []
  }
 ],
 "metadata": {
  "kernelspec": {
   "display_name": "pyneuromodulation",
   "language": "python",
   "name": "pyneuromodulation"
  },
  "language_info": {
   "codemirror_mode": {
    "name": "ipython",
    "version": 3
   },
   "file_extension": ".py",
   "mimetype": "text/x-python",
   "name": "python",
   "nbconvert_exporter": "python",
   "pygments_lexer": "ipython3",
   "version": "3.9.6"
  }
 },
 "nbformat": 4,
 "nbformat_minor": 5
}
