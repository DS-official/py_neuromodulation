{
 "cells": [
  {
   "cell_type": "markdown",
   "metadata": {
    "collapsed": true,
    "pycharm": {
     "name": "#%% md\n"
    }
   },
   "source": [
    "Use BIDS data, do plotting of interpolation, use reset_settings and manually selecting features, do sharpwave analysis and external ML model\n"
   ]
  },
  {
   "cell_type": "markdown",
   "source": [
    "# Beyond example_BIDS.py\n",
    "\n",
    "This notebook is going to follow some steps already explained in example_BIDS.ipynb, but with two extensions:\n",
    "1. Show how the user can plot\n",
    "2. Show how the user can use their preferred Machine Learning method\n",
    "\n",
    "Again we start with importing the necessary packages:"
   ],
   "metadata": {
    "collapsed": false,
    "pycharm": {
     "name": "#%% md\n"
    }
   }
  },
  {
   "cell_type": "code",
   "execution_count": 1,
   "outputs": [],
   "source": [
    "import os\n",
    "import sys\n",
    "\n",
    "# change root directory of the project\n",
    "SCRIPT_DIR = os.path.dirname(os.path.abspath(''))\n",
    "if SCRIPT_DIR.split(\"/\")[-1] == \"py_neuromodulation\":\n",
    "    # this check is necessary, so we can also run the script from the root directory\n",
    "    SCRIPT_DIR = os.path.join(SCRIPT_DIR, \"examples\")\n",
    "\n",
    "sys.path.append(os.path.dirname(SCRIPT_DIR))\n",
    "\n",
    "# Reload imports to get changes in other scripts\n",
    "%load_ext autoreload\n",
    "%autoreload 2"
   ],
   "metadata": {
    "collapsed": false,
    "pycharm": {
     "name": "#%%\n"
    }
   }
  },
  {
   "cell_type": "code",
   "execution_count": 2,
   "outputs": [],
   "source": [
    "import py_neuromodulation as nm\n",
    "import xgboost\n",
    "from py_neuromodulation import (\n",
    "    nm_analysis,\n",
    "    nm_decode,\n",
    "    nm_define_nmchannels,\n",
    "    nm_IO,\n",
    "    nm_plots,\n",
    ")\n",
    "from sklearn import metrics, model_selection\n",
    "from skopt import space as skopt_space"
   ],
   "metadata": {
    "collapsed": false,
    "pycharm": {
     "name": "#%%\n"
    }
   }
  },
  {
   "cell_type": "markdown",
   "source": [
    "## Read BIDS data\n",
    "\n",
    "For an example with simulated data, please look into example_SimulatedData"
   ],
   "metadata": {
    "collapsed": false,
    "pycharm": {
     "name": "#%% md\n"
    }
   }
  },
  {
   "cell_type": "code",
   "execution_count": 3,
   "outputs": [
    {
     "name": "stdout",
     "output_type": "stream",
     "text": [
      "Extracting parameters from /home/lauraflyra/Documents/BCCN/Lab_Rotation_DBS_Decoding/Code/py_neuromodulation/examples/data/sub-testsub/ses-EphysMedOff/ieeg/sub-testsub_ses-EphysMedOff_task-buttonpress_run-0_ieeg.vhdr...\n",
      "Setting channel info structure...\n",
      "Reading channel info from /home/lauraflyra/Documents/BCCN/Lab_Rotation_DBS_Decoding/Code/py_neuromodulation/examples/data/sub-testsub/ses-EphysMedOff/ieeg/sub-testsub_ses-EphysMedOff_task-buttonpress_run-0_channels.tsv.\n",
      "Reading electrode coords from /home/lauraflyra/Documents/BCCN/Lab_Rotation_DBS_Decoding/Code/py_neuromodulation/examples/data/sub-testsub/ses-EphysMedOff/ieeg/sub-testsub_ses-EphysMedOff_acq-StimOff_space-mni_electrodes.tsv.\n"
     ]
    }
   ],
   "source": [
    "sub = \"testsub\"\n",
    "ses = \"EphysMedOff\"\n",
    "task = \"buttonpress\"\n",
    "run = 0\n",
    "datatype = \"ieeg\"\n",
    "\n",
    "# Define run name and access paths in the BIDS format.\n",
    "RUN_NAME = f\"sub-{sub}_ses-{ses}_task-{task}_run-{run}\"\n",
    "\n",
    "PATH_RUN = os.path.join(\n",
    "    (os.path.join(SCRIPT_DIR, \"data\")),\n",
    "    f\"sub-{sub}\",\n",
    "    f\"ses-{ses}\",\n",
    "    datatype,\n",
    "    RUN_NAME,\n",
    ")\n",
    "PATH_BIDS = os.path.join(SCRIPT_DIR, \"data\")\n",
    "\n",
    "# Provide a path for the output data.\n",
    "PATH_OUT = os.path.join(SCRIPT_DIR, \"data\", \"derivatives\")\n",
    "\n",
    "(\n",
    "    raw,\n",
    "    data,\n",
    "    sfreq,\n",
    "    line_noise,\n",
    "    coord_list,\n",
    "    coord_names,\n",
    ") = nm_IO.read_BIDS_data(\n",
    "    PATH_RUN=PATH_RUN, BIDS_PATH=PATH_BIDS, datatype=datatype\n",
    ")"
   ],
   "metadata": {
    "collapsed": false,
    "pycharm": {
     "name": "#%%\n"
    }
   }
  },
  {
   "cell_type": "markdown",
   "source": [
    "## Define the channels"
   ],
   "metadata": {
    "collapsed": false,
    "pycharm": {
     "name": "#%% md\n"
    }
   }
  },
  {
   "cell_type": "code",
   "execution_count": 4,
   "outputs": [],
   "source": [
    "nm_channels = nm_define_nmchannels.set_channels(\n",
    "    ch_names=raw.ch_names,\n",
    "    ch_types=raw.get_channel_types(),\n",
    "    reference=\"default\",\n",
    "    bads=raw.info[\"bads\"],\n",
    "    new_names=\"default\",\n",
    "    used_types=(\"ecog\", \"dbs\", \"seeg\"),\n",
    "    target_keywords=(\"SQUARED_ROTATION\",),\n",
    ")"
   ],
   "metadata": {
    "collapsed": false,
    "pycharm": {
     "name": "#%%\n"
    }
   }
  },
  {
   "cell_type": "code",
   "execution_count": 5,
   "outputs": [
    {
     "data": {
      "text/plain": "                name       rereference  used  target  type status  \\\n0   ANALOG_R_ROTA_CH              None     0       0  misc   good   \n1    ECOG_L_1_SMC_AT           average     1       0  ecog   good   \n2    ECOG_L_2_SMC_AT           average     1       0  ecog   good   \n3    ECOG_L_3_SMC_AT           average     1       0  ecog   good   \n4    ECOG_L_4_SMC_AT           average     1       0  ecog   good   \n5    ECOG_L_5_SMC_AT           average     1       0  ecog   good   \n6    ECOG_L_6_SMC_AT           average     1       0  ecog   good   \n7             EEG_AO              None     0       0  misc   good   \n8     LFP_L_1_STN_BS  LFP_L_567_STN_BS     1       0  seeg   good   \n9   LFP_L_234_STN_BS    LFP_L_1_STN_BS     1       0  seeg   good   \n10  LFP_L_567_STN_BS  LFP_L_234_STN_BS     1       0  seeg   good   \n11  LFP_R_234_STN_BS  LFP_R_567_STN_BS     1       0  seeg   good   \n12  LFP_R_567_STN_BS  LFP_R_234_STN_BS     1       0  seeg   good   \n13  SQUARED_ARTIFACT              None     0       0  misc   good   \n14  SQUARED_ROTATION              None     0       1  misc   good   \n\n                             new_name  \n0                    ANALOG_R_ROTA_CH  \n1              ECOG_L_1_SMC_AT-avgref  \n2              ECOG_L_2_SMC_AT-avgref  \n3              ECOG_L_3_SMC_AT-avgref  \n4              ECOG_L_4_SMC_AT-avgref  \n5              ECOG_L_5_SMC_AT-avgref  \n6              ECOG_L_6_SMC_AT-avgref  \n7                              EEG_AO  \n8     LFP_L_1_STN_BS-LFP_L_567_STN_BS  \n9     LFP_L_234_STN_BS-LFP_L_1_STN_BS  \n10  LFP_L_567_STN_BS-LFP_L_234_STN_BS  \n11  LFP_R_234_STN_BS-LFP_R_567_STN_BS  \n12  LFP_R_567_STN_BS-LFP_R_234_STN_BS  \n13                   SQUARED_ARTIFACT  \n14                   SQUARED_ROTATION  ",
      "text/html": "<div>\n<style scoped>\n    .dataframe tbody tr th:only-of-type {\n        vertical-align: middle;\n    }\n\n    .dataframe tbody tr th {\n        vertical-align: top;\n    }\n\n    .dataframe thead th {\n        text-align: right;\n    }\n</style>\n<table border=\"1\" class=\"dataframe\">\n  <thead>\n    <tr style=\"text-align: right;\">\n      <th></th>\n      <th>name</th>\n      <th>rereference</th>\n      <th>used</th>\n      <th>target</th>\n      <th>type</th>\n      <th>status</th>\n      <th>new_name</th>\n    </tr>\n  </thead>\n  <tbody>\n    <tr>\n      <th>0</th>\n      <td>ANALOG_R_ROTA_CH</td>\n      <td>None</td>\n      <td>0</td>\n      <td>0</td>\n      <td>misc</td>\n      <td>good</td>\n      <td>ANALOG_R_ROTA_CH</td>\n    </tr>\n    <tr>\n      <th>1</th>\n      <td>ECOG_L_1_SMC_AT</td>\n      <td>average</td>\n      <td>1</td>\n      <td>0</td>\n      <td>ecog</td>\n      <td>good</td>\n      <td>ECOG_L_1_SMC_AT-avgref</td>\n    </tr>\n    <tr>\n      <th>2</th>\n      <td>ECOG_L_2_SMC_AT</td>\n      <td>average</td>\n      <td>1</td>\n      <td>0</td>\n      <td>ecog</td>\n      <td>good</td>\n      <td>ECOG_L_2_SMC_AT-avgref</td>\n    </tr>\n    <tr>\n      <th>3</th>\n      <td>ECOG_L_3_SMC_AT</td>\n      <td>average</td>\n      <td>1</td>\n      <td>0</td>\n      <td>ecog</td>\n      <td>good</td>\n      <td>ECOG_L_3_SMC_AT-avgref</td>\n    </tr>\n    <tr>\n      <th>4</th>\n      <td>ECOG_L_4_SMC_AT</td>\n      <td>average</td>\n      <td>1</td>\n      <td>0</td>\n      <td>ecog</td>\n      <td>good</td>\n      <td>ECOG_L_4_SMC_AT-avgref</td>\n    </tr>\n    <tr>\n      <th>5</th>\n      <td>ECOG_L_5_SMC_AT</td>\n      <td>average</td>\n      <td>1</td>\n      <td>0</td>\n      <td>ecog</td>\n      <td>good</td>\n      <td>ECOG_L_5_SMC_AT-avgref</td>\n    </tr>\n    <tr>\n      <th>6</th>\n      <td>ECOG_L_6_SMC_AT</td>\n      <td>average</td>\n      <td>1</td>\n      <td>0</td>\n      <td>ecog</td>\n      <td>good</td>\n      <td>ECOG_L_6_SMC_AT-avgref</td>\n    </tr>\n    <tr>\n      <th>7</th>\n      <td>EEG_AO</td>\n      <td>None</td>\n      <td>0</td>\n      <td>0</td>\n      <td>misc</td>\n      <td>good</td>\n      <td>EEG_AO</td>\n    </tr>\n    <tr>\n      <th>8</th>\n      <td>LFP_L_1_STN_BS</td>\n      <td>LFP_L_567_STN_BS</td>\n      <td>1</td>\n      <td>0</td>\n      <td>seeg</td>\n      <td>good</td>\n      <td>LFP_L_1_STN_BS-LFP_L_567_STN_BS</td>\n    </tr>\n    <tr>\n      <th>9</th>\n      <td>LFP_L_234_STN_BS</td>\n      <td>LFP_L_1_STN_BS</td>\n      <td>1</td>\n      <td>0</td>\n      <td>seeg</td>\n      <td>good</td>\n      <td>LFP_L_234_STN_BS-LFP_L_1_STN_BS</td>\n    </tr>\n    <tr>\n      <th>10</th>\n      <td>LFP_L_567_STN_BS</td>\n      <td>LFP_L_234_STN_BS</td>\n      <td>1</td>\n      <td>0</td>\n      <td>seeg</td>\n      <td>good</td>\n      <td>LFP_L_567_STN_BS-LFP_L_234_STN_BS</td>\n    </tr>\n    <tr>\n      <th>11</th>\n      <td>LFP_R_234_STN_BS</td>\n      <td>LFP_R_567_STN_BS</td>\n      <td>1</td>\n      <td>0</td>\n      <td>seeg</td>\n      <td>good</td>\n      <td>LFP_R_234_STN_BS-LFP_R_567_STN_BS</td>\n    </tr>\n    <tr>\n      <th>12</th>\n      <td>LFP_R_567_STN_BS</td>\n      <td>LFP_R_234_STN_BS</td>\n      <td>1</td>\n      <td>0</td>\n      <td>seeg</td>\n      <td>good</td>\n      <td>LFP_R_567_STN_BS-LFP_R_234_STN_BS</td>\n    </tr>\n    <tr>\n      <th>13</th>\n      <td>SQUARED_ARTIFACT</td>\n      <td>None</td>\n      <td>0</td>\n      <td>0</td>\n      <td>misc</td>\n      <td>good</td>\n      <td>SQUARED_ARTIFACT</td>\n    </tr>\n    <tr>\n      <th>14</th>\n      <td>SQUARED_ROTATION</td>\n      <td>None</td>\n      <td>0</td>\n      <td>1</td>\n      <td>misc</td>\n      <td>good</td>\n      <td>SQUARED_ROTATION</td>\n    </tr>\n  </tbody>\n</table>\n</div>"
     },
     "execution_count": 5,
     "metadata": {},
     "output_type": "execute_result"
    }
   ],
   "source": [
    "nm_channels"
   ],
   "metadata": {
    "collapsed": false,
    "pycharm": {
     "name": "#%%\n"
    }
   }
  },
  {
   "cell_type": "markdown",
   "source": [
    "The data contains depth LFP electrodes from the Subthalamic Nucleus (STN) and a ECoG strip electrode. Bipolar rereferencing was defined by default for the depth electrodes, and common average rereference for the ECoG electrodes. Importantly \"SQUARED_ROTATION\" is used as a target channel. After feature estimation, this channel will be normalized and added in a time aligned manner to the features output csv file."
   ],
   "metadata": {
    "collapsed": false,
    "pycharm": {
     "name": "#%% md\n"
    }
   }
  },
  {
   "cell_type": "markdown",
   "source": [
    "## Feature Estimation"
   ],
   "metadata": {
    "collapsed": false,
    "pycharm": {
     "name": "#%% md\n"
    }
   }
  },
  {
   "cell_type": "code",
   "execution_count": 6,
   "outputs": [],
   "source": [
    "stream = nm.Stream(\n",
    "    settings=None,\n",
    "    nm_channels=nm_channels,\n",
    "    path_grids=None,\n",
    "    verbose=True,\n",
    ")"
   ],
   "metadata": {
    "collapsed": false,
    "pycharm": {
     "name": "#%%\n"
    }
   }
  },
  {
   "cell_type": "markdown",
   "source": [
    "When the Stream class is initialized with \"settings=None\", the settings for the feature estimation are imported from the nm_settings.json file. In the cell below we display those settings:"
   ],
   "metadata": {
    "collapsed": false,
    "pycharm": {
     "name": "#%% md\n"
    }
   }
  },
  {
   "cell_type": "code",
   "execution_count": 7,
   "outputs": [
    {
     "data": {
      "text/plain": "{'sampling_rate_features_hz': 10,\n 'segment_length_features_ms': 1000,\n 'preprocessing': {'raw_resampling': True,\n  'raw_normalization': True,\n  're_referencing': True,\n  'notch_filter': True,\n  'preprocessing_order': ['raw_resampling',\n   'notch_filter',\n   're_referencing',\n   'raw_normalization']},\n 'features': {'raw_hjorth': True,\n  'return_raw': True,\n  'bandpass_filter': True,\n  'stft': True,\n  'fft': True,\n  'sharpwave_analysis': True,\n  'coherence': True,\n  'fooof': True,\n  'nolds': True,\n  'bursts': True},\n 'postprocessing': {'feature_normalization': True,\n  'project_cortex': True,\n  'project_subcortex': True},\n 'raw_resampling_settings': {'resample_freq_hz': 1000},\n 'raw_normalization_settings': {'normalization_time_s': 30,\n  'normalization_method': 'zscore',\n  'clip': 3},\n 'feature_normalization_settings': {'normalization_time_s': 30,\n  'normalization_method': 'zscore',\n  'clip': 3},\n 'frequency_ranges_hz': {'theta': [4, 8],\n  'alpha': [8, 12],\n  'low beta': [13, 20],\n  'high beta': [20, 35],\n  'low gamma': [60, 80],\n  'high gamma': [90, 200],\n  'HFA': [200, 400]},\n 'bandpass_filter_settings': {'segment_lengths_ms': {'theta': 1000,\n   'alpha': 500,\n   'low beta': 333,\n   'high beta': 333,\n   'low gamma': 100,\n   'high gamma': 100,\n   'HFA': 100},\n  'bandpower_features': {'activity': True,\n   'mobility': False,\n   'complexity': False},\n  'log_transform': True,\n  'kalman_filter': True},\n 'kalman_filter_settings': {'Tp': 0.1,\n  'sigma_w': 0.7,\n  'sigma_v': 1,\n  'frequency_bands': ['theta',\n   'alpha',\n   'low beta',\n   'high beta',\n   'low gamma',\n   'high gamma',\n   'HFA']},\n 'burst_settings': {'threshold': 75,\n  'time_duration_s': 30,\n  'frequency_bands': ['low beta', 'high beta', 'low gamma'],\n  'burst_features': {'duration': True,\n   'amplitude': True,\n   'burst_rate_per_s': True,\n   'in_burst': True}},\n 'stft_settings': {'windowlength_ms': 500,\n  'log_transform': True,\n  'kalman_filter': True},\n 'fft_settings': {'windowlength_ms': 1000,\n  'log_transform': True,\n  'kalman_filter': True},\n 'sharpwave_analysis_settings': {'sharpwave_features': {'peak_left': False,\n   'peak_right': False,\n   'trough': False,\n   'width': False,\n   'prominence': True,\n   'interval': True,\n   'decay_time': False,\n   'rise_time': False,\n   'sharpness': True,\n   'rise_steepness': False,\n   'decay_steepness': False,\n   'slope_ratio': False},\n  'filter_ranges_hz': [[5, 80], [5, 30]],\n  'detect_troughs': {'estimate': True,\n   'distance_troughs_ms': 10,\n   'distance_peaks_ms': 5},\n  'detect_peaks': {'estimate': True,\n   'distance_troughs_ms': 5,\n   'distance_peaks_ms': 10},\n  'estimator': {'mean': ['interval'],\n   'median': None,\n   'max': ['prominence', 'sharpness'],\n   'min': None,\n   'var': None},\n  'apply_estimator_between_peaks_and_troughs': True},\n 'project_cortex_settings': {'max_dist_cm': 20},\n 'project_subcortex_settings': {'max_dist_cm': 5},\n 'coherence': {'channels': [['LFP_L_1_STN_BS', 'ECOG_L_4_SMC_AT']],\n  'frequency_bands': ['high beta'],\n  'method': {'coh': True, 'icoh': True},\n  'params': {'window': 'hann'}},\n 'fooof': {'aperiodic': {'exponent': True, 'offset': True},\n  'periodic': {'center_frequency': True,\n   'band_width': True,\n   'height_over_ap': True},\n  'windowlength_ms': 800,\n  'peak_width_limits': [0.5, 12],\n  'max_n_peaks': 3,\n  'min_peak_height': 0,\n  'peak_threshold': 2,\n  'freq_range_hz': [2, 40],\n  'knee': True},\n 'nolds_features': {'sample_entropy': True,\n  'correlation_dimension': True,\n  'lyapunov_exponent': True,\n  'hurst_exponent': True,\n  'detrended_fluctutaion_analysis': True,\n  'data': {'raw': True,\n   'frequency_bands': ['theta',\n    'alpha',\n    'low beta',\n    'high beta',\n    'low gamma',\n    'high gamma',\n    'HFA']}}}"
     },
     "execution_count": 7,
     "metadata": {},
     "output_type": "execute_result"
    }
   ],
   "source": [
    "stream.settings"
   ],
   "metadata": {
    "collapsed": false,
    "pycharm": {
     "name": "#%%\n"
    }
   }
  },
  {
   "cell_type": "markdown",
   "source": [
    "Now, if the user wants to use a different set of settings, they can either change the nm_settings.json file, or from the script alter them.\n",
    "\n",
    "Here, we first use stream.reset_settings(), which sets the preprocessing steps to false, as well as the desired features and the postprocessing steps. In that way, we need to select all steps from preprocessing, feature estimation and postprocessing that we want to perform."
   ],
   "metadata": {
    "collapsed": false,
    "pycharm": {
     "name": "#%% md\n"
    }
   }
  },
  {
   "cell_type": "code",
   "execution_count": 8,
   "outputs": [
    {
     "data": {
      "text/plain": "{'sampling_rate_features_hz': 10,\n 'segment_length_features_ms': 1000,\n 'preprocessing': {'raw_resampling': False,\n  'raw_normalization': False,\n  're_referencing': False,\n  'notch_filter': False,\n  'preprocessing_order': []},\n 'features': {'raw_hjorth': False,\n  'return_raw': False,\n  'bandpass_filter': False,\n  'stft': False,\n  'fft': False,\n  'sharpwave_analysis': False,\n  'coherence': False,\n  'fooof': False,\n  'nolds': False,\n  'bursts': False},\n 'postprocessing': {'feature_normalization': False,\n  'project_cortex': False,\n  'project_subcortex': False},\n 'raw_resampling_settings': {'resample_freq_hz': 1000},\n 'raw_normalization_settings': {'normalization_time_s': 30,\n  'normalization_method': 'zscore',\n  'clip': 3},\n 'feature_normalization_settings': {'normalization_time_s': 30,\n  'normalization_method': 'zscore',\n  'clip': 3},\n 'frequency_ranges_hz': {'theta': [4, 8],\n  'alpha': [8, 12],\n  'low beta': [13, 20],\n  'high beta': [20, 35],\n  'low gamma': [60, 80],\n  'high gamma': [90, 200],\n  'HFA': [200, 400]},\n 'bandpass_filter_settings': {'segment_lengths_ms': {'theta': 1000,\n   'alpha': 500,\n   'low beta': 333,\n   'high beta': 333,\n   'low gamma': 100,\n   'high gamma': 100,\n   'HFA': 100},\n  'bandpower_features': {'activity': True,\n   'mobility': False,\n   'complexity': False},\n  'log_transform': True,\n  'kalman_filter': True},\n 'kalman_filter_settings': {'Tp': 0.1,\n  'sigma_w': 0.7,\n  'sigma_v': 1,\n  'frequency_bands': ['theta',\n   'alpha',\n   'low beta',\n   'high beta',\n   'low gamma',\n   'high gamma',\n   'HFA']},\n 'burst_settings': {'threshold': 75,\n  'time_duration_s': 30,\n  'frequency_bands': ['low beta', 'high beta', 'low gamma'],\n  'burst_features': {'duration': True,\n   'amplitude': True,\n   'burst_rate_per_s': True,\n   'in_burst': True}},\n 'stft_settings': {'windowlength_ms': 500,\n  'log_transform': True,\n  'kalman_filter': True},\n 'fft_settings': {'windowlength_ms': 1000,\n  'log_transform': True,\n  'kalman_filter': True},\n 'sharpwave_analysis_settings': {'sharpwave_features': {'peak_left': False,\n   'peak_right': False,\n   'trough': False,\n   'width': False,\n   'prominence': True,\n   'interval': True,\n   'decay_time': False,\n   'rise_time': False,\n   'sharpness': True,\n   'rise_steepness': False,\n   'decay_steepness': False,\n   'slope_ratio': False},\n  'filter_ranges_hz': [[5, 80], [5, 30]],\n  'detect_troughs': {'estimate': True,\n   'distance_troughs_ms': 10,\n   'distance_peaks_ms': 5},\n  'detect_peaks': {'estimate': True,\n   'distance_troughs_ms': 5,\n   'distance_peaks_ms': 10},\n  'estimator': {'mean': ['interval'],\n   'median': None,\n   'max': ['prominence', 'sharpness'],\n   'min': None,\n   'var': None},\n  'apply_estimator_between_peaks_and_troughs': True},\n 'project_cortex_settings': {'max_dist_cm': 20},\n 'project_subcortex_settings': {'max_dist_cm': 5},\n 'coherence': {'channels': [['LFP_L_1_STN_BS', 'ECOG_L_4_SMC_AT']],\n  'frequency_bands': ['high beta'],\n  'method': {'coh': True, 'icoh': True},\n  'params': {'window': 'hann'}},\n 'fooof': {'aperiodic': {'exponent': True, 'offset': True},\n  'periodic': {'center_frequency': True,\n   'band_width': True,\n   'height_over_ap': True},\n  'windowlength_ms': 800,\n  'peak_width_limits': [0.5, 12],\n  'max_n_peaks': 3,\n  'min_peak_height': 0,\n  'peak_threshold': 2,\n  'freq_range_hz': [2, 40],\n  'knee': True},\n 'nolds_features': {'sample_entropy': True,\n  'correlation_dimension': True,\n  'lyapunov_exponent': True,\n  'hurst_exponent': True,\n  'detrended_fluctutaion_analysis': True,\n  'data': {'raw': True,\n   'frequency_bands': ['theta',\n    'alpha',\n    'low beta',\n    'high beta',\n    'low gamma',\n    'high gamma',\n    'HFA']}}}"
     },
     "execution_count": 8,
     "metadata": {},
     "output_type": "execute_result"
    }
   ],
   "source": [
    "stream.reset_settings()\n",
    "stream.settings"
   ],
   "metadata": {
    "collapsed": false,
    "pycharm": {
     "name": "#%%\n"
    }
   }
  },
  {
   "cell_type": "markdown",
   "source": [
    "Now we manually set to True all steps that we want to be performed in the feature estimation."
   ],
   "metadata": {
    "collapsed": false,
    "pycharm": {
     "name": "#%% md\n"
    }
   }
  },
  {
   "cell_type": "code",
   "execution_count": 9,
   "outputs": [],
   "source": [
    "# We first take care of the preprocessing steps - and here we want to perform all of them in the order given by stream.settings['preprocessing']['preprocessing_order']\n",
    "\n",
    "stream.settings['preprocessing']['raw_resampling'] = True\n",
    "stream.settings['preprocessing']['raw_normalization'] = True\n",
    "stream.settings['preprocessing']['re_referencing'] = True\n",
    "stream.settings['preprocessing']['notch_filter'] = True\n",
    "stream.settings['preprocessing']['preprocessing_order'] = [\n",
    "            \"raw_resampling\",\n",
    "            \"notch_filter\",\n",
    "            \"re_referencing\",\n",
    "            \"raw_normalization\"\n",
    "        ]\n",
    "\n",
    "# Now we focus on the features that we want to estimate:\n",
    "\n",
    "stream.settings['features']['raw_hjorth'] = True\n",
    "stream.settings['features']['bandpass_filter'] = True\n",
    "stream.settings['features']['fft'] = True\n",
    "stream.settings['features']['sharpwave_analysis'] = True\n",
    "stream.settings['features']['fooof'] = True\n",
    "\n",
    "# Then we set the postprocessing steps\n",
    "stream.settings['postprocessing']['feature_normalization'] = False\n",
    "stream.settings['postprocessing']['project_cortex'] = True\n",
    "stream.settings['postprocessing']['project_subcortex'] = True"
   ],
   "metadata": {
    "collapsed": false,
    "pycharm": {
     "name": "#%%\n"
    }
   }
  },
  {
   "cell_type": "markdown",
   "source": [
    "One can also change the settings related to those steps by accessing the correspondent keys, for example:"
   ],
   "metadata": {
    "collapsed": false,
    "pycharm": {
     "name": "#%% md\n"
    }
   }
  },
  {
   "cell_type": "code",
   "execution_count": 10,
   "outputs": [],
   "source": [
    "# One can also change the settings related to those steps, for example:\n",
    "stream.settings['bandpass_filter_settings'][\"kalman_filter\"] = True"
   ],
   "metadata": {
    "collapsed": false,
    "pycharm": {
     "name": "#%%\n"
    }
   }
  },
  {
   "cell_type": "code",
   "execution_count": 11,
   "outputs": [
    {
     "data": {
      "text/plain": "{'sampling_rate_features_hz': 10,\n 'segment_length_features_ms': 1000,\n 'preprocessing': {'raw_resampling': True,\n  'raw_normalization': True,\n  're_referencing': True,\n  'notch_filter': True,\n  'preprocessing_order': ['raw_resampling',\n   'notch_filter',\n   're_referencing',\n   'raw_normalization']},\n 'features': {'raw_hjorth': True,\n  'return_raw': False,\n  'bandpass_filter': True,\n  'stft': False,\n  'fft': True,\n  'sharpwave_analysis': True,\n  'coherence': False,\n  'fooof': True,\n  'nolds': False,\n  'bursts': False},\n 'postprocessing': {'feature_normalization': False,\n  'project_cortex': True,\n  'project_subcortex': True},\n 'raw_resampling_settings': {'resample_freq_hz': 1000},\n 'raw_normalization_settings': {'normalization_time_s': 30,\n  'normalization_method': 'zscore',\n  'clip': 3},\n 'feature_normalization_settings': {'normalization_time_s': 30,\n  'normalization_method': 'zscore',\n  'clip': 3},\n 'frequency_ranges_hz': {'theta': [4, 8],\n  'alpha': [8, 12],\n  'low beta': [13, 20],\n  'high beta': [20, 35],\n  'low gamma': [60, 80],\n  'high gamma': [90, 200],\n  'HFA': [200, 400]},\n 'bandpass_filter_settings': {'segment_lengths_ms': {'theta': 1000,\n   'alpha': 500,\n   'low beta': 333,\n   'high beta': 333,\n   'low gamma': 100,\n   'high gamma': 100,\n   'HFA': 100},\n  'bandpower_features': {'activity': True,\n   'mobility': False,\n   'complexity': False},\n  'log_transform': True,\n  'kalman_filter': True},\n 'kalman_filter_settings': {'Tp': 0.1,\n  'sigma_w': 0.7,\n  'sigma_v': 1,\n  'frequency_bands': ['theta',\n   'alpha',\n   'low beta',\n   'high beta',\n   'low gamma',\n   'high gamma',\n   'HFA']},\n 'burst_settings': {'threshold': 75,\n  'time_duration_s': 30,\n  'frequency_bands': ['low beta', 'high beta', 'low gamma'],\n  'burst_features': {'duration': True,\n   'amplitude': True,\n   'burst_rate_per_s': True,\n   'in_burst': True}},\n 'stft_settings': {'windowlength_ms': 500,\n  'log_transform': True,\n  'kalman_filter': True},\n 'fft_settings': {'windowlength_ms': 1000,\n  'log_transform': True,\n  'kalman_filter': True},\n 'sharpwave_analysis_settings': {'sharpwave_features': {'peak_left': False,\n   'peak_right': False,\n   'trough': False,\n   'width': False,\n   'prominence': True,\n   'interval': True,\n   'decay_time': False,\n   'rise_time': False,\n   'sharpness': True,\n   'rise_steepness': False,\n   'decay_steepness': False,\n   'slope_ratio': False},\n  'filter_ranges_hz': [[5, 80], [5, 30]],\n  'detect_troughs': {'estimate': True,\n   'distance_troughs_ms': 10,\n   'distance_peaks_ms': 5},\n  'detect_peaks': {'estimate': True,\n   'distance_troughs_ms': 5,\n   'distance_peaks_ms': 10},\n  'estimator': {'mean': ['interval'],\n   'median': None,\n   'max': ['prominence', 'sharpness'],\n   'min': None,\n   'var': None},\n  'apply_estimator_between_peaks_and_troughs': True},\n 'project_cortex_settings': {'max_dist_cm': 20},\n 'project_subcortex_settings': {'max_dist_cm': 5},\n 'coherence': {'channels': [['LFP_L_1_STN_BS', 'ECOG_L_4_SMC_AT']],\n  'frequency_bands': ['high beta'],\n  'method': {'coh': True, 'icoh': True},\n  'params': {'window': 'hann'}},\n 'fooof': {'aperiodic': {'exponent': True, 'offset': True},\n  'periodic': {'center_frequency': True,\n   'band_width': True,\n   'height_over_ap': True},\n  'windowlength_ms': 800,\n  'peak_width_limits': [0.5, 12],\n  'max_n_peaks': 3,\n  'min_peak_height': 0,\n  'peak_threshold': 2,\n  'freq_range_hz': [2, 40],\n  'knee': True},\n 'nolds_features': {'sample_entropy': True,\n  'correlation_dimension': True,\n  'lyapunov_exponent': True,\n  'hurst_exponent': True,\n  'detrended_fluctutaion_analysis': True,\n  'data': {'raw': True,\n   'frequency_bands': ['theta',\n    'alpha',\n    'low beta',\n    'high beta',\n    'low gamma',\n    'high gamma',\n    'HFA']}}}"
     },
     "execution_count": 11,
     "metadata": {},
     "output_type": "execute_result"
    }
   ],
   "source": [
    "# Now we can check the final settings before running the analysis:\n",
    "stream.settings"
   ],
   "metadata": {
    "collapsed": false,
    "pycharm": {
     "name": "#%%\n"
    }
   }
  },
  {
   "cell_type": "markdown",
   "source": [
    "And then we run the analysis:"
   ],
   "metadata": {
    "collapsed": false,
    "pycharm": {
     "name": "#%% md\n"
    }
   }
  },
  {
   "cell_type": "code",
   "execution_count": 12,
   "outputs": [
    {
     "name": "stdout",
     "output_type": "stream",
     "text": [
      "No Error occurred when testing the settings.\n",
      "No data specified. Sanity checks related to the length of the signal relative to the filter order will be skipped.\n",
      "Setting up band-stop filter\n",
      "\n",
      "FIR filter parameters\n",
      "---------------------\n",
      "Designing a one-pass, zero-phase, non-causal bandstop filter:\n",
      "- Windowed time-domain design (firwin) method\n",
      "- Hamming window with 0.0194 passband ripple and 53 dB stopband attenuation\n",
      "- Lower transition bandwidth: 7.50 Hz\n",
      "- Upper transition bandwidth: 7.50 Hz\n",
      "- Filter length: 999 samples (0.999 sec)\n",
      "\n",
      "Last batch took: 0.38 seconds\n",
      "1.0 seconds of data processed\n",
      "Last batch took: 0.28 seconds\n",
      "1.1 seconds of data processed\n",
      "Last batch took: 0.37 seconds\n",
      "1.2 seconds of data processed\n",
      "Last batch took: 0.45 seconds\n",
      "1.3 seconds of data processed\n",
      "Last batch took: 0.34 seconds\n",
      "1.4 seconds of data processed\n",
      "Last batch took: 0.41 seconds\n",
      "1.5 seconds of data processed\n",
      "Last batch took: 0.3 seconds\n",
      "1.6 seconds of data processed\n",
      "Last batch took: 0.34 seconds\n",
      "1.7 seconds of data processed\n",
      "Last batch took: 0.27 seconds\n",
      "1.8 seconds of data processed\n",
      "Last batch took: 0.31 seconds\n",
      "1.9 seconds of data processed\n",
      "Last batch took: 0.4 seconds\n",
      "2.0 seconds of data processed\n",
      "Last batch took: 0.33 seconds\n",
      "2.1 seconds of data processed\n",
      "Last batch took: 0.33 seconds\n",
      "2.2 seconds of data processed\n",
      "Last batch took: 0.33 seconds\n",
      "2.3 seconds of data processed\n",
      "Last batch took: 0.66 seconds\n",
      "2.4 seconds of data processed\n",
      "Last batch took: 0.41 seconds\n",
      "2.5 seconds of data processed\n",
      "Last batch took: 0.3 seconds\n",
      "2.6 seconds of data processed\n",
      "Last batch took: 0.26 seconds\n",
      "2.7 seconds of data processed\n",
      "Last batch took: 0.4 seconds\n",
      "2.8 seconds of data processed\n",
      "Last batch took: 0.3 seconds\n",
      "2.9 seconds of data processed\n",
      "Last batch took: 0.34 seconds\n",
      "3.0 seconds of data processed\n",
      "Last batch took: 0.47 seconds\n",
      "3.1 seconds of data processed\n",
      "Last batch took: 0.26 seconds\n",
      "3.2 seconds of data processed\n",
      "Last batch took: 0.22 seconds\n",
      "3.3 seconds of data processed\n",
      "Last batch took: 0.3 seconds\n",
      "3.4 seconds of data processed\n",
      "Last batch took: 0.44 seconds\n",
      "3.5 seconds of data processed\n",
      "Last batch took: 0.31 seconds\n",
      "3.6 seconds of data processed\n",
      "Last batch took: 0.46 seconds\n",
      "3.7 seconds of data processed\n",
      "Last batch took: 0.31 seconds\n",
      "3.8 seconds of data processed\n",
      "Last batch took: 0.26 seconds\n",
      "3.9 seconds of data processed\n",
      "Last batch took: 0.28 seconds\n",
      "4.0 seconds of data processed\n",
      "Last batch took: 0.42 seconds\n",
      "4.1 seconds of data processed\n",
      "Last batch took: 0.39 seconds\n",
      "4.2 seconds of data processed\n",
      "Last batch took: 0.41 seconds\n",
      "4.3 seconds of data processed\n",
      "Last batch took: 0.32 seconds\n",
      "4.4 seconds of data processed\n",
      "Last batch took: 0.44 seconds\n",
      "4.5 seconds of data processed\n",
      "Last batch took: 0.42 seconds\n",
      "4.6 seconds of data processed\n",
      "Last batch took: 0.43 seconds\n",
      "4.7 seconds of data processed\n",
      "Last batch took: 0.44 seconds\n",
      "4.8 seconds of data processed\n",
      "Last batch took: 0.43 seconds\n",
      "4.9 seconds of data processed\n",
      "Last batch took: 0.25 seconds\n",
      "5.0 seconds of data processed\n",
      "Last batch took: 0.5 seconds\n",
      "5.1 seconds of data processed\n",
      "Last batch took: 0.38 seconds\n",
      "5.2 seconds of data processed\n",
      "Last batch took: 0.38 seconds\n",
      "5.3 seconds of data processed\n",
      "Last batch took: 0.31 seconds\n",
      "5.4 seconds of data processed\n",
      "Last batch took: 0.41 seconds\n",
      "5.5 seconds of data processed\n",
      "Last batch took: 0.39 seconds\n",
      "5.6 seconds of data processed\n",
      "Last batch took: 0.38 seconds\n",
      "5.7 seconds of data processed\n",
      "Last batch took: 0.27 seconds\n",
      "5.8 seconds of data processed\n",
      "Last batch took: 0.5 seconds\n",
      "5.9 seconds of data processed\n",
      "Last batch took: 0.23 seconds\n",
      "6.0 seconds of data processed\n",
      "Last batch took: 0.3 seconds\n",
      "6.1 seconds of data processed\n",
      "Last batch took: 0.32 seconds\n",
      "6.2 seconds of data processed\n",
      "Last batch took: 0.32 seconds\n",
      "6.3 seconds of data processed\n",
      "Last batch took: 0.27 seconds\n",
      "6.4 seconds of data processed\n",
      "Last batch took: 0.31 seconds\n",
      "6.5 seconds of data processed\n",
      "Last batch took: 0.24 seconds\n",
      "6.6 seconds of data processed\n",
      "Last batch took: 0.4 seconds\n",
      "6.7 seconds of data processed\n",
      "Last batch took: 0.48 seconds\n",
      "6.8 seconds of data processed\n",
      "Last batch took: 0.37 seconds\n",
      "6.9 seconds of data processed\n",
      "Last batch took: 0.31 seconds\n",
      "7.0 seconds of data processed\n",
      "Last batch took: 0.26 seconds\n",
      "7.1 seconds of data processed\n",
      "Last batch took: 0.35 seconds\n",
      "7.2 seconds of data processed\n",
      "Last batch took: 0.56 seconds\n",
      "7.3 seconds of data processed\n",
      "Last batch took: 0.24 seconds\n",
      "7.4 seconds of data processed\n",
      "Last batch took: 0.33 seconds\n",
      "7.5 seconds of data processed\n",
      "Last batch took: 0.35 seconds\n",
      "7.6 seconds of data processed\n",
      "Last batch took: 0.32 seconds\n",
      "7.7 seconds of data processed\n",
      "Last batch took: 0.31 seconds\n",
      "7.8 seconds of data processed\n",
      "Last batch took: 0.42 seconds\n",
      "7.9 seconds of data processed\n",
      "Last batch took: 0.41 seconds\n",
      "8.0 seconds of data processed\n",
      "Last batch took: 0.25 seconds\n",
      "8.1 seconds of data processed\n",
      "Last batch took: 0.47 seconds\n",
      "8.2 seconds of data processed\n",
      "Last batch took: 0.27 seconds\n",
      "8.3 seconds of data processed\n",
      "Last batch took: 0.28 seconds\n",
      "8.4 seconds of data processed\n",
      "Last batch took: 0.29 seconds\n",
      "8.5 seconds of data processed\n",
      "Last batch took: 0.4 seconds\n",
      "8.6 seconds of data processed\n",
      "Last batch took: 0.42 seconds\n",
      "8.7 seconds of data processed\n",
      "Last batch took: 0.52 seconds\n",
      "8.8 seconds of data processed\n",
      "Last batch took: 0.28 seconds\n",
      "8.9 seconds of data processed\n",
      "Last batch took: 0.44 seconds\n",
      "9.0 seconds of data processed\n",
      "Last batch took: 0.42 seconds\n",
      "9.1 seconds of data processed\n",
      "Last batch took: 0.32 seconds\n",
      "9.2 seconds of data processed\n",
      "Last batch took: 0.27 seconds\n",
      "9.3 seconds of data processed\n",
      "Last batch took: 0.32 seconds\n",
      "9.4 seconds of data processed\n",
      "Last batch took: 0.36 seconds\n",
      "9.5 seconds of data processed\n",
      "Last batch took: 0.52 seconds\n",
      "9.6 seconds of data processed\n",
      "Last batch took: 0.31 seconds\n",
      "9.7 seconds of data processed\n",
      "Last batch took: 0.47 seconds\n",
      "9.8 seconds of data processed\n",
      "Last batch took: 0.38 seconds\n",
      "9.9 seconds of data processed\n",
      "Last batch took: 0.33 seconds\n",
      "10.0 seconds of data processed\n",
      "Last batch took: 0.36 seconds\n",
      "10.1 seconds of data processed\n",
      "Last batch took: 0.47 seconds\n",
      "10.2 seconds of data processed\n",
      "Last batch took: 0.46 seconds\n",
      "10.3 seconds of data processed\n",
      "Last batch took: 0.49 seconds\n",
      "10.4 seconds of data processed\n",
      "Last batch took: 0.31 seconds\n",
      "10.5 seconds of data processed\n",
      "Last batch took: 0.32 seconds\n",
      "10.6 seconds of data processed\n",
      "Last batch took: 0.31 seconds\n",
      "10.7 seconds of data processed\n",
      "Last batch took: 0.34 seconds\n",
      "10.8 seconds of data processed\n",
      "Last batch took: 0.35 seconds\n",
      "10.9 seconds of data processed\n",
      "Last batch took: 0.35 seconds\n",
      "11.0 seconds of data processed\n",
      "Last batch took: 0.29 seconds\n",
      "11.1 seconds of data processed\n",
      "Last batch took: 0.31 seconds\n",
      "11.2 seconds of data processed\n",
      "Last batch took: 0.43 seconds\n",
      "11.3 seconds of data processed\n",
      "Last batch took: 0.53 seconds\n",
      "11.4 seconds of data processed\n",
      "Last batch took: 0.43 seconds\n",
      "11.5 seconds of data processed\n",
      "Last batch took: 0.37 seconds\n",
      "11.6 seconds of data processed\n",
      "Last batch took: 0.3 seconds\n",
      "11.7 seconds of data processed\n",
      "Last batch took: 0.32 seconds\n",
      "11.8 seconds of data processed\n",
      "Last batch took: 0.27 seconds\n",
      "11.9 seconds of data processed\n",
      "Last batch took: 0.34 seconds\n",
      "12.0 seconds of data processed\n",
      "Last batch took: 0.52 seconds\n",
      "12.1 seconds of data processed\n",
      "Last batch took: 0.27 seconds\n",
      "12.2 seconds of data processed\n",
      "Last batch took: 0.3 seconds\n",
      "12.3 seconds of data processed\n",
      "Last batch took: 0.23 seconds\n",
      "12.4 seconds of data processed\n",
      "Last batch took: 0.36 seconds\n",
      "12.5 seconds of data processed\n",
      "Last batch took: 0.34 seconds\n",
      "12.6 seconds of data processed\n",
      "Last batch took: 0.38 seconds\n",
      "12.7 seconds of data processed\n",
      "Last batch took: 0.3 seconds\n",
      "12.8 seconds of data processed\n",
      "Last batch took: 0.42 seconds\n",
      "12.9 seconds of data processed\n",
      "Last batch took: 0.37 seconds\n",
      "13.0 seconds of data processed\n",
      "Last batch took: 0.28 seconds\n",
      "13.1 seconds of data processed\n",
      "Last batch took: 0.45 seconds\n",
      "13.2 seconds of data processed\n",
      "Last batch took: 0.37 seconds\n",
      "13.3 seconds of data processed\n",
      "Last batch took: 0.36 seconds\n",
      "13.4 seconds of data processed\n",
      "Last batch took: 0.36 seconds\n",
      "13.5 seconds of data processed\n",
      "Last batch took: 0.31 seconds\n",
      "13.6 seconds of data processed\n",
      "Last batch took: 0.55 seconds\n",
      "13.7 seconds of data processed\n",
      "Last batch took: 0.33 seconds\n",
      "13.8 seconds of data processed\n",
      "Last batch took: 0.42 seconds\n",
      "13.9 seconds of data processed\n",
      "Last batch took: 0.46 seconds\n",
      "14.0 seconds of data processed\n",
      "Last batch took: 0.38 seconds\n",
      "14.1 seconds of data processed\n",
      "Last batch took: 0.41 seconds\n",
      "14.2 seconds of data processed\n",
      "Last batch took: 0.55 seconds\n",
      "14.3 seconds of data processed\n",
      "Last batch took: 0.36 seconds\n",
      "14.4 seconds of data processed\n",
      "Last batch took: 0.37 seconds\n",
      "14.5 seconds of data processed\n",
      "Last batch took: 0.29 seconds\n",
      "14.6 seconds of data processed\n",
      "Last batch took: 0.36 seconds\n",
      "14.7 seconds of data processed\n",
      "Last batch took: 0.36 seconds\n",
      "14.8 seconds of data processed\n",
      "Last batch took: 0.4 seconds\n",
      "14.9 seconds of data processed\n",
      "Last batch took: 0.21 seconds\n",
      "15.0 seconds of data processed\n",
      "Last batch took: 0.21 seconds\n",
      "15.1 seconds of data processed\n",
      "Last batch took: 0.5 seconds\n",
      "15.2 seconds of data processed\n",
      "Last batch took: 0.56 seconds\n",
      "15.3 seconds of data processed\n",
      "Last batch took: 0.38 seconds\n",
      "15.4 seconds of data processed\n",
      "Last batch took: 0.56 seconds\n",
      "15.5 seconds of data processed\n",
      "Last batch took: 0.49 seconds\n",
      "15.6 seconds of data processed\n",
      "Last batch took: 0.34 seconds\n",
      "15.7 seconds of data processed\n",
      "Last batch took: 0.4 seconds\n",
      "15.8 seconds of data processed\n",
      "Last batch took: 0.34 seconds\n",
      "15.9 seconds of data processed\n",
      "Last batch took: 0.55 seconds\n",
      "16.0 seconds of data processed\n",
      "Last batch took: 0.47 seconds\n",
      "16.1 seconds of data processed\n",
      "Last batch took: 0.42 seconds\n",
      "16.2 seconds of data processed\n",
      "Last batch took: 0.33 seconds\n",
      "16.3 seconds of data processed\n",
      "Last batch took: 0.48 seconds\n",
      "16.4 seconds of data processed\n",
      "Last batch took: 0.29 seconds\n",
      "16.5 seconds of data processed\n",
      "Last batch took: 0.25 seconds\n",
      "16.6 seconds of data processed\n",
      "Last batch took: 0.34 seconds\n",
      "16.7 seconds of data processed\n",
      "Last batch took: 0.31 seconds\n",
      "16.8 seconds of data processed\n",
      "Last batch took: 0.45 seconds\n",
      "16.9 seconds of data processed\n",
      "Last batch took: 0.31 seconds\n",
      "17.0 seconds of data processed\n",
      "Last batch took: 0.33 seconds\n",
      "17.1 seconds of data processed\n",
      "Last batch took: 0.43 seconds\n",
      "17.2 seconds of data processed\n",
      "Last batch took: 0.41 seconds\n",
      "17.3 seconds of data processed\n",
      "Last batch took: 0.24 seconds\n",
      "17.4 seconds of data processed\n",
      "Last batch took: 0.34 seconds\n",
      "17.5 seconds of data processed\n",
      "Last batch took: 0.31 seconds\n",
      "17.6 seconds of data processed\n",
      "Last batch took: 0.31 seconds\n",
      "17.7 seconds of data processed\n",
      "Last batch took: 0.32 seconds\n",
      "17.8 seconds of data processed\n",
      "Last batch took: 0.27 seconds\n",
      "17.9 seconds of data processed\n",
      "_SIDECAR.json saved to /home/lauraflyra/Documents/BCCN/Lab_Rotation_DBS_Decoding/Code/py_neuromodulation/examples/data/derivatives/sub-testsub_ses-EphysMedOff_task-buttonpress_run-0/sub-testsub_ses-EphysMedOff_task-buttonpress_run-0_SIDECAR.json\n",
      "FEATURES.csv saved to /home/lauraflyra/Documents/BCCN/Lab_Rotation_DBS_Decoding/Code/py_neuromodulation/examples/data/derivatives/sub-testsub_ses-EphysMedOff_task-buttonpress_run-0/sub-testsub_ses-EphysMedOff_task-buttonpress_run-0_FEATURES.csv\n",
      "settings.json saved to /home/lauraflyra/Documents/BCCN/Lab_Rotation_DBS_Decoding/Code/py_neuromodulation/examples/data/derivatives/sub-testsub_ses-EphysMedOff_task-buttonpress_run-0/sub-testsub_ses-EphysMedOff_task-buttonpress_run-0_SETTINGS.json\n",
      "nm_channels.csv saved to /home/lauraflyra/Documents/BCCN/Lab_Rotation_DBS_Decoding/Code/py_neuromodulation/examples/data/derivatives/sub-testsub_ses-EphysMedOff_task-buttonpress_run-0/sub-testsub_ses-EphysMedOff_task-buttonpress_run-0_nm_channels.csv\n"
     ]
    }
   ],
   "source": [
    "stream.init_stream(\n",
    "    sfreq=sfreq,\n",
    "    line_noise=line_noise,\n",
    "    coord_list=coord_list,\n",
    "    coord_names=coord_names,\n",
    ")\n",
    "\n",
    "stream.run(\n",
    "    data=data,\n",
    "    out_path_root=PATH_OUT,\n",
    "    folder_name=RUN_NAME,\n",
    ")"
   ],
   "metadata": {
    "collapsed": false,
    "pycharm": {
     "name": "#%%\n"
    }
   }
  },
  {
   "cell_type": "markdown",
   "source": [
    "## Analysing results"
   ],
   "metadata": {
    "collapsed": false,
    "pycharm": {
     "name": "#%% md\n"
    }
   }
  },
  {
   "cell_type": "code",
   "execution_count": 13,
   "outputs": [],
   "source": [
    "# init analyzer\n",
    "feature_reader = nm_analysis.Feature_Reader(\n",
    "    feature_dir=PATH_OUT, feature_file=RUN_NAME\n",
    ")\n",
    "\n",
    "# plot for a single channel\n",
    "ch_used = feature_reader.nm_channels.query(\n",
    "    '(type==\"ecog\") and (used == 1)'\n",
    ").iloc[0][\"name\"]\n",
    "\n",
    "feature_used = (\n",
    "    \"stft\" if feature_reader.settings[\"features\"][\"stft\"] else \"fft\"\n",
    ")"
   ],
   "metadata": {
    "collapsed": false,
    "pycharm": {
     "name": "#%%\n"
    }
   }
  },
  {
   "cell_type": "code",
   "execution_count": 14,
   "outputs": [],
   "source": [
    "ch_cols = [f_ for f_ in feature_reader.feature_arr.columns if ch_used in f_]"
   ],
   "metadata": {
    "collapsed": false,
    "pycharm": {
     "name": "#%%\n"
    }
   }
  },
  {
   "cell_type": "code",
   "execution_count": 15,
   "outputs": [
    {
     "data": {
      "text/plain": "                                                           0          1    \\\nECOG_L_1_SMC_AT-avgref_RawHjorth_Activity           556.867448   1.062234   \nECOG_L_1_SMC_AT-avgref_RawHjorth_Mobility             0.097928   0.097870   \nECOG_L_1_SMC_AT-avgref_RawHjorth_Complexity          12.191996  12.082133   \nECOG_L_1_SMC_AT-avgref_bandpass_activity_theta        1.351934   0.733922   \nECOG_L_1_SMC_AT-avgref_bandpass_activity_alpha        1.351934   0.733922   \nECOG_L_1_SMC_AT-avgref_bandpass_activity_low beta     1.351934   0.733922   \nECOG_L_1_SMC_AT-avgref_bandpass_activity_high beta    1.351934   0.733922   \nECOG_L_1_SMC_AT-avgref_bandpass_activity_low gamma    1.351934   0.733922   \nECOG_L_1_SMC_AT-avgref_bandpass_activity_high g...    1.351934   0.733922   \nECOG_L_1_SMC_AT-avgref_bandpass_activity_HFA          1.351934   0.733922   \nECOG_L_1_SMC_AT-avgref_fft_theta                      2.514860   2.920276   \nECOG_L_1_SMC_AT-avgref_fft_alpha                      2.403410   2.749601   \nECOG_L_1_SMC_AT-avgref_fft_low beta                   2.198776   2.446551   \nECOG_L_1_SMC_AT-avgref_fft_high beta                  1.998523   2.121746   \nECOG_L_1_SMC_AT-avgref_fft_low gamma                  1.553934   1.565454   \nECOG_L_1_SMC_AT-avgref_fft_high gamma                 1.293263   1.205780   \nECOG_L_1_SMC_AT-avgref_fft_HFA                        1.135885   1.004801   \nECOG_L_1_SMC_AT-avgref_Sharpwave_Max_prominence...  104.062389   4.467937   \nECOG_L_1_SMC_AT-avgref_Sharpwave_Mean_interval_...   29.461830  31.896632   \nECOG_L_1_SMC_AT-avgref_Sharpwave_Max_sharpness_...    0.580877  -0.019501   \nECOG_L_1_SMC_AT-avgref_Sharpwave_Max_prominence...   97.558806   4.188705   \nECOG_L_1_SMC_AT-avgref_Sharpwave_Mean_interval_...   62.047619  71.277778   \nECOG_L_1_SMC_AT-avgref_Sharpwave_Max_sharpness_...   -0.112234  -0.010247   \nECOG_L_1_SMC_AT-avgref_fooof_a_exp                    1.324044   2.079632   \nECOG_L_1_SMC_AT-avgref_fooof_a_offset                 4.336382   4.156019   \nECOG_L_1_SMC_AT-avgref_fooof_p_0_bw                   2.005946        NaN   \nECOG_L_1_SMC_AT-avgref_fooof_p_0_cf                   7.175906        NaN   \nECOG_L_1_SMC_AT-avgref_fooof_p_0_pw                   0.757840        NaN   \nECOG_L_1_SMC_AT-avgref_fooof_p_1_bw                   0.531015        NaN   \nECOG_L_1_SMC_AT-avgref_fooof_p_1_cf                  11.459334        NaN   \nECOG_L_1_SMC_AT-avgref_fooof_p_1_pw                   0.668469        NaN   \nECOG_L_1_SMC_AT-avgref_fooof_p_2_bw                   0.516264        NaN   \nECOG_L_1_SMC_AT-avgref_fooof_p_2_cf                  26.494465        NaN   \nECOG_L_1_SMC_AT-avgref_fooof_p_2_pw                   0.589244        NaN   \n\n                                                          2          3    \\\nECOG_L_1_SMC_AT-avgref_RawHjorth_Activity            0.993621   0.943920   \nECOG_L_1_SMC_AT-avgref_RawHjorth_Mobility            0.101644   0.101334   \nECOG_L_1_SMC_AT-avgref_RawHjorth_Complexity         11.731426  12.208543   \nECOG_L_1_SMC_AT-avgref_bandpass_activity_theta       0.440578   0.296450   \nECOG_L_1_SMC_AT-avgref_bandpass_activity_alpha       0.440578   0.296450   \nECOG_L_1_SMC_AT-avgref_bandpass_activity_low beta    0.440578   0.296450   \nECOG_L_1_SMC_AT-avgref_bandpass_activity_high beta   0.440578   0.296450   \nECOG_L_1_SMC_AT-avgref_bandpass_activity_low gamma   0.440578   0.296450   \nECOG_L_1_SMC_AT-avgref_bandpass_activity_high g...   0.440578   0.296450   \nECOG_L_1_SMC_AT-avgref_bandpass_activity_HFA         0.440578   0.296450   \nECOG_L_1_SMC_AT-avgref_fft_theta                     3.019043   2.958498   \nECOG_L_1_SMC_AT-avgref_fft_alpha                     2.841459   2.759176   \nECOG_L_1_SMC_AT-avgref_fft_low beta                  2.507338   2.451399   \nECOG_L_1_SMC_AT-avgref_fft_high beta                 2.130301   2.070729   \nECOG_L_1_SMC_AT-avgref_fft_low gamma                 1.530078   1.479677   \nECOG_L_1_SMC_AT-avgref_fft_high gamma                1.165058   1.130942   \nECOG_L_1_SMC_AT-avgref_fft_HFA                       0.947672   0.914930   \nECOG_L_1_SMC_AT-avgref_Sharpwave_Max_prominence...   4.550262   4.608088   \nECOG_L_1_SMC_AT-avgref_Sharpwave_Mean_interval_...  31.560976  31.369048   \nECOG_L_1_SMC_AT-avgref_Sharpwave_Max_sharpness_...  -0.019868  -0.009565   \nECOG_L_1_SMC_AT-avgref_Sharpwave_Max_prominence...   4.265885   4.320713   \nECOG_L_1_SMC_AT-avgref_Sharpwave_Mean_interval_...  69.833333  78.687500   \nECOG_L_1_SMC_AT-avgref_Sharpwave_Max_sharpness_...  -0.010436  -0.007451   \nECOG_L_1_SMC_AT-avgref_fooof_a_exp                   3.602793   1.842487   \nECOG_L_1_SMC_AT-avgref_fooof_a_offset                6.021083   3.503783   \nECOG_L_1_SMC_AT-avgref_fooof_p_0_bw                  1.326789   8.614547   \nECOG_L_1_SMC_AT-avgref_fooof_p_0_cf                  4.840313   9.937853   \nECOG_L_1_SMC_AT-avgref_fooof_p_0_pw                  0.541087   0.326153   \nECOG_L_1_SMC_AT-avgref_fooof_p_1_bw                  0.595400   0.523942   \nECOG_L_1_SMC_AT-avgref_fooof_p_1_cf                 22.415095  22.458403   \nECOG_L_1_SMC_AT-avgref_fooof_p_1_pw                  0.574875   0.769056   \nECOG_L_1_SMC_AT-avgref_fooof_p_2_bw                  5.546601   2.146651   \nECOG_L_1_SMC_AT-avgref_fooof_p_2_cf                 31.595431  32.111357   \nECOG_L_1_SMC_AT-avgref_fooof_p_2_pw                  0.521469   0.599865   \n\n                                                          4          5    \\\nECOG_L_1_SMC_AT-avgref_RawHjorth_Activity            0.928492   0.852230   \nECOG_L_1_SMC_AT-avgref_RawHjorth_Mobility            0.102008   0.105832   \nECOG_L_1_SMC_AT-avgref_RawHjorth_Complexity         12.168375  11.595645   \nECOG_L_1_SMC_AT-avgref_bandpass_activity_theta       0.233526   0.199587   \nECOG_L_1_SMC_AT-avgref_bandpass_activity_alpha       0.233526   0.199587   \nECOG_L_1_SMC_AT-avgref_bandpass_activity_low beta    0.233526   0.199587   \nECOG_L_1_SMC_AT-avgref_bandpass_activity_high beta   0.233526   0.199587   \nECOG_L_1_SMC_AT-avgref_bandpass_activity_low gamma   0.233526   0.199587   \nECOG_L_1_SMC_AT-avgref_bandpass_activity_high g...   0.233526   0.199587   \nECOG_L_1_SMC_AT-avgref_bandpass_activity_HFA         0.233526   0.199587   \nECOG_L_1_SMC_AT-avgref_fft_theta                     2.821123   2.650368   \nECOG_L_1_SMC_AT-avgref_fft_alpha                     2.612658   2.421717   \nECOG_L_1_SMC_AT-avgref_fft_low beta                  2.362037   2.239948   \nECOG_L_1_SMC_AT-avgref_fft_high beta                 1.989944   1.875829   \nECOG_L_1_SMC_AT-avgref_fft_low gamma                 1.433468   1.379240   \nECOG_L_1_SMC_AT-avgref_fft_high gamma                1.115766   1.091731   \nECOG_L_1_SMC_AT-avgref_fft_HFA                       0.905735   0.890716   \nECOG_L_1_SMC_AT-avgref_Sharpwave_Max_prominence...   4.612303   3.297046   \nECOG_L_1_SMC_AT-avgref_Sharpwave_Mean_interval_...  32.353659  30.146341   \nECOG_L_1_SMC_AT-avgref_Sharpwave_Max_sharpness_...  -0.001905  -0.000808   \nECOG_L_1_SMC_AT-avgref_Sharpwave_Max_prominence...   4.331846   3.222946   \nECOG_L_1_SMC_AT-avgref_Sharpwave_Mean_interval_...  66.222222  61.800000   \nECOG_L_1_SMC_AT-avgref_Sharpwave_Max_sharpness_...  -0.007838  -0.002456   \nECOG_L_1_SMC_AT-avgref_fooof_a_exp                   3.261848   3.182267   \nECOG_L_1_SMC_AT-avgref_fooof_a_offset                5.515636   5.200938   \nECOG_L_1_SMC_AT-avgref_fooof_p_0_bw                  2.500173   1.701055   \nECOG_L_1_SMC_AT-avgref_fooof_p_0_cf                  5.415723   5.150158   \nECOG_L_1_SMC_AT-avgref_fooof_p_0_pw                  0.784409   0.803094   \nECOG_L_1_SMC_AT-avgref_fooof_p_1_bw                 12.000000  12.000000   \nECOG_L_1_SMC_AT-avgref_fooof_p_1_cf                 24.547965  22.992731   \nECOG_L_1_SMC_AT-avgref_fooof_p_1_pw                  0.365345   0.433320   \nECOG_L_1_SMC_AT-avgref_fooof_p_2_bw                       NaN   2.570564   \nECOG_L_1_SMC_AT-avgref_fooof_p_2_cf                       NaN  34.129599   \nECOG_L_1_SMC_AT-avgref_fooof_p_2_pw                       NaN   0.658053   \n\n                                                          6          7    \\\nECOG_L_1_SMC_AT-avgref_RawHjorth_Activity            0.700516   0.485655   \nECOG_L_1_SMC_AT-avgref_RawHjorth_Mobility            0.115610   0.139348   \nECOG_L_1_SMC_AT-avgref_RawHjorth_Complexity         10.853060   9.157952   \nECOG_L_1_SMC_AT-avgref_bandpass_activity_theta       0.151544   0.042925   \nECOG_L_1_SMC_AT-avgref_bandpass_activity_alpha       0.151544   0.042925   \nECOG_L_1_SMC_AT-avgref_bandpass_activity_low beta    0.151544   0.042925   \nECOG_L_1_SMC_AT-avgref_bandpass_activity_high beta   0.151544   0.042925   \nECOG_L_1_SMC_AT-avgref_bandpass_activity_low gamma   0.151544   0.042925   \nECOG_L_1_SMC_AT-avgref_bandpass_activity_high g...   0.151544   0.042925   \nECOG_L_1_SMC_AT-avgref_bandpass_activity_HFA         0.151544   0.042925   \nECOG_L_1_SMC_AT-avgref_fft_theta                     2.490986   2.372984   \nECOG_L_1_SMC_AT-avgref_fft_alpha                     2.244219   2.142848   \nECOG_L_1_SMC_AT-avgref_fft_low beta                  2.136037   2.075814   \nECOG_L_1_SMC_AT-avgref_fft_high beta                 1.767977   1.700715   \nECOG_L_1_SMC_AT-avgref_fft_low gamma                 1.321919   1.282255   \nECOG_L_1_SMC_AT-avgref_fft_high gamma                1.073539   1.064291   \nECOG_L_1_SMC_AT-avgref_fft_HFA                       0.876988   0.862983   \nECOG_L_1_SMC_AT-avgref_Sharpwave_Max_prominence...   3.428250   2.623165   \nECOG_L_1_SMC_AT-avgref_Sharpwave_Mean_interval_...  29.547727  28.003324   \nECOG_L_1_SMC_AT-avgref_Sharpwave_Max_sharpness_...  -0.000872  -0.000887   \nECOG_L_1_SMC_AT-avgref_Sharpwave_Max_prominence...   3.366591   2.392872   \nECOG_L_1_SMC_AT-avgref_Sharpwave_Mean_interval_...  56.071429  55.363225   \nECOG_L_1_SMC_AT-avgref_Sharpwave_Max_sharpness_...  -0.007780  -0.007924   \nECOG_L_1_SMC_AT-avgref_fooof_a_exp                   4.437481   3.175024   \nECOG_L_1_SMC_AT-avgref_fooof_a_offset                7.065374   5.882762   \nECOG_L_1_SMC_AT-avgref_fooof_p_0_bw                  0.500053   1.979615   \nECOG_L_1_SMC_AT-avgref_fooof_p_0_cf                 24.933701   5.111454   \nECOG_L_1_SMC_AT-avgref_fooof_p_0_pw                  0.648118   0.597552   \nECOG_L_1_SMC_AT-avgref_fooof_p_1_bw                  1.257579   2.268914   \nECOG_L_1_SMC_AT-avgref_fooof_p_1_cf                 29.234560  11.568907   \nECOG_L_1_SMC_AT-avgref_fooof_p_1_pw                  0.665602   0.502823   \nECOG_L_1_SMC_AT-avgref_fooof_p_2_bw                  7.332882   1.151432   \nECOG_L_1_SMC_AT-avgref_fooof_p_2_cf                 36.668284  35.180664   \nECOG_L_1_SMC_AT-avgref_fooof_p_2_pw                  0.553921   0.437487   \n\n                                                          8          9    ...  \\\nECOG_L_1_SMC_AT-avgref_RawHjorth_Activity            0.458538   0.429905  ...   \nECOG_L_1_SMC_AT-avgref_RawHjorth_Mobility            0.145471   0.149273  ...   \nECOG_L_1_SMC_AT-avgref_RawHjorth_Complexity          8.705997   8.503853  ...   \nECOG_L_1_SMC_AT-avgref_bandpass_activity_theta      -0.137233  -0.403392  ...   \nECOG_L_1_SMC_AT-avgref_bandpass_activity_alpha      -0.137233  -0.403392  ...   \nECOG_L_1_SMC_AT-avgref_bandpass_activity_low beta   -0.137233  -0.403392  ...   \nECOG_L_1_SMC_AT-avgref_bandpass_activity_high beta  -0.137233  -0.403392  ...   \nECOG_L_1_SMC_AT-avgref_bandpass_activity_low gamma  -0.137233  -0.403392  ...   \nECOG_L_1_SMC_AT-avgref_bandpass_activity_high g...  -0.137233  -0.403392  ...   \nECOG_L_1_SMC_AT-avgref_bandpass_activity_HFA        -0.137233  -0.403392  ...   \nECOG_L_1_SMC_AT-avgref_fft_theta                     2.336455   2.395704  ...   \nECOG_L_1_SMC_AT-avgref_fft_alpha                     2.128091   2.197279  ...   \nECOG_L_1_SMC_AT-avgref_fft_low beta                  2.081049   2.166149  ...   \nECOG_L_1_SMC_AT-avgref_fft_high beta                 1.658954   1.667553  ...   \nECOG_L_1_SMC_AT-avgref_fft_low gamma                 1.244074   1.231317  ...   \nECOG_L_1_SMC_AT-avgref_fft_high gamma                1.067686   1.072883  ...   \nECOG_L_1_SMC_AT-avgref_fft_HFA                       0.845998   0.817031  ...   \nECOG_L_1_SMC_AT-avgref_Sharpwave_Max_prominence...   2.667560   2.707881  ...   \nECOG_L_1_SMC_AT-avgref_Sharpwave_Mean_interval_...  29.617940  33.941913  ...   \nECOG_L_1_SMC_AT-avgref_Sharpwave_Max_sharpness_...  -0.000902  -0.000915  ...   \nECOG_L_1_SMC_AT-avgref_Sharpwave_Max_prominence...   2.433355   2.468364  ...   \nECOG_L_1_SMC_AT-avgref_Sharpwave_Mean_interval_...  54.772727  53.363225  ...   \nECOG_L_1_SMC_AT-avgref_Sharpwave_Max_sharpness_...  -0.008059  -0.008163  ...   \nECOG_L_1_SMC_AT-avgref_fooof_a_exp                   1.188793   2.992960  ...   \nECOG_L_1_SMC_AT-avgref_fooof_a_offset                2.630295   5.189826  ...   \nECOG_L_1_SMC_AT-avgref_fooof_p_0_bw                  6.493592   0.523358  ...   \nECOG_L_1_SMC_AT-avgref_fooof_p_0_cf                  8.764099   6.437974  ...   \nECOG_L_1_SMC_AT-avgref_fooof_p_0_pw                  0.620097   0.633460  ...   \nECOG_L_1_SMC_AT-avgref_fooof_p_1_bw                  0.520685   6.015874  ...   \nECOG_L_1_SMC_AT-avgref_fooof_p_1_cf                 14.473225  11.958122  ...   \nECOG_L_1_SMC_AT-avgref_fooof_p_1_pw                  0.769353   0.437727  ...   \nECOG_L_1_SMC_AT-avgref_fooof_p_2_bw                 12.000000   6.169146  ...   \nECOG_L_1_SMC_AT-avgref_fooof_p_2_cf                 24.547965  30.256634  ...   \nECOG_L_1_SMC_AT-avgref_fooof_p_2_pw                  0.327643   0.433691  ...   \n\n                                                          160        161  \\\nECOG_L_1_SMC_AT-avgref_RawHjorth_Activity            0.787498   0.825906   \nECOG_L_1_SMC_AT-avgref_RawHjorth_Mobility            0.141883   0.139187   \nECOG_L_1_SMC_AT-avgref_RawHjorth_Complexity          8.241083   8.438267   \nECOG_L_1_SMC_AT-avgref_bandpass_activity_theta      -2.143634  -2.068371   \nECOG_L_1_SMC_AT-avgref_bandpass_activity_alpha      -2.143634  -2.068371   \nECOG_L_1_SMC_AT-avgref_bandpass_activity_low beta   -2.143634  -2.068371   \nECOG_L_1_SMC_AT-avgref_bandpass_activity_high beta  -2.143634  -2.068371   \nECOG_L_1_SMC_AT-avgref_bandpass_activity_low gamma  -2.143634  -2.068371   \nECOG_L_1_SMC_AT-avgref_bandpass_activity_high g...  -2.143634  -2.068371   \nECOG_L_1_SMC_AT-avgref_bandpass_activity_HFA        -2.143634  -2.068371   \nECOG_L_1_SMC_AT-avgref_fft_theta                     4.887473   4.929361   \nECOG_L_1_SMC_AT-avgref_fft_alpha                     4.569159   4.639387   \nECOG_L_1_SMC_AT-avgref_fft_low beta                  4.795819   4.856059   \nECOG_L_1_SMC_AT-avgref_fft_high beta                 3.735170   3.724973   \nECOG_L_1_SMC_AT-avgref_fft_low gamma                 1.984113   1.963997   \nECOG_L_1_SMC_AT-avgref_fft_high gamma                1.201733   1.203187   \nECOG_L_1_SMC_AT-avgref_fft_HFA                       0.754757   0.751190   \nECOG_L_1_SMC_AT-avgref_Sharpwave_Max_prominence...   3.513550   3.513919   \nECOG_L_1_SMC_AT-avgref_Sharpwave_Mean_interval_...  30.817389  32.195122   \nECOG_L_1_SMC_AT-avgref_Sharpwave_Max_sharpness_...  -0.000939   0.003870   \nECOG_L_1_SMC_AT-avgref_Sharpwave_Max_prominence...   3.667526   3.679628   \nECOG_L_1_SMC_AT-avgref_Sharpwave_Mean_interval_...  54.491107  55.599802   \nECOG_L_1_SMC_AT-avgref_Sharpwave_Max_sharpness_...  -0.021987  -0.021933   \nECOG_L_1_SMC_AT-avgref_fooof_a_exp                   3.548832   2.270880   \nECOG_L_1_SMC_AT-avgref_fooof_a_offset                6.603168   4.478938   \nECOG_L_1_SMC_AT-avgref_fooof_p_0_bw                  0.511956  11.532598   \nECOG_L_1_SMC_AT-avgref_fooof_p_0_cf                  2.553396  12.685327   \nECOG_L_1_SMC_AT-avgref_fooof_p_0_pw                  0.482837   0.362230   \nECOG_L_1_SMC_AT-avgref_fooof_p_1_bw                  4.789204   4.618367   \nECOG_L_1_SMC_AT-avgref_fooof_p_1_cf                  9.792505  29.645589   \nECOG_L_1_SMC_AT-avgref_fooof_p_1_pw                  0.566028   0.366499   \nECOG_L_1_SMC_AT-avgref_fooof_p_2_bw                       NaN   0.530979   \nECOG_L_1_SMC_AT-avgref_fooof_p_2_cf                       NaN  34.488137   \nECOG_L_1_SMC_AT-avgref_fooof_p_2_pw                       NaN   0.470650   \n\n                                                          162        163  \\\nECOG_L_1_SMC_AT-avgref_RawHjorth_Activity            0.807649   0.823140   \nECOG_L_1_SMC_AT-avgref_RawHjorth_Mobility            0.139578   0.137808   \nECOG_L_1_SMC_AT-avgref_RawHjorth_Complexity          8.520615   8.531605   \nECOG_L_1_SMC_AT-avgref_bandpass_activity_theta      -2.005534  -1.948454   \nECOG_L_1_SMC_AT-avgref_bandpass_activity_alpha      -2.005534  -1.948454   \nECOG_L_1_SMC_AT-avgref_bandpass_activity_low beta   -2.005534  -1.948454   \nECOG_L_1_SMC_AT-avgref_bandpass_activity_high beta  -2.005534  -1.948454   \nECOG_L_1_SMC_AT-avgref_bandpass_activity_low gamma  -2.005534  -1.948454   \nECOG_L_1_SMC_AT-avgref_bandpass_activity_high g...  -2.005534  -1.948454   \nECOG_L_1_SMC_AT-avgref_bandpass_activity_HFA        -2.005534  -1.948454   \nECOG_L_1_SMC_AT-avgref_fft_theta                     4.950026   4.968658   \nECOG_L_1_SMC_AT-avgref_fft_alpha                     4.707954   4.735181   \nECOG_L_1_SMC_AT-avgref_fft_low beta                  4.907045   4.918514   \nECOG_L_1_SMC_AT-avgref_fft_high beta                 3.705720   3.701873   \nECOG_L_1_SMC_AT-avgref_fft_low gamma                 1.976630   1.928786   \nECOG_L_1_SMC_AT-avgref_fft_high gamma                1.224635   1.222357   \nECOG_L_1_SMC_AT-avgref_fft_HFA                       0.783039   0.769469   \nECOG_L_1_SMC_AT-avgref_Sharpwave_Max_prominence...   3.515880   3.520137   \nECOG_L_1_SMC_AT-avgref_Sharpwave_Mean_interval_...  30.647727  30.329268   \nECOG_L_1_SMC_AT-avgref_Sharpwave_Max_sharpness_...  -0.001169  -0.000955   \nECOG_L_1_SMC_AT-avgref_Sharpwave_Max_prominence...   3.682029   3.686712   \nECOG_L_1_SMC_AT-avgref_Sharpwave_Mean_interval_...  55.886364  57.204545   \nECOG_L_1_SMC_AT-avgref_Sharpwave_Max_sharpness_...  -0.021960  -0.021954   \nECOG_L_1_SMC_AT-avgref_fooof_a_exp                   2.111210   3.996255   \nECOG_L_1_SMC_AT-avgref_fooof_a_offset                4.273602   6.756959   \nECOG_L_1_SMC_AT-avgref_fooof_p_0_bw                  0.509708   0.630239   \nECOG_L_1_SMC_AT-avgref_fooof_p_0_cf                  4.572271  30.489600   \nECOG_L_1_SMC_AT-avgref_fooof_p_0_pw                  0.609600   0.767315   \nECOG_L_1_SMC_AT-avgref_fooof_p_1_bw                  0.514061   1.979584   \nECOG_L_1_SMC_AT-avgref_fooof_p_1_cf                 12.591647  34.292628   \nECOG_L_1_SMC_AT-avgref_fooof_p_1_pw                  0.728426   0.507035   \nECOG_L_1_SMC_AT-avgref_fooof_p_2_bw                       NaN   3.796905   \nECOG_L_1_SMC_AT-avgref_fooof_p_2_cf                       NaN  38.725344   \nECOG_L_1_SMC_AT-avgref_fooof_p_2_pw                       NaN   0.617162   \n\n                                                          164        165  \\\nECOG_L_1_SMC_AT-avgref_RawHjorth_Activity            0.839660   0.875233   \nECOG_L_1_SMC_AT-avgref_RawHjorth_Mobility            0.133944   0.133092   \nECOG_L_1_SMC_AT-avgref_RawHjorth_Complexity          8.693385   8.692532   \nECOG_L_1_SMC_AT-avgref_bandpass_activity_theta      -1.890743  -1.841093   \nECOG_L_1_SMC_AT-avgref_bandpass_activity_alpha      -1.890743  -1.841093   \nECOG_L_1_SMC_AT-avgref_bandpass_activity_low beta   -1.890743  -1.841093   \nECOG_L_1_SMC_AT-avgref_bandpass_activity_high beta  -1.890743  -1.841093   \nECOG_L_1_SMC_AT-avgref_bandpass_activity_low gamma  -1.890743  -1.841093   \nECOG_L_1_SMC_AT-avgref_bandpass_activity_high g...  -1.890743  -1.841093   \nECOG_L_1_SMC_AT-avgref_bandpass_activity_HFA        -1.890743  -1.841093   \nECOG_L_1_SMC_AT-avgref_fft_theta                     5.001457   5.045901   \nECOG_L_1_SMC_AT-avgref_fft_alpha                     4.760451   4.815736   \nECOG_L_1_SMC_AT-avgref_fft_low beta                  4.892846   4.870482   \nECOG_L_1_SMC_AT-avgref_fft_high beta                 3.620156   3.572185   \nECOG_L_1_SMC_AT-avgref_fft_low gamma                 1.899508   1.894865   \nECOG_L_1_SMC_AT-avgref_fft_high gamma                1.229577   1.277285   \nECOG_L_1_SMC_AT-avgref_fft_HFA                       0.764315   0.780118   \nECOG_L_1_SMC_AT-avgref_Sharpwave_Max_prominence...   3.526214   3.521140   \nECOG_L_1_SMC_AT-avgref_Sharpwave_Mean_interval_...  31.500000  30.580565   \nECOG_L_1_SMC_AT-avgref_Sharpwave_Max_sharpness_...  -0.000634   0.016377   \nECOG_L_1_SMC_AT-avgref_Sharpwave_Max_prominence...   3.692727   3.695977   \nECOG_L_1_SMC_AT-avgref_Sharpwave_Mean_interval_...  61.019048  60.023810   \nECOG_L_1_SMC_AT-avgref_Sharpwave_Max_sharpness_...  -0.008327  -0.010423   \nECOG_L_1_SMC_AT-avgref_fooof_a_exp                   3.103334   3.075220   \nECOG_L_1_SMC_AT-avgref_fooof_a_offset                5.714439   5.512051   \nECOG_L_1_SMC_AT-avgref_fooof_p_0_bw                  0.512217   0.551626   \nECOG_L_1_SMC_AT-avgref_fooof_p_0_cf                  4.561370   4.585679   \nECOG_L_1_SMC_AT-avgref_fooof_p_0_pw                  0.673518   0.717638   \nECOG_L_1_SMC_AT-avgref_fooof_p_1_bw                  4.953244   1.008262   \nECOG_L_1_SMC_AT-avgref_fooof_p_1_cf                 11.196507  13.566153   \nECOG_L_1_SMC_AT-avgref_fooof_p_1_pw                  0.454592   0.552720   \nECOG_L_1_SMC_AT-avgref_fooof_p_2_bw                  3.460831   0.910432   \nECOG_L_1_SMC_AT-avgref_fooof_p_2_cf                 33.259493  24.928116   \nECOG_L_1_SMC_AT-avgref_fooof_p_2_pw                  0.511117   0.611336   \n\n                                                          166        167  \\\nECOG_L_1_SMC_AT-avgref_RawHjorth_Activity            1.044616   1.018915   \nECOG_L_1_SMC_AT-avgref_RawHjorth_Mobility            0.122830   0.123291   \nECOG_L_1_SMC_AT-avgref_RawHjorth_Complexity          9.221154   9.360012   \nECOG_L_1_SMC_AT-avgref_bandpass_activity_theta      -1.773886  -1.716713   \nECOG_L_1_SMC_AT-avgref_bandpass_activity_alpha      -1.773886  -1.716713   \nECOG_L_1_SMC_AT-avgref_bandpass_activity_low beta   -1.773886  -1.716713   \nECOG_L_1_SMC_AT-avgref_bandpass_activity_high beta  -1.773886  -1.716713   \nECOG_L_1_SMC_AT-avgref_bandpass_activity_low gamma  -1.773886  -1.716713   \nECOG_L_1_SMC_AT-avgref_bandpass_activity_high g...  -1.773886  -1.716713   \nECOG_L_1_SMC_AT-avgref_bandpass_activity_HFA        -1.773886  -1.716713   \nECOG_L_1_SMC_AT-avgref_fft_theta                     5.106800   5.123750   \nECOG_L_1_SMC_AT-avgref_fft_alpha                     4.931272   5.009964   \nECOG_L_1_SMC_AT-avgref_fft_low beta                  4.817927   4.761390   \nECOG_L_1_SMC_AT-avgref_fft_high beta                 3.594456   3.600673   \nECOG_L_1_SMC_AT-avgref_fft_low gamma                 1.900565   1.884059   \nECOG_L_1_SMC_AT-avgref_fft_high gamma                1.298588   1.322557   \nECOG_L_1_SMC_AT-avgref_fft_HFA                       0.766956   0.770683   \nECOG_L_1_SMC_AT-avgref_Sharpwave_Max_prominence...   4.710945   4.777598   \nECOG_L_1_SMC_AT-avgref_Sharpwave_Mean_interval_...  31.415921  34.402633   \nECOG_L_1_SMC_AT-avgref_Sharpwave_Max_sharpness_...  -0.001264  -0.001533   \nECOG_L_1_SMC_AT-avgref_Sharpwave_Max_prominence...   4.699520   4.685622   \nECOG_L_1_SMC_AT-avgref_Sharpwave_Mean_interval_...  60.413095  62.164286   \nECOG_L_1_SMC_AT-avgref_Sharpwave_Max_sharpness_...  -0.009200  -0.009195   \nECOG_L_1_SMC_AT-avgref_fooof_a_exp                   3.595973   2.039920   \nECOG_L_1_SMC_AT-avgref_fooof_a_offset                6.386126   3.726522   \nECOG_L_1_SMC_AT-avgref_fooof_p_0_bw                  0.507859   9.770242   \nECOG_L_1_SMC_AT-avgref_fooof_p_0_cf                  5.426808  13.044538   \nECOG_L_1_SMC_AT-avgref_fooof_p_0_pw                  0.726381   0.543712   \nECOG_L_1_SMC_AT-avgref_fooof_p_1_bw                       NaN   4.718107   \nECOG_L_1_SMC_AT-avgref_fooof_p_1_cf                       NaN  26.547965   \nECOG_L_1_SMC_AT-avgref_fooof_p_1_pw                       NaN   0.554614   \nECOG_L_1_SMC_AT-avgref_fooof_p_2_bw                       NaN   2.781993   \nECOG_L_1_SMC_AT-avgref_fooof_p_2_cf                       NaN  33.732948   \nECOG_L_1_SMC_AT-avgref_fooof_p_2_pw                       NaN   0.612950   \n\n                                                          168        169  \nECOG_L_1_SMC_AT-avgref_RawHjorth_Activity            1.285753   1.539734  \nECOG_L_1_SMC_AT-avgref_RawHjorth_Mobility            0.109791   0.096855  \nECOG_L_1_SMC_AT-avgref_RawHjorth_Complexity         10.225929  12.085410  \nECOG_L_1_SMC_AT-avgref_bandpass_activity_theta      -1.623809  -1.551147  \nECOG_L_1_SMC_AT-avgref_bandpass_activity_alpha      -1.623809  -1.551147  \nECOG_L_1_SMC_AT-avgref_bandpass_activity_low beta   -1.623809  -1.551147  \nECOG_L_1_SMC_AT-avgref_bandpass_activity_high beta  -1.623809  -1.551147  \nECOG_L_1_SMC_AT-avgref_bandpass_activity_low gamma  -1.623809  -1.551147  \nECOG_L_1_SMC_AT-avgref_bandpass_activity_high g...  -1.623809  -1.551147  \nECOG_L_1_SMC_AT-avgref_bandpass_activity_HFA        -1.623809  -1.551147  \nECOG_L_1_SMC_AT-avgref_fft_theta                     5.213244   5.305518  \nECOG_L_1_SMC_AT-avgref_fft_alpha                     5.112122   5.180383  \nECOG_L_1_SMC_AT-avgref_fft_low beta                  4.721338   4.657149  \nECOG_L_1_SMC_AT-avgref_fft_high beta                 3.619550   3.630526  \nECOG_L_1_SMC_AT-avgref_fft_low gamma                 1.873420   1.845484  \nECOG_L_1_SMC_AT-avgref_fft_high gamma                1.368758   1.381465  \nECOG_L_1_SMC_AT-avgref_fft_HFA                       0.799672   0.787157  \nECOG_L_1_SMC_AT-avgref_Sharpwave_Max_prominence...   4.758086   4.718277  \nECOG_L_1_SMC_AT-avgref_Sharpwave_Mean_interval_...  37.244156  39.058824  \nECOG_L_1_SMC_AT-avgref_Sharpwave_Max_sharpness_...   0.061605  -0.001466  \nECOG_L_1_SMC_AT-avgref_Sharpwave_Max_prominence...   4.660143   5.195196  \nECOG_L_1_SMC_AT-avgref_Sharpwave_Mean_interval_...  62.334795  63.506536  \nECOG_L_1_SMC_AT-avgref_Sharpwave_Max_sharpness_...  -0.009109  -0.009017  \nECOG_L_1_SMC_AT-avgref_fooof_a_exp                   1.274839   1.496733  \nECOG_L_1_SMC_AT-avgref_fooof_a_offset                2.818319   3.340247  \nECOG_L_1_SMC_AT-avgref_fooof_p_0_bw                 12.000000   2.724711  \nECOG_L_1_SMC_AT-avgref_fooof_p_0_cf                 15.568723   9.272001  \nECOG_L_1_SMC_AT-avgref_fooof_p_0_pw                  0.588505   0.602395  \nECOG_L_1_SMC_AT-avgref_fooof_p_1_bw                       NaN   0.570846  \nECOG_L_1_SMC_AT-avgref_fooof_p_1_cf                       NaN  13.401531  \nECOG_L_1_SMC_AT-avgref_fooof_p_1_pw                       NaN   0.626761  \nECOG_L_1_SMC_AT-avgref_fooof_p_2_bw                       NaN   0.500000  \nECOG_L_1_SMC_AT-avgref_fooof_p_2_cf                       NaN  34.954347  \nECOG_L_1_SMC_AT-avgref_fooof_p_2_pw                       NaN   0.613186  \n\n[34 rows x 170 columns]",
      "text/html": "<div>\n<style scoped>\n    .dataframe tbody tr th:only-of-type {\n        vertical-align: middle;\n    }\n\n    .dataframe tbody tr th {\n        vertical-align: top;\n    }\n\n    .dataframe thead th {\n        text-align: right;\n    }\n</style>\n<table border=\"1\" class=\"dataframe\">\n  <thead>\n    <tr style=\"text-align: right;\">\n      <th></th>\n      <th>0</th>\n      <th>1</th>\n      <th>2</th>\n      <th>3</th>\n      <th>4</th>\n      <th>5</th>\n      <th>6</th>\n      <th>7</th>\n      <th>8</th>\n      <th>9</th>\n      <th>...</th>\n      <th>160</th>\n      <th>161</th>\n      <th>162</th>\n      <th>163</th>\n      <th>164</th>\n      <th>165</th>\n      <th>166</th>\n      <th>167</th>\n      <th>168</th>\n      <th>169</th>\n    </tr>\n  </thead>\n  <tbody>\n    <tr>\n      <th>ECOG_L_1_SMC_AT-avgref_RawHjorth_Activity</th>\n      <td>556.867448</td>\n      <td>1.062234</td>\n      <td>0.993621</td>\n      <td>0.943920</td>\n      <td>0.928492</td>\n      <td>0.852230</td>\n      <td>0.700516</td>\n      <td>0.485655</td>\n      <td>0.458538</td>\n      <td>0.429905</td>\n      <td>...</td>\n      <td>0.787498</td>\n      <td>0.825906</td>\n      <td>0.807649</td>\n      <td>0.823140</td>\n      <td>0.839660</td>\n      <td>0.875233</td>\n      <td>1.044616</td>\n      <td>1.018915</td>\n      <td>1.285753</td>\n      <td>1.539734</td>\n    </tr>\n    <tr>\n      <th>ECOG_L_1_SMC_AT-avgref_RawHjorth_Mobility</th>\n      <td>0.097928</td>\n      <td>0.097870</td>\n      <td>0.101644</td>\n      <td>0.101334</td>\n      <td>0.102008</td>\n      <td>0.105832</td>\n      <td>0.115610</td>\n      <td>0.139348</td>\n      <td>0.145471</td>\n      <td>0.149273</td>\n      <td>...</td>\n      <td>0.141883</td>\n      <td>0.139187</td>\n      <td>0.139578</td>\n      <td>0.137808</td>\n      <td>0.133944</td>\n      <td>0.133092</td>\n      <td>0.122830</td>\n      <td>0.123291</td>\n      <td>0.109791</td>\n      <td>0.096855</td>\n    </tr>\n    <tr>\n      <th>ECOG_L_1_SMC_AT-avgref_RawHjorth_Complexity</th>\n      <td>12.191996</td>\n      <td>12.082133</td>\n      <td>11.731426</td>\n      <td>12.208543</td>\n      <td>12.168375</td>\n      <td>11.595645</td>\n      <td>10.853060</td>\n      <td>9.157952</td>\n      <td>8.705997</td>\n      <td>8.503853</td>\n      <td>...</td>\n      <td>8.241083</td>\n      <td>8.438267</td>\n      <td>8.520615</td>\n      <td>8.531605</td>\n      <td>8.693385</td>\n      <td>8.692532</td>\n      <td>9.221154</td>\n      <td>9.360012</td>\n      <td>10.225929</td>\n      <td>12.085410</td>\n    </tr>\n    <tr>\n      <th>ECOG_L_1_SMC_AT-avgref_bandpass_activity_theta</th>\n      <td>1.351934</td>\n      <td>0.733922</td>\n      <td>0.440578</td>\n      <td>0.296450</td>\n      <td>0.233526</td>\n      <td>0.199587</td>\n      <td>0.151544</td>\n      <td>0.042925</td>\n      <td>-0.137233</td>\n      <td>-0.403392</td>\n      <td>...</td>\n      <td>-2.143634</td>\n      <td>-2.068371</td>\n      <td>-2.005534</td>\n      <td>-1.948454</td>\n      <td>-1.890743</td>\n      <td>-1.841093</td>\n      <td>-1.773886</td>\n      <td>-1.716713</td>\n      <td>-1.623809</td>\n      <td>-1.551147</td>\n    </tr>\n    <tr>\n      <th>ECOG_L_1_SMC_AT-avgref_bandpass_activity_alpha</th>\n      <td>1.351934</td>\n      <td>0.733922</td>\n      <td>0.440578</td>\n      <td>0.296450</td>\n      <td>0.233526</td>\n      <td>0.199587</td>\n      <td>0.151544</td>\n      <td>0.042925</td>\n      <td>-0.137233</td>\n      <td>-0.403392</td>\n      <td>...</td>\n      <td>-2.143634</td>\n      <td>-2.068371</td>\n      <td>-2.005534</td>\n      <td>-1.948454</td>\n      <td>-1.890743</td>\n      <td>-1.841093</td>\n      <td>-1.773886</td>\n      <td>-1.716713</td>\n      <td>-1.623809</td>\n      <td>-1.551147</td>\n    </tr>\n    <tr>\n      <th>ECOG_L_1_SMC_AT-avgref_bandpass_activity_low beta</th>\n      <td>1.351934</td>\n      <td>0.733922</td>\n      <td>0.440578</td>\n      <td>0.296450</td>\n      <td>0.233526</td>\n      <td>0.199587</td>\n      <td>0.151544</td>\n      <td>0.042925</td>\n      <td>-0.137233</td>\n      <td>-0.403392</td>\n      <td>...</td>\n      <td>-2.143634</td>\n      <td>-2.068371</td>\n      <td>-2.005534</td>\n      <td>-1.948454</td>\n      <td>-1.890743</td>\n      <td>-1.841093</td>\n      <td>-1.773886</td>\n      <td>-1.716713</td>\n      <td>-1.623809</td>\n      <td>-1.551147</td>\n    </tr>\n    <tr>\n      <th>ECOG_L_1_SMC_AT-avgref_bandpass_activity_high beta</th>\n      <td>1.351934</td>\n      <td>0.733922</td>\n      <td>0.440578</td>\n      <td>0.296450</td>\n      <td>0.233526</td>\n      <td>0.199587</td>\n      <td>0.151544</td>\n      <td>0.042925</td>\n      <td>-0.137233</td>\n      <td>-0.403392</td>\n      <td>...</td>\n      <td>-2.143634</td>\n      <td>-2.068371</td>\n      <td>-2.005534</td>\n      <td>-1.948454</td>\n      <td>-1.890743</td>\n      <td>-1.841093</td>\n      <td>-1.773886</td>\n      <td>-1.716713</td>\n      <td>-1.623809</td>\n      <td>-1.551147</td>\n    </tr>\n    <tr>\n      <th>ECOG_L_1_SMC_AT-avgref_bandpass_activity_low gamma</th>\n      <td>1.351934</td>\n      <td>0.733922</td>\n      <td>0.440578</td>\n      <td>0.296450</td>\n      <td>0.233526</td>\n      <td>0.199587</td>\n      <td>0.151544</td>\n      <td>0.042925</td>\n      <td>-0.137233</td>\n      <td>-0.403392</td>\n      <td>...</td>\n      <td>-2.143634</td>\n      <td>-2.068371</td>\n      <td>-2.005534</td>\n      <td>-1.948454</td>\n      <td>-1.890743</td>\n      <td>-1.841093</td>\n      <td>-1.773886</td>\n      <td>-1.716713</td>\n      <td>-1.623809</td>\n      <td>-1.551147</td>\n    </tr>\n    <tr>\n      <th>ECOG_L_1_SMC_AT-avgref_bandpass_activity_high gamma</th>\n      <td>1.351934</td>\n      <td>0.733922</td>\n      <td>0.440578</td>\n      <td>0.296450</td>\n      <td>0.233526</td>\n      <td>0.199587</td>\n      <td>0.151544</td>\n      <td>0.042925</td>\n      <td>-0.137233</td>\n      <td>-0.403392</td>\n      <td>...</td>\n      <td>-2.143634</td>\n      <td>-2.068371</td>\n      <td>-2.005534</td>\n      <td>-1.948454</td>\n      <td>-1.890743</td>\n      <td>-1.841093</td>\n      <td>-1.773886</td>\n      <td>-1.716713</td>\n      <td>-1.623809</td>\n      <td>-1.551147</td>\n    </tr>\n    <tr>\n      <th>ECOG_L_1_SMC_AT-avgref_bandpass_activity_HFA</th>\n      <td>1.351934</td>\n      <td>0.733922</td>\n      <td>0.440578</td>\n      <td>0.296450</td>\n      <td>0.233526</td>\n      <td>0.199587</td>\n      <td>0.151544</td>\n      <td>0.042925</td>\n      <td>-0.137233</td>\n      <td>-0.403392</td>\n      <td>...</td>\n      <td>-2.143634</td>\n      <td>-2.068371</td>\n      <td>-2.005534</td>\n      <td>-1.948454</td>\n      <td>-1.890743</td>\n      <td>-1.841093</td>\n      <td>-1.773886</td>\n      <td>-1.716713</td>\n      <td>-1.623809</td>\n      <td>-1.551147</td>\n    </tr>\n    <tr>\n      <th>ECOG_L_1_SMC_AT-avgref_fft_theta</th>\n      <td>2.514860</td>\n      <td>2.920276</td>\n      <td>3.019043</td>\n      <td>2.958498</td>\n      <td>2.821123</td>\n      <td>2.650368</td>\n      <td>2.490986</td>\n      <td>2.372984</td>\n      <td>2.336455</td>\n      <td>2.395704</td>\n      <td>...</td>\n      <td>4.887473</td>\n      <td>4.929361</td>\n      <td>4.950026</td>\n      <td>4.968658</td>\n      <td>5.001457</td>\n      <td>5.045901</td>\n      <td>5.106800</td>\n      <td>5.123750</td>\n      <td>5.213244</td>\n      <td>5.305518</td>\n    </tr>\n    <tr>\n      <th>ECOG_L_1_SMC_AT-avgref_fft_alpha</th>\n      <td>2.403410</td>\n      <td>2.749601</td>\n      <td>2.841459</td>\n      <td>2.759176</td>\n      <td>2.612658</td>\n      <td>2.421717</td>\n      <td>2.244219</td>\n      <td>2.142848</td>\n      <td>2.128091</td>\n      <td>2.197279</td>\n      <td>...</td>\n      <td>4.569159</td>\n      <td>4.639387</td>\n      <td>4.707954</td>\n      <td>4.735181</td>\n      <td>4.760451</td>\n      <td>4.815736</td>\n      <td>4.931272</td>\n      <td>5.009964</td>\n      <td>5.112122</td>\n      <td>5.180383</td>\n    </tr>\n    <tr>\n      <th>ECOG_L_1_SMC_AT-avgref_fft_low beta</th>\n      <td>2.198776</td>\n      <td>2.446551</td>\n      <td>2.507338</td>\n      <td>2.451399</td>\n      <td>2.362037</td>\n      <td>2.239948</td>\n      <td>2.136037</td>\n      <td>2.075814</td>\n      <td>2.081049</td>\n      <td>2.166149</td>\n      <td>...</td>\n      <td>4.795819</td>\n      <td>4.856059</td>\n      <td>4.907045</td>\n      <td>4.918514</td>\n      <td>4.892846</td>\n      <td>4.870482</td>\n      <td>4.817927</td>\n      <td>4.761390</td>\n      <td>4.721338</td>\n      <td>4.657149</td>\n    </tr>\n    <tr>\n      <th>ECOG_L_1_SMC_AT-avgref_fft_high beta</th>\n      <td>1.998523</td>\n      <td>2.121746</td>\n      <td>2.130301</td>\n      <td>2.070729</td>\n      <td>1.989944</td>\n      <td>1.875829</td>\n      <td>1.767977</td>\n      <td>1.700715</td>\n      <td>1.658954</td>\n      <td>1.667553</td>\n      <td>...</td>\n      <td>3.735170</td>\n      <td>3.724973</td>\n      <td>3.705720</td>\n      <td>3.701873</td>\n      <td>3.620156</td>\n      <td>3.572185</td>\n      <td>3.594456</td>\n      <td>3.600673</td>\n      <td>3.619550</td>\n      <td>3.630526</td>\n    </tr>\n    <tr>\n      <th>ECOG_L_1_SMC_AT-avgref_fft_low gamma</th>\n      <td>1.553934</td>\n      <td>1.565454</td>\n      <td>1.530078</td>\n      <td>1.479677</td>\n      <td>1.433468</td>\n      <td>1.379240</td>\n      <td>1.321919</td>\n      <td>1.282255</td>\n      <td>1.244074</td>\n      <td>1.231317</td>\n      <td>...</td>\n      <td>1.984113</td>\n      <td>1.963997</td>\n      <td>1.976630</td>\n      <td>1.928786</td>\n      <td>1.899508</td>\n      <td>1.894865</td>\n      <td>1.900565</td>\n      <td>1.884059</td>\n      <td>1.873420</td>\n      <td>1.845484</td>\n    </tr>\n    <tr>\n      <th>ECOG_L_1_SMC_AT-avgref_fft_high gamma</th>\n      <td>1.293263</td>\n      <td>1.205780</td>\n      <td>1.165058</td>\n      <td>1.130942</td>\n      <td>1.115766</td>\n      <td>1.091731</td>\n      <td>1.073539</td>\n      <td>1.064291</td>\n      <td>1.067686</td>\n      <td>1.072883</td>\n      <td>...</td>\n      <td>1.201733</td>\n      <td>1.203187</td>\n      <td>1.224635</td>\n      <td>1.222357</td>\n      <td>1.229577</td>\n      <td>1.277285</td>\n      <td>1.298588</td>\n      <td>1.322557</td>\n      <td>1.368758</td>\n      <td>1.381465</td>\n    </tr>\n    <tr>\n      <th>ECOG_L_1_SMC_AT-avgref_fft_HFA</th>\n      <td>1.135885</td>\n      <td>1.004801</td>\n      <td>0.947672</td>\n      <td>0.914930</td>\n      <td>0.905735</td>\n      <td>0.890716</td>\n      <td>0.876988</td>\n      <td>0.862983</td>\n      <td>0.845998</td>\n      <td>0.817031</td>\n      <td>...</td>\n      <td>0.754757</td>\n      <td>0.751190</td>\n      <td>0.783039</td>\n      <td>0.769469</td>\n      <td>0.764315</td>\n      <td>0.780118</td>\n      <td>0.766956</td>\n      <td>0.770683</td>\n      <td>0.799672</td>\n      <td>0.787157</td>\n    </tr>\n    <tr>\n      <th>ECOG_L_1_SMC_AT-avgref_Sharpwave_Max_prominence_range_5_80</th>\n      <td>104.062389</td>\n      <td>4.467937</td>\n      <td>4.550262</td>\n      <td>4.608088</td>\n      <td>4.612303</td>\n      <td>3.297046</td>\n      <td>3.428250</td>\n      <td>2.623165</td>\n      <td>2.667560</td>\n      <td>2.707881</td>\n      <td>...</td>\n      <td>3.513550</td>\n      <td>3.513919</td>\n      <td>3.515880</td>\n      <td>3.520137</td>\n      <td>3.526214</td>\n      <td>3.521140</td>\n      <td>4.710945</td>\n      <td>4.777598</td>\n      <td>4.758086</td>\n      <td>4.718277</td>\n    </tr>\n    <tr>\n      <th>ECOG_L_1_SMC_AT-avgref_Sharpwave_Mean_interval_range_5_80</th>\n      <td>29.461830</td>\n      <td>31.896632</td>\n      <td>31.560976</td>\n      <td>31.369048</td>\n      <td>32.353659</td>\n      <td>30.146341</td>\n      <td>29.547727</td>\n      <td>28.003324</td>\n      <td>29.617940</td>\n      <td>33.941913</td>\n      <td>...</td>\n      <td>30.817389</td>\n      <td>32.195122</td>\n      <td>30.647727</td>\n      <td>30.329268</td>\n      <td>31.500000</td>\n      <td>30.580565</td>\n      <td>31.415921</td>\n      <td>34.402633</td>\n      <td>37.244156</td>\n      <td>39.058824</td>\n    </tr>\n    <tr>\n      <th>ECOG_L_1_SMC_AT-avgref_Sharpwave_Max_sharpness_range_5_80</th>\n      <td>0.580877</td>\n      <td>-0.019501</td>\n      <td>-0.019868</td>\n      <td>-0.009565</td>\n      <td>-0.001905</td>\n      <td>-0.000808</td>\n      <td>-0.000872</td>\n      <td>-0.000887</td>\n      <td>-0.000902</td>\n      <td>-0.000915</td>\n      <td>...</td>\n      <td>-0.000939</td>\n      <td>0.003870</td>\n      <td>-0.001169</td>\n      <td>-0.000955</td>\n      <td>-0.000634</td>\n      <td>0.016377</td>\n      <td>-0.001264</td>\n      <td>-0.001533</td>\n      <td>0.061605</td>\n      <td>-0.001466</td>\n    </tr>\n    <tr>\n      <th>ECOG_L_1_SMC_AT-avgref_Sharpwave_Max_prominence_range_5_30</th>\n      <td>97.558806</td>\n      <td>4.188705</td>\n      <td>4.265885</td>\n      <td>4.320713</td>\n      <td>4.331846</td>\n      <td>3.222946</td>\n      <td>3.366591</td>\n      <td>2.392872</td>\n      <td>2.433355</td>\n      <td>2.468364</td>\n      <td>...</td>\n      <td>3.667526</td>\n      <td>3.679628</td>\n      <td>3.682029</td>\n      <td>3.686712</td>\n      <td>3.692727</td>\n      <td>3.695977</td>\n      <td>4.699520</td>\n      <td>4.685622</td>\n      <td>4.660143</td>\n      <td>5.195196</td>\n    </tr>\n    <tr>\n      <th>ECOG_L_1_SMC_AT-avgref_Sharpwave_Mean_interval_range_5_30</th>\n      <td>62.047619</td>\n      <td>71.277778</td>\n      <td>69.833333</td>\n      <td>78.687500</td>\n      <td>66.222222</td>\n      <td>61.800000</td>\n      <td>56.071429</td>\n      <td>55.363225</td>\n      <td>54.772727</td>\n      <td>53.363225</td>\n      <td>...</td>\n      <td>54.491107</td>\n      <td>55.599802</td>\n      <td>55.886364</td>\n      <td>57.204545</td>\n      <td>61.019048</td>\n      <td>60.023810</td>\n      <td>60.413095</td>\n      <td>62.164286</td>\n      <td>62.334795</td>\n      <td>63.506536</td>\n    </tr>\n    <tr>\n      <th>ECOG_L_1_SMC_AT-avgref_Sharpwave_Max_sharpness_range_5_30</th>\n      <td>-0.112234</td>\n      <td>-0.010247</td>\n      <td>-0.010436</td>\n      <td>-0.007451</td>\n      <td>-0.007838</td>\n      <td>-0.002456</td>\n      <td>-0.007780</td>\n      <td>-0.007924</td>\n      <td>-0.008059</td>\n      <td>-0.008163</td>\n      <td>...</td>\n      <td>-0.021987</td>\n      <td>-0.021933</td>\n      <td>-0.021960</td>\n      <td>-0.021954</td>\n      <td>-0.008327</td>\n      <td>-0.010423</td>\n      <td>-0.009200</td>\n      <td>-0.009195</td>\n      <td>-0.009109</td>\n      <td>-0.009017</td>\n    </tr>\n    <tr>\n      <th>ECOG_L_1_SMC_AT-avgref_fooof_a_exp</th>\n      <td>1.324044</td>\n      <td>2.079632</td>\n      <td>3.602793</td>\n      <td>1.842487</td>\n      <td>3.261848</td>\n      <td>3.182267</td>\n      <td>4.437481</td>\n      <td>3.175024</td>\n      <td>1.188793</td>\n      <td>2.992960</td>\n      <td>...</td>\n      <td>3.548832</td>\n      <td>2.270880</td>\n      <td>2.111210</td>\n      <td>3.996255</td>\n      <td>3.103334</td>\n      <td>3.075220</td>\n      <td>3.595973</td>\n      <td>2.039920</td>\n      <td>1.274839</td>\n      <td>1.496733</td>\n    </tr>\n    <tr>\n      <th>ECOG_L_1_SMC_AT-avgref_fooof_a_offset</th>\n      <td>4.336382</td>\n      <td>4.156019</td>\n      <td>6.021083</td>\n      <td>3.503783</td>\n      <td>5.515636</td>\n      <td>5.200938</td>\n      <td>7.065374</td>\n      <td>5.882762</td>\n      <td>2.630295</td>\n      <td>5.189826</td>\n      <td>...</td>\n      <td>6.603168</td>\n      <td>4.478938</td>\n      <td>4.273602</td>\n      <td>6.756959</td>\n      <td>5.714439</td>\n      <td>5.512051</td>\n      <td>6.386126</td>\n      <td>3.726522</td>\n      <td>2.818319</td>\n      <td>3.340247</td>\n    </tr>\n    <tr>\n      <th>ECOG_L_1_SMC_AT-avgref_fooof_p_0_bw</th>\n      <td>2.005946</td>\n      <td>NaN</td>\n      <td>1.326789</td>\n      <td>8.614547</td>\n      <td>2.500173</td>\n      <td>1.701055</td>\n      <td>0.500053</td>\n      <td>1.979615</td>\n      <td>6.493592</td>\n      <td>0.523358</td>\n      <td>...</td>\n      <td>0.511956</td>\n      <td>11.532598</td>\n      <td>0.509708</td>\n      <td>0.630239</td>\n      <td>0.512217</td>\n      <td>0.551626</td>\n      <td>0.507859</td>\n      <td>9.770242</td>\n      <td>12.000000</td>\n      <td>2.724711</td>\n    </tr>\n    <tr>\n      <th>ECOG_L_1_SMC_AT-avgref_fooof_p_0_cf</th>\n      <td>7.175906</td>\n      <td>NaN</td>\n      <td>4.840313</td>\n      <td>9.937853</td>\n      <td>5.415723</td>\n      <td>5.150158</td>\n      <td>24.933701</td>\n      <td>5.111454</td>\n      <td>8.764099</td>\n      <td>6.437974</td>\n      <td>...</td>\n      <td>2.553396</td>\n      <td>12.685327</td>\n      <td>4.572271</td>\n      <td>30.489600</td>\n      <td>4.561370</td>\n      <td>4.585679</td>\n      <td>5.426808</td>\n      <td>13.044538</td>\n      <td>15.568723</td>\n      <td>9.272001</td>\n    </tr>\n    <tr>\n      <th>ECOG_L_1_SMC_AT-avgref_fooof_p_0_pw</th>\n      <td>0.757840</td>\n      <td>NaN</td>\n      <td>0.541087</td>\n      <td>0.326153</td>\n      <td>0.784409</td>\n      <td>0.803094</td>\n      <td>0.648118</td>\n      <td>0.597552</td>\n      <td>0.620097</td>\n      <td>0.633460</td>\n      <td>...</td>\n      <td>0.482837</td>\n      <td>0.362230</td>\n      <td>0.609600</td>\n      <td>0.767315</td>\n      <td>0.673518</td>\n      <td>0.717638</td>\n      <td>0.726381</td>\n      <td>0.543712</td>\n      <td>0.588505</td>\n      <td>0.602395</td>\n    </tr>\n    <tr>\n      <th>ECOG_L_1_SMC_AT-avgref_fooof_p_1_bw</th>\n      <td>0.531015</td>\n      <td>NaN</td>\n      <td>0.595400</td>\n      <td>0.523942</td>\n      <td>12.000000</td>\n      <td>12.000000</td>\n      <td>1.257579</td>\n      <td>2.268914</td>\n      <td>0.520685</td>\n      <td>6.015874</td>\n      <td>...</td>\n      <td>4.789204</td>\n      <td>4.618367</td>\n      <td>0.514061</td>\n      <td>1.979584</td>\n      <td>4.953244</td>\n      <td>1.008262</td>\n      <td>NaN</td>\n      <td>4.718107</td>\n      <td>NaN</td>\n      <td>0.570846</td>\n    </tr>\n    <tr>\n      <th>ECOG_L_1_SMC_AT-avgref_fooof_p_1_cf</th>\n      <td>11.459334</td>\n      <td>NaN</td>\n      <td>22.415095</td>\n      <td>22.458403</td>\n      <td>24.547965</td>\n      <td>22.992731</td>\n      <td>29.234560</td>\n      <td>11.568907</td>\n      <td>14.473225</td>\n      <td>11.958122</td>\n      <td>...</td>\n      <td>9.792505</td>\n      <td>29.645589</td>\n      <td>12.591647</td>\n      <td>34.292628</td>\n      <td>11.196507</td>\n      <td>13.566153</td>\n      <td>NaN</td>\n      <td>26.547965</td>\n      <td>NaN</td>\n      <td>13.401531</td>\n    </tr>\n    <tr>\n      <th>ECOG_L_1_SMC_AT-avgref_fooof_p_1_pw</th>\n      <td>0.668469</td>\n      <td>NaN</td>\n      <td>0.574875</td>\n      <td>0.769056</td>\n      <td>0.365345</td>\n      <td>0.433320</td>\n      <td>0.665602</td>\n      <td>0.502823</td>\n      <td>0.769353</td>\n      <td>0.437727</td>\n      <td>...</td>\n      <td>0.566028</td>\n      <td>0.366499</td>\n      <td>0.728426</td>\n      <td>0.507035</td>\n      <td>0.454592</td>\n      <td>0.552720</td>\n      <td>NaN</td>\n      <td>0.554614</td>\n      <td>NaN</td>\n      <td>0.626761</td>\n    </tr>\n    <tr>\n      <th>ECOG_L_1_SMC_AT-avgref_fooof_p_2_bw</th>\n      <td>0.516264</td>\n      <td>NaN</td>\n      <td>5.546601</td>\n      <td>2.146651</td>\n      <td>NaN</td>\n      <td>2.570564</td>\n      <td>7.332882</td>\n      <td>1.151432</td>\n      <td>12.000000</td>\n      <td>6.169146</td>\n      <td>...</td>\n      <td>NaN</td>\n      <td>0.530979</td>\n      <td>NaN</td>\n      <td>3.796905</td>\n      <td>3.460831</td>\n      <td>0.910432</td>\n      <td>NaN</td>\n      <td>2.781993</td>\n      <td>NaN</td>\n      <td>0.500000</td>\n    </tr>\n    <tr>\n      <th>ECOG_L_1_SMC_AT-avgref_fooof_p_2_cf</th>\n      <td>26.494465</td>\n      <td>NaN</td>\n      <td>31.595431</td>\n      <td>32.111357</td>\n      <td>NaN</td>\n      <td>34.129599</td>\n      <td>36.668284</td>\n      <td>35.180664</td>\n      <td>24.547965</td>\n      <td>30.256634</td>\n      <td>...</td>\n      <td>NaN</td>\n      <td>34.488137</td>\n      <td>NaN</td>\n      <td>38.725344</td>\n      <td>33.259493</td>\n      <td>24.928116</td>\n      <td>NaN</td>\n      <td>33.732948</td>\n      <td>NaN</td>\n      <td>34.954347</td>\n    </tr>\n    <tr>\n      <th>ECOG_L_1_SMC_AT-avgref_fooof_p_2_pw</th>\n      <td>0.589244</td>\n      <td>NaN</td>\n      <td>0.521469</td>\n      <td>0.599865</td>\n      <td>NaN</td>\n      <td>0.658053</td>\n      <td>0.553921</td>\n      <td>0.437487</td>\n      <td>0.327643</td>\n      <td>0.433691</td>\n      <td>...</td>\n      <td>NaN</td>\n      <td>0.470650</td>\n      <td>NaN</td>\n      <td>0.617162</td>\n      <td>0.511117</td>\n      <td>0.611336</td>\n      <td>NaN</td>\n      <td>0.612950</td>\n      <td>NaN</td>\n      <td>0.613186</td>\n    </tr>\n  </tbody>\n</table>\n<p>34 rows × 170 columns</p>\n</div>"
     },
     "execution_count": 15,
     "metadata": {},
     "output_type": "execute_result"
    }
   ],
   "source": [
    "feature_reader.feature_arr[ch_cols].T"
   ],
   "metadata": {
    "collapsed": false,
    "pycharm": {
     "name": "#%%\n"
    }
   }
  },
  {
   "cell_type": "code",
   "execution_count": 16,
   "outputs": [
    {
     "name": "stdout",
     "output_type": "stream",
     "text": [
      "Feature epoch average figure saved to: /home/lauraflyra/Documents/BCCN/Lab_Rotation_DBS_Decoding/Code/py_neuromodulation/examples/data/derivatives/sub-testsub_ses-EphysMedOff_task-buttonpress_run-0/MOV_aligned_features_ch_ECOG_L_1_SMC_AT_fft.png\n"
     ]
    },
    {
     "data": {
      "text/plain": "<Figure size 432x432 with 2 Axes>",
      "image/png": "[encoded data removed]"
     },
     "metadata": {
      "needs_background": "light"
     },
     "output_type": "display_data"
    }
   ],
   "source": [
    "feature_reader.plot_target_averaged_channel(\n",
    "    ch=ch_used,\n",
    "    list_feature_keywords=[feature_used],\n",
    "    epoch_len=4,   # Length of epoch in seconds\n",
    "    threshold=0.5, # Threshold to be used for identifying events\n",
    ")"
   ],
   "metadata": {
    "collapsed": false,
    "pycharm": {
     "name": "#%%\n"
    }
   }
  },
  {
   "cell_type": "code",
   "execution_count": 16,
   "outputs": [],
   "source": [],
   "metadata": {
    "collapsed": false,
    "pycharm": {
     "name": "#%%\n"
    }
   }
  }
 ],
 "metadata": {
  "kernelspec": {
   "display_name": "Python 3",
   "language": "python",
   "name": "python3"
  },
  "language_info": {
   "codemirror_mode": {
    "name": "ipython",
    "version": 2
   },
   "file_extension": ".py",
   "mimetype": "text/x-python",
   "name": "python",
   "nbconvert_exporter": "python",
   "pygments_lexer": "ipython2",
   "version": "2.7.6"
  }
 },
 "nbformat": 4,
 "nbformat_minor": 0
}