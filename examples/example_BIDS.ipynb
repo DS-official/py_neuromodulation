{
 "cells": [
  {
   "cell_type": "markdown",
   "metadata": {
    "collapsed": true,
    "pycharm": {
     "name": "#%% md\n"
    }
   },
   "source": [
    "# Details of an Example Use Case\n",
    "\n",
    "The example_BIDS.py file is a Python script that illustrates how the user would use the py_neuromodulation software. In this notebook, we take this example and go over it step by step, in order to give a better intuition behind each step.\n",
    "\n",
    "We start with importing the necessary packages:"
   ]
  },
  {
   "cell_type": "code",
   "execution_count": 1,
   "metadata": {},
   "outputs": [],
   "source": [
    "import py_neuromodulation as nm"
   ]
  },
  {
   "cell_type": "code",
   "execution_count": 2,
   "metadata": {
    "pycharm": {
     "name": "#%%\n"
    }
   },
   "outputs": [],
   "source": [
    "import os\n",
    "import sys\n",
    "\n",
    "# change root directory of the project\n",
    "SCRIPT_DIR = os.path.dirname(os.path.abspath(''))\n",
    "if SCRIPT_DIR.split(\"/\")[-1] == \"py_neuromodulation\":\n",
    "    # this check is necessary, so we can also run the script from the root directory\n",
    "    SCRIPT_DIR = os.path.join(SCRIPT_DIR, \"examples\")\n",
    "\n",
    "sys.path.append(os.path.dirname(SCRIPT_DIR))\n",
    "\n",
    "# Reload imports to get changes in other scripts\n",
    "%load_ext autoreload\n",
    "%autoreload 2"
   ]
  },
  {
   "cell_type": "code",
   "execution_count": 3,
   "metadata": {
    "pycharm": {
     "name": "#%%\n"
    }
   },
   "outputs": [],
   "source": [
    "import py_neuromodulation as nm\n",
    "import xgboost\n",
    "from py_neuromodulation import (\n",
    "    nm_analysis,\n",
    "    nm_decode,\n",
    "    nm_define_nmchannels,\n",
    "    nm_IO,\n",
    "    nm_plots,\n",
    ")\n",
    "from sklearn import metrics, model_selection\n",
    "from skopt import space as skopt_space"
   ]
  },
  {
   "cell_type": "markdown",
   "metadata": {
    "pycharm": {
     "name": "#%% md\n"
    }
   },
   "source": [
    "## Read BIDS data\n",
    "\n",
    "The first step in any use case is loading the data. Here, we show how the user would load data that is stored in the BIDS format, using the function nm_IO.read_BIDS_data().\n",
    "\n",
    "py_neuromodulation can perform feature estimation and decoding in other types of data, but the user is responsible for the loading step and for guaranteeing that all necessary information is provided. In the next steps we point out which information all datasets must contain in order to use the pipeline."
   ]
  },
  {
   "cell_type": "code",
   "execution_count": 4,
   "metadata": {
    "pycharm": {
     "name": "#%%\n"
    }
   },
   "outputs": [
    {
     "name": "stdout",
     "output_type": "stream",
     "text": [
      "Extracting parameters from /home/lauraflyra/Documents/BCCN/Lab_Rotation_DBS_Decoding/Code/py_neuromodulation/examples/data/sub-testsub/ses-EphysMedOff/ieeg/sub-testsub_ses-EphysMedOff_task-buttonpress_run-0_ieeg.vhdr...\n",
      "Setting channel info structure...\n",
      "Reading channel info from /home/lauraflyra/Documents/BCCN/Lab_Rotation_DBS_Decoding/Code/py_neuromodulation/examples/data/sub-testsub/ses-EphysMedOff/ieeg/sub-testsub_ses-EphysMedOff_task-buttonpress_run-0_channels.tsv.\n",
      "Reading electrode coords from /home/lauraflyra/Documents/BCCN/Lab_Rotation_DBS_Decoding/Code/py_neuromodulation/examples/data/sub-testsub/ses-EphysMedOff/ieeg/sub-testsub_ses-EphysMedOff_acq-StimOff_space-mni_electrodes.tsv.\n"
     ]
    }
   ],
   "source": [
    "sub = \"testsub\"\n",
    "ses = \"EphysMedOff\"\n",
    "task = \"buttonpress\"\n",
    "run = 0\n",
    "datatype = \"ieeg\"\n",
    "\n",
    "# Define run name and access paths in the BIDS format.\n",
    "RUN_NAME = f\"sub-{sub}_ses-{ses}_task-{task}_run-{run}\"\n",
    "\n",
    "PATH_RUN = os.path.join(\n",
    "    (os.path.join(SCRIPT_DIR, \"data\")),\n",
    "    f\"sub-{sub}\",\n",
    "    f\"ses-{ses}\",\n",
    "    datatype,\n",
    "    RUN_NAME,\n",
    ")\n",
    "PATH_BIDS = os.path.join(SCRIPT_DIR, \"data\")\n",
    "\n",
    "# Provide a path for the output data.\n",
    "PATH_OUT = os.path.join(SCRIPT_DIR, \"data\", \"derivatives\")\n",
    "\n",
    "(\n",
    "    raw,\n",
    "    data,\n",
    "    sfreq,\n",
    "    line_noise,\n",
    "    coord_list,\n",
    "    coord_names,\n",
    ") = nm_IO.read_BIDS_data(\n",
    "    PATH_RUN=PATH_RUN, BIDS_PATH=PATH_BIDS, datatype=datatype\n",
    ")"
   ]
  },
  {
   "cell_type": "markdown",
   "metadata": {
    "pycharm": {
     "name": "#%% md\n"
    }
   },
   "source": [
    "##  Define the channels\n",
    "\n",
    "BIDS data is saved in BrainVision format, which consists of three separate files:\n",
    "\n",
    "- A text header file (.vhdr) containing meta data\n",
    "- A text marker file (.vmrk) containing information about events in the data\n",
    "- A binary data file (.eeg) containing the voltage values of the EEG (or as in our case, iEEG)\n",
    "\n",
    "The MNE-BIDS Python library reads this data and stores it in a MNE-Python Raw object.\n",
    "\n",
    "This Raw object has as attribute the channel names, and as a method get_channel_types, that returns a list of channel type for each channel.\n",
    "\n",
    "The Raw object also stores the measurement information in raw.info, where one can also access the bad channels, i.e, a list of noisy/broken channels, by name. These channels will by default be ignored by many processing steps.\n",
    "\n",
    "__If the user insert by hand the list of channel names, their respective types and the information on which are the bad ones, any type of data can be used, not necessarily in the BIDS format.__\n",
    "\n",
    "Here \"SQUARED_ROTATION\" is used as target channel. After feature estimation, this channel will be normalized and added in a time aligned manner to the features output csv file."
   ]
  },
  {
   "cell_type": "code",
   "execution_count": 5,
   "metadata": {
    "pycharm": {
     "name": "#%%\n"
    }
   },
   "outputs": [],
   "source": [
    "nm_channels = nm_define_nmchannels.set_channels(\n",
    "    ch_names=raw.ch_names,\n",
    "    ch_types=raw.get_channel_types(),\n",
    "    reference=\"default\",\n",
    "    bads=raw.info[\"bads\"],\n",
    "    new_names=\"default\",\n",
    "    used_types=(\"ecog\", \"dbs\", \"seeg\"),\n",
    "    target_keywords=(\"SQUARED_ROTATION\",),\n",
    ")"
   ]
  },
  {
   "cell_type": "markdown",
   "metadata": {
    "pycharm": {
     "name": "#%% md\n"
    }
   },
   "source": [
    "## Feature Estimation\n",
    "\n",
    "nm.Stream is where the magic happens. It is the class that handles all feature estimation steps. First we create an instance of that class, and then use the set_settings_fast_compute function to only select fft features and a minimal set of rereferencing, normalization, notch filtering and post processing normalization methods."
   ]
  },
  {
   "cell_type": "code",
   "execution_count": 6,
   "metadata": {
    "pycharm": {
     "name": "#%%\n"
    }
   },
   "outputs": [],
   "source": [
    "stream = nm.Stream(\n",
    "    settings=None,\n",
    "    nm_channels=nm_channels,\n",
    "    path_grids=None,\n",
    "    verbose=True,\n",
    ")\n",
    "\n",
    "stream.set_settings_fast_compute()\n",
    "stream.settings[\"features\"][\"raw_hjorth\"] = True\n",
    "stream.settings[\"postprocessing\"][\"project_cortex\"] = True\n",
    "stream.settings[\"postprocessing\"][\"project_subcortex\"] = True"
   ]
  },
  {
   "cell_type": "markdown",
   "metadata": {
    "pycharm": {
     "name": "#%% md\n"
    }
   },
   "source": [
    "In the cell below, if the user provides sfreq, line_noise, coord_list and coord_names, then there's no need for data in BIDS format.\n",
    "\n",
    "In stream.run the data should also be manually inserted."
   ]
  },
  {
   "cell_type": "code",
   "execution_count": 7,
   "metadata": {
    "pycharm": {
     "name": "#%%\n"
    }
   },
   "outputs": [
    {
     "name": "stdout",
     "output_type": "stream",
     "text": [
      "No Error occurred when testing the settings.\n",
      "No data specified. Sanity checks related to the length of the signal relative to the filter order will be skipped.\n",
      "Setting up band-stop filter\n",
      "\n",
      "FIR filter parameters\n",
      "---------------------\n",
      "Designing a one-pass, zero-phase, non-causal bandstop filter:\n",
      "- Windowed time-domain design (firwin) method\n",
      "- Hamming window with 0.0194 passband ripple and 53 dB stopband attenuation\n",
      "- Lower transition bandwidth: 7.50 Hz\n",
      "- Upper transition bandwidth: 7.50 Hz\n",
      "- Filter length: 999 samples (0.999 sec)\n",
      "\n",
      "Last batch took: 0.02 seconds\n",
      "1.0 seconds of data processed\n",
      "Last batch took: 0.02 seconds\n",
      "1.1 seconds of data processed\n",
      "Last batch took: 0.02 seconds\n",
      "1.2 seconds of data processed\n",
      "Last batch took: 0.02 seconds\n",
      "1.3 seconds of data processed\n",
      "Last batch took: 0.02 seconds\n",
      "1.4 seconds of data processed\n",
      "Last batch took: 0.01 seconds\n",
      "1.5 seconds of data processed\n",
      "Last batch took: 0.01 seconds\n",
      "1.6 seconds of data processed\n",
      "Last batch took: 0.01 seconds\n",
      "1.7 seconds of data processed\n",
      "Last batch took: 0.01 seconds\n",
      "1.8 seconds of data processed\n",
      "Last batch took: 0.01 seconds\n",
      "1.9 seconds of data processed\n",
      "Last batch took: 0.01 seconds\n",
      "2.0 seconds of data processed\n",
      "Last batch took: 0.02 seconds\n",
      "2.1 seconds of data processed\n",
      "Last batch took: 0.01 seconds\n",
      "2.2 seconds of data processed\n",
      "Last batch took: 0.01 seconds\n",
      "2.3 seconds of data processed\n",
      "Last batch took: 0.01 seconds\n",
      "2.4 seconds of data processed\n",
      "Last batch took: 0.01 seconds\n",
      "2.5 seconds of data processed\n",
      "Last batch took: 0.01 seconds\n",
      "2.6 seconds of data processed\n",
      "Last batch took: 0.01 seconds\n",
      "2.7 seconds of data processed\n",
      "Last batch took: 0.01 seconds\n",
      "2.8 seconds of data processed\n",
      "Last batch took: 0.01 seconds\n",
      "2.9 seconds of data processed\n",
      "Last batch took: 0.01 seconds\n",
      "3.0 seconds of data processed\n",
      "Last batch took: 0.01 seconds\n",
      "3.1 seconds of data processed\n",
      "Last batch took: 0.01 seconds\n",
      "3.2 seconds of data processed\n",
      "Last batch took: 0.01 seconds\n",
      "3.3 seconds of data processed\n",
      "Last batch took: 0.01 seconds\n",
      "3.4 seconds of data processed\n",
      "Last batch took: 0.01 seconds\n",
      "3.5 seconds of data processed\n",
      "Last batch took: 0.01 seconds\n",
      "3.6 seconds of data processed\n",
      "Last batch took: 0.01 seconds\n",
      "3.7 seconds of data processed\n",
      "Last batch took: 0.01 seconds\n",
      "3.8 seconds of data processed\n",
      "Last batch took: 0.01 seconds\n",
      "3.9 seconds of data processed\n",
      "Last batch took: 0.01 seconds\n",
      "4.0 seconds of data processed\n",
      "Last batch took: 0.01 seconds\n",
      "4.1 seconds of data processed\n",
      "Last batch took: 0.01 seconds\n",
      "4.2 seconds of data processed\n",
      "Last batch took: 0.02 seconds\n",
      "4.3 seconds of data processed\n",
      "Last batch took: 0.01 seconds\n",
      "4.4 seconds of data processed\n",
      "Last batch took: 0.01 seconds\n",
      "4.5 seconds of data processed\n",
      "Last batch took: 0.01 seconds\n",
      "4.6 seconds of data processed\n",
      "Last batch took: 0.01 seconds\n",
      "4.7 seconds of data processed\n",
      "Last batch took: 0.02 seconds\n",
      "4.8 seconds of data processed\n",
      "Last batch took: 0.01 seconds\n",
      "4.9 seconds of data processed\n",
      "Last batch took: 0.01 seconds\n",
      "5.0 seconds of data processed\n",
      "Last batch took: 0.01 seconds\n",
      "5.1 seconds of data processed\n",
      "Last batch took: 0.01 seconds\n",
      "5.2 seconds of data processed\n",
      "Last batch took: 0.02 seconds\n",
      "5.3 seconds of data processed\n",
      "Last batch took: 0.01 seconds\n",
      "5.4 seconds of data processed\n",
      "Last batch took: 0.02 seconds\n",
      "5.5 seconds of data processed\n",
      "Last batch took: 0.01 seconds\n",
      "5.6 seconds of data processed\n",
      "Last batch took: 0.02 seconds\n",
      "5.7 seconds of data processed\n",
      "Last batch took: 0.01 seconds\n",
      "5.8 seconds of data processed\n",
      "Last batch took: 0.01 seconds\n",
      "5.9 seconds of data processed\n",
      "Last batch took: 0.01 seconds\n",
      "6.0 seconds of data processed\n",
      "Last batch took: 0.01 seconds\n",
      "6.1 seconds of data processed\n",
      "Last batch took: 0.02 seconds\n",
      "6.2 seconds of data processed\n",
      "Last batch took: 0.02 seconds\n",
      "6.3 seconds of data processed\n",
      "Last batch took: 0.01 seconds\n",
      "6.4 seconds of data processed\n",
      "Last batch took: 0.01 seconds\n",
      "6.5 seconds of data processed\n",
      "Last batch took: 0.01 seconds\n",
      "6.6 seconds of data processed\n",
      "Last batch took: 0.03 seconds\n",
      "6.7 seconds of data processed\n",
      "Last batch took: 0.01 seconds\n",
      "6.8 seconds of data processed\n",
      "Last batch took: 0.02 seconds\n",
      "6.9 seconds of data processed\n",
      "Last batch took: 0.01 seconds\n",
      "7.0 seconds of data processed\n",
      "Last batch took: 0.01 seconds\n",
      "7.1 seconds of data processed\n",
      "Last batch took: 0.01 seconds\n",
      "7.2 seconds of data processed\n",
      "Last batch took: 0.01 seconds\n",
      "7.3 seconds of data processed\n",
      "Last batch took: 0.01 seconds\n",
      "7.4 seconds of data processed\n",
      "Last batch took: 0.01 seconds\n",
      "7.5 seconds of data processed\n",
      "Last batch took: 0.01 seconds\n",
      "7.6 seconds of data processed\n",
      "Last batch took: 0.01 seconds\n",
      "7.7 seconds of data processed\n",
      "Last batch took: 0.01 seconds\n",
      "7.8 seconds of data processed\n",
      "Last batch took: 0.02 seconds\n",
      "7.9 seconds of data processed\n",
      "Last batch took: 0.01 seconds\n",
      "8.0 seconds of data processed\n",
      "Last batch took: 0.01 seconds\n",
      "8.1 seconds of data processed\n",
      "Last batch took: 0.01 seconds\n",
      "8.2 seconds of data processed\n",
      "Last batch took: 0.02 seconds\n",
      "8.3 seconds of data processed\n",
      "Last batch took: 0.01 seconds\n",
      "8.4 seconds of data processed\n",
      "Last batch took: 0.01 seconds\n",
      "8.5 seconds of data processed\n",
      "Last batch took: 0.01 seconds\n",
      "8.6 seconds of data processed\n",
      "Last batch took: 0.01 seconds\n",
      "8.7 seconds of data processed\n",
      "Last batch took: 0.01 seconds\n",
      "8.8 seconds of data processed\n",
      "Last batch took: 0.01 seconds\n",
      "8.9 seconds of data processed\n",
      "Last batch took: 0.01 seconds\n",
      "9.0 seconds of data processed\n",
      "Last batch took: 0.02 seconds\n",
      "9.1 seconds of data processed\n",
      "Last batch took: 0.01 seconds\n",
      "9.2 seconds of data processed\n",
      "Last batch took: 0.02 seconds\n",
      "9.3 seconds of data processed\n",
      "Last batch took: 0.02 seconds\n",
      "9.4 seconds of data processed\n",
      "Last batch took: 0.01 seconds\n",
      "9.5 seconds of data processed\n",
      "Last batch took: 0.01 seconds\n",
      "9.6 seconds of data processed\n",
      "Last batch took: 0.01 seconds\n",
      "9.7 seconds of data processed\n",
      "Last batch took: 0.01 seconds\n",
      "9.8 seconds of data processed\n",
      "Last batch took: 0.02 seconds\n",
      "9.9 seconds of data processed\n",
      "Last batch took: 0.01 seconds\n",
      "10.0 seconds of data processed\n",
      "Last batch took: 0.01 seconds\n",
      "10.1 seconds of data processed\n",
      "Last batch took: 0.01 seconds\n",
      "10.2 seconds of data processed\n",
      "Last batch took: 0.02 seconds\n",
      "10.3 seconds of data processed\n",
      "Last batch took: 0.01 seconds\n",
      "10.4 seconds of data processed\n",
      "Last batch took: 0.01 seconds\n",
      "10.5 seconds of data processed\n",
      "Last batch took: 0.01 seconds\n",
      "10.6 seconds of data processed\n",
      "Last batch took: 0.02 seconds\n",
      "10.7 seconds of data processed\n",
      "Last batch took: 0.01 seconds\n",
      "10.8 seconds of data processed\n",
      "Last batch took: 0.02 seconds\n",
      "10.9 seconds of data processed\n",
      "Last batch took: 0.01 seconds\n",
      "11.0 seconds of data processed\n",
      "Last batch took: 0.02 seconds\n",
      "11.1 seconds of data processed\n",
      "Last batch took: 0.01 seconds\n",
      "11.2 seconds of data processed\n",
      "Last batch took: 0.01 seconds\n",
      "11.3 seconds of data processed\n",
      "Last batch took: 0.02 seconds\n",
      "11.4 seconds of data processed\n",
      "Last batch took: 0.01 seconds\n",
      "11.5 seconds of data processed\n",
      "Last batch took: 0.01 seconds\n",
      "11.6 seconds of data processed\n",
      "Last batch took: 0.01 seconds\n",
      "11.7 seconds of data processed\n",
      "Last batch took: 0.01 seconds\n",
      "11.8 seconds of data processed\n",
      "Last batch took: 0.01 seconds\n",
      "11.9 seconds of data processed\n",
      "Last batch took: 0.01 seconds\n",
      "12.0 seconds of data processed\n",
      "Last batch took: 0.01 seconds\n",
      "12.1 seconds of data processed\n",
      "Last batch took: 0.01 seconds\n",
      "12.2 seconds of data processed\n",
      "Last batch took: 0.01 seconds\n",
      "12.3 seconds of data processed\n",
      "Last batch took: 0.01 seconds\n",
      "12.4 seconds of data processed\n",
      "Last batch took: 0.01 seconds\n",
      "12.5 seconds of data processed\n",
      "Last batch took: 0.01 seconds\n",
      "12.6 seconds of data processed\n",
      "Last batch took: 0.01 seconds\n",
      "12.7 seconds of data processed\n",
      "Last batch took: 0.01 seconds\n",
      "12.8 seconds of data processed\n",
      "Last batch took: 0.01 seconds\n",
      "12.9 seconds of data processed\n",
      "Last batch took: 0.02 seconds\n",
      "13.0 seconds of data processed\n",
      "Last batch took: 0.02 seconds\n",
      "13.1 seconds of data processed\n",
      "Last batch took: 0.01 seconds\n",
      "13.2 seconds of data processed\n",
      "Last batch took: 0.01 seconds\n",
      "13.3 seconds of data processed\n",
      "Last batch took: 0.01 seconds\n",
      "13.4 seconds of data processed\n",
      "Last batch took: 0.02 seconds\n",
      "13.5 seconds of data processed\n",
      "Last batch took: 0.02 seconds\n",
      "13.6 seconds of data processed\n",
      "Last batch took: 0.02 seconds\n",
      "13.7 seconds of data processed\n",
      "Last batch took: 0.01 seconds\n",
      "13.8 seconds of data processed\n",
      "Last batch took: 0.01 seconds\n",
      "13.9 seconds of data processed\n",
      "Last batch took: 0.01 seconds\n",
      "14.0 seconds of data processed\n",
      "Last batch took: 0.01 seconds\n",
      "14.1 seconds of data processed\n",
      "Last batch took: 0.02 seconds\n",
      "14.2 seconds of data processed\n",
      "Last batch took: 0.02 seconds\n",
      "14.3 seconds of data processed\n",
      "Last batch took: 0.02 seconds\n",
      "14.4 seconds of data processed\n",
      "Last batch took: 0.02 seconds\n",
      "14.5 seconds of data processed\n",
      "Last batch took: 0.02 seconds\n",
      "14.6 seconds of data processed\n",
      "Last batch took: 0.01 seconds\n",
      "14.7 seconds of data processed\n",
      "Last batch took: 0.01 seconds\n",
      "14.8 seconds of data processed\n",
      "Last batch took: 0.01 seconds\n",
      "14.9 seconds of data processed\n",
      "Last batch took: 0.03 seconds\n",
      "15.0 seconds of data processed\n",
      "Last batch took: 0.01 seconds\n",
      "15.1 seconds of data processed\n",
      "Last batch took: 0.01 seconds\n",
      "15.2 seconds of data processed\n",
      "Last batch took: 0.01 seconds\n",
      "15.3 seconds of data processed\n",
      "Last batch took: 0.01 seconds\n",
      "15.4 seconds of data processed\n",
      "Last batch took: 0.01 seconds\n",
      "15.5 seconds of data processed\n",
      "Last batch took: 0.01 seconds\n",
      "15.6 seconds of data processed\n",
      "Last batch took: 0.01 seconds\n",
      "15.7 seconds of data processed\n",
      "Last batch took: 0.01 seconds\n",
      "15.8 seconds of data processed\n",
      "Last batch took: 0.02 seconds\n",
      "15.9 seconds of data processed\n",
      "Last batch took: 0.01 seconds\n",
      "16.0 seconds of data processed\n",
      "Last batch took: 0.01 seconds\n",
      "16.1 seconds of data processed\n",
      "Last batch took: 0.01 seconds\n",
      "16.2 seconds of data processed\n",
      "Last batch took: 0.01 seconds\n",
      "16.3 seconds of data processed\n",
      "Last batch took: 0.01 seconds\n",
      "16.4 seconds of data processed\n",
      "Last batch took: 0.01 seconds\n",
      "16.5 seconds of data processed\n",
      "Last batch took: 0.01 seconds\n",
      "16.6 seconds of data processed\n",
      "Last batch took: 0.01 seconds\n",
      "16.7 seconds of data processed\n",
      "Last batch took: 0.01 seconds\n",
      "16.8 seconds of data processed\n",
      "Last batch took: 0.01 seconds\n",
      "16.9 seconds of data processed\n",
      "Last batch took: 0.01 seconds\n",
      "17.0 seconds of data processed\n",
      "Last batch took: 0.02 seconds\n",
      "17.1 seconds of data processed\n",
      "Last batch took: 0.01 seconds\n",
      "17.2 seconds of data processed\n",
      "Last batch took: 0.01 seconds\n",
      "17.3 seconds of data processed\n",
      "Last batch took: 0.01 seconds\n",
      "17.4 seconds of data processed\n",
      "Last batch took: 0.02 seconds\n",
      "17.5 seconds of data processed\n",
      "Last batch took: 0.01 seconds\n",
      "17.6 seconds of data processed\n",
      "Last batch took: 0.01 seconds\n",
      "17.7 seconds of data processed\n",
      "Last batch took: 0.01 seconds\n",
      "17.8 seconds of data processed\n",
      "Last batch took: 0.01 seconds\n",
      "17.9 seconds of data processed\n",
      "_SIDECAR.json saved to /home/lauraflyra/Documents/BCCN/Lab_Rotation_DBS_Decoding/Code/py_neuromodulation/examples/data/derivatives/sub-testsub_ses-EphysMedOff_task-buttonpress_run-0/sub-testsub_ses-EphysMedOff_task-buttonpress_run-0_SIDECAR.json\n",
      "FEATURES.csv saved to /home/lauraflyra/Documents/BCCN/Lab_Rotation_DBS_Decoding/Code/py_neuromodulation/examples/data/derivatives/sub-testsub_ses-EphysMedOff_task-buttonpress_run-0/sub-testsub_ses-EphysMedOff_task-buttonpress_run-0_FEATURES.csv\n",
      "settings.json saved to /home/lauraflyra/Documents/BCCN/Lab_Rotation_DBS_Decoding/Code/py_neuromodulation/examples/data/derivatives/sub-testsub_ses-EphysMedOff_task-buttonpress_run-0/sub-testsub_ses-EphysMedOff_task-buttonpress_run-0_SETTINGS.json\n",
      "nm_channels.csv saved to /home/lauraflyra/Documents/BCCN/Lab_Rotation_DBS_Decoding/Code/py_neuromodulation/examples/data/derivatives/sub-testsub_ses-EphysMedOff_task-buttonpress_run-0/sub-testsub_ses-EphysMedOff_task-buttonpress_run-0_nm_channels.csv\n"
     ]
    }
   ],
   "source": [
    "stream.init_stream(\n",
    "    sfreq=sfreq,\n",
    "    line_noise=line_noise,\n",
    "    coord_list=coord_list,\n",
    "    coord_names=coord_names,\n",
    ")\n",
    "\n",
    "stream.run(\n",
    "    data=data,\n",
    "    out_path_root=PATH_OUT,\n",
    "    folder_name=RUN_NAME,\n",
    ")"
   ]
  },
  {
   "cell_type": "markdown",
   "metadata": {
    "pycharm": {
     "name": "#%% md\n"
    }
   },
   "source": [
    "As soon as the command stream.run() above is executed, the feature estimation step is done and the results are saved in the BIDS format into the /py_neuromodulation/examples/data/derivatives/sub-testsub_ses-EphysMedOff_task-buttonpress_run-0/ directory.\n",
    "\n",
    "The features are in a file _FEATURES.csv\n",
    "The used channels are stored in nm_channels.csv\n",
    "The settings chosen are in _SETTINGS.json\n",
    "Additional information that is not part of settings nor channels is stored in _SIDECAR.json\n",
    "\n"
   ]
  },
  {
   "cell_type": "markdown",
   "metadata": {
    "pycharm": {
     "name": "#%% md\n"
    }
   },
   "source": [
    "## Analysing results\n",
    "\n",
    "We can now analyse the results of the feature estimation using the Feature_Reader class. All features are estimated for each channel. For now, we plot results for only one ECoG channel."
   ]
  },
  {
   "cell_type": "code",
   "execution_count": 8,
   "metadata": {
    "pycharm": {
     "name": "#%%\n"
    }
   },
   "outputs": [
    {
     "name": "stdout",
     "output_type": "stream",
     "text": [
      "Feature epoch average figure saved to: /home/lauraflyra/Documents/BCCN/Lab_Rotation_DBS_Decoding/Code/py_neuromodulation/examples/data/derivatives/sub-testsub_ses-EphysMedOff_task-buttonpress_run-0/MOV_aligned_features_ch_ECOG_L_1_SMC_AT_fft.png\n"
     ]
    },
    {
     "data": {
      "text/plain": "<Figure size 432x432 with 2 Axes>",
      "image/png": "[encoded data removed]"
     },
     "metadata": {
      "needs_background": "light"
     },
     "output_type": "display_data"
    }
   ],
   "source": [
    "# init analyzer\n",
    "feature_reader = nm_analysis.Feature_Reader(\n",
    "    feature_dir=PATH_OUT, feature_file=RUN_NAME\n",
    ")\n",
    "\n",
    "# plot for a single channel\n",
    "ch_used = feature_reader.nm_channels.query(\n",
    "    '(type==\"ecog\") and (used == 1)'\n",
    ").iloc[0][\"name\"]\n",
    "\n",
    "feature_used = (\n",
    "    \"stft\" if feature_reader.settings[\"features\"][\"stft\"] else \"fft\"\n",
    ")\n",
    "\n",
    "feature_reader.plot_target_averaged_channel(\n",
    "    ch=ch_used,\n",
    "    list_feature_keywords=[feature_used],\n",
    "    epoch_len=4,   # Length of epoch in seconds\n",
    "    threshold=0.5, # Threshold to be used for identifying events\n",
    ")"
   ]
  },
  {
   "cell_type": "markdown",
   "metadata": {
    "pycharm": {
     "name": "#%% md\n"
    }
   },
   "source": [
    "In the first plot we see how the features change before, during and after movement. The time axis of the features is aligned to the target channel.\n",
    "\n",
    "The function plot_target_averaged_channel() receives a threshold as optional input, for the case where the target is continuous, for example, a rotation movement. In that case, we need to threshold it somehow to get an \"event\", in which respect we can plot the features. For our case, it simplifies the problem to different classes and for t=0 a different class onsets, as we can see in the second plot, showing the target plotted for all events where it crossed the threshold.\n",
    "\n",
    "The lighter plot is the individual movement trace, and the thicker one is the average.\n",
    "\n",
    "The plot is saved as a .png in the /py_neuromodulation/examples/data/derivatives/sub-testsub_ses-EphysMedOff_task-buttonpress_run-0/ directory.\n",
    "CCA"
   ]
  },
  {
   "cell_type": "markdown",
   "metadata": {
    "pycharm": {
     "name": "#%% md\n"
    }
   },
   "source": [
    "## Decoding\n",
    "\n",
    "The main focus of the py_neuromodulation pipeline is the feature estimation. Nevertheless, the user can also use the pipeline for Machine Learning decoding. It can be used for regression and classification problems, and also for unsupervised methods, such as PCA and CCA.\n",
    "\n",
    "Here we show an example using the XGBOOST Classifier. The labels used come from the target, in this case, the \"SQUARED_ROTATION\".\n",
    "\n",
    "The performance results are saved and plotted below. Again the figure is saved as a .png in the /py_neuromodulation/examples/data/derivatives/sub-testsub_ses-EphysMedOff_task-buttonpress_run-0/ directory."
   ]
  },
  {
   "cell_type": "code",
   "execution_count": 9,
   "metadata": {
    "pycharm": {
     "name": "#%%\n"
    }
   },
   "outputs": [
    {
     "name": "stdout",
     "output_type": "stream",
     "text": [
      "no movements in label\n",
      "no movements in label\n",
      "no movements in label\n",
      "no movements in label\n",
      "no movements in label\n",
      "no movements in label\n",
      "no movements in label\n",
      "no movements in label\n",
      "no movements in label\n",
      "no movements in label\n",
      "no movements in label\n",
      "no movements in label\n",
      "no movements in label\n",
      "no movements in label\n",
      "no movements in label\n",
      "no movements in label\n",
      "no movements in label\n",
      "no movements in label\n",
      "no movements in label\n",
      "no movements in label\n",
      "no movements in label\n",
      "model being saved to: /home/lauraflyra/Documents/BCCN/Lab_Rotation_DBS_Decoding/Code/py_neuromodulation/examples/data/derivatives/sub-testsub_ses-EphysMedOff_task-buttonpress_run-0/sub-testsub_ses-EphysMedOff_task-buttonpress_run-0_LM_ML_RES.p\n"
     ]
    },
    {
     "data": {
      "text/plain": "<Figure size 1500x900 with 1 Axes>",
      "image/png": "[encoded data removed]"
     },
     "metadata": {
      "needs_background": "light"
     },
     "output_type": "display_data"
    }
   ],
   "source": [
    "model = xgboost.XGBClassifier(use_label_encoder=False)\n",
    "\n",
    "bay_opt_param_space = [\n",
    "    skopt_space.Integer(1, 100, name=\"max_depth\"),\n",
    "    skopt_space.Real(\n",
    "        10 ** -5, 10 ** 0, \"log-uniform\", name=\"learning_rate\"\n",
    "    ),\n",
    "    skopt_space.Real(10 ** 0, 10 ** 1, \"uniform\", name=\"gamma\"),\n",
    "]\n",
    "\n",
    "feature_reader.decoder = nm_decode.Decoder(\n",
    "    features=feature_reader.feature_arr,\n",
    "    label=feature_reader.label,\n",
    "    label_name=feature_reader.label_name,\n",
    "    used_chs=feature_reader.used_chs,\n",
    "    model=model,\n",
    "    eval_method=metrics.balanced_accuracy_score,\n",
    "    cv_method=model_selection.KFold(n_splits=3, shuffle=True),\n",
    "    get_movement_detection_rate=True,\n",
    "    min_consequent_count=2,\n",
    "    TRAIN_VAL_SPLIT=False,\n",
    "    RUN_BAY_OPT=False,\n",
    "    bay_opt_param_space=bay_opt_param_space,\n",
    "    use_nested_cv=True,\n",
    "    sfreq=feature_reader.settings[\"sampling_rate_features_hz\"],\n",
    ")\n",
    "\n",
    "performances = feature_reader.run_ML_model(\n",
    "    estimate_channels=True,\n",
    "    estimate_gridpoints=False,\n",
    "    estimate_all_channels_combined=True,\n",
    "    save_results=True,\n",
    ")\n",
    "\n",
    "df_per = feature_reader.get_dataframe_performances(performances)\n",
    "\n",
    "nm_plots.plot_df_subjects(\n",
    "    df_per, x_col=\"sub\", y_col=\"performance_test\", hue=\"ch_type\",\n",
    "    PATH_SAVE=os.path.join(PATH_OUT, RUN_NAME, RUN_NAME + \"_decoding_performance.png\")\n",
    ")"
   ]
  },
  {
   "cell_type": "markdown",
   "metadata": {
    "pycharm": {
     "name": "#%% md\n"
    }
   },
   "source": [
    "### References\n",
    "\n",
    "Holdgraf, C., Appelhoff, S., Bickel, S. et al. iEEG-BIDS, extending the Brain Imaging Data Structure specification to human intracranial electrophysiology. Sci Data 6, 102 (2019). https://doi.org/10.1038/s41597-019-0105-7\n",
    "\n",
    "Appelhoff, S., Sanderson, M., Brooks, T., Vliet, M., Quentin, R., Holdgraf, C., Chaumon, M., Mikulan, E., Tavabi, K., Höchenberger, R., Welke, D., Brunner, C., Rockhill, A., Larson, E., Gramfort, A., & Jas, M. (2019). MNE-BIDS: Organizing electrophysiological data into the BIDS format and facilitating their analysis. Journal of Open Source Software, 4:1896. DOI: 10.21105/joss.01896\n",
    "\n",
    "https://www.brainproducts.com/support-resources/brainvision-core-data-format-1-0/"
   ]
  }
 ],
 "metadata": {
  "kernelspec": {
   "display_name": "Python 3 (ipykernel)",
   "language": "python",
   "name": "python3"
  },
  "language_info": {
   "codemirror_mode": {
    "name": "ipython",
    "version": 3
   },
   "file_extension": ".py",
   "mimetype": "text/x-python",
   "name": "python",
   "nbconvert_exporter": "python",
   "pygments_lexer": "ipython3",
   "version": "3.10.4"
  }
 },
 "nbformat": 4,
 "nbformat_minor": 1
}