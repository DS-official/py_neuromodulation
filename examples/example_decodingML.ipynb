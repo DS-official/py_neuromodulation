{
 "cells": [
  {
   "cell_type": "markdown",
   "source": [
    "# Decoding with Machine Learning\n",
    "\n",
    "This notebook is going to load data, with the feature estimation steps already precomputed. Therefore, you cannot reproduce the results. We take this as a tutorial in how to use the decoding toolbox inside the py_neuromodulation pypeline. We also will run a typical exploratory data analysis - EDA, and will show how the user can take it's preferred models and cross-validation methods to run them here.\n",
    "\n",
    "(We suggest you first follow example_BIDS.py and then come back here)\n",
    "\n",
    "Again we start with importing the necessary packages:"
   ],
   "metadata": {
    "collapsed": false
   }
  },
  {
   "cell_type": "markdown",
   "source": [
    "notebook: ML with presaved data (run py_nm for upper data), read precomputed features, run decoding for individual channels, grid points, all channels combined. Visualize decoding results. Add typical EDA, e.g. boxplot of a single feature movement vs rest, time plot, correlation matrix of features,"
   ],
   "metadata": {
    "collapsed": false
   }
  },
  {
   "cell_type": "code",
   "execution_count": 1,
   "outputs": [],
   "source": [
    "import os\n",
    "import sys\n",
    "\n",
    "# change root directory of the project\n",
    "SCRIPT_DIR = os.path.dirname(os.path.abspath(''))\n",
    "if os.path.basename(SCRIPT_DIR) == \"py_neuromodulation\":\n",
    "    # this check is necessary, so we can also run the script from the root directory\n",
    "    SCRIPT_DIR = os.path.join(SCRIPT_DIR, \"examples\")\n",
    "\n",
    "sys.path.append(os.path.dirname(SCRIPT_DIR))\n",
    "\n",
    "# Reload imports to get changes in other scripts\n",
    "%load_ext autoreload\n",
    "%autoreload 2"
   ],
   "metadata": {
    "collapsed": false,
    "pycharm": {
     "name": "#%%\n"
    }
   }
  },
  {
   "cell_type": "code",
   "execution_count": 2,
   "outputs": [],
   "source": [
    "import py_neuromodulation as nm\n",
    "from py_neuromodulation import (\n",
    "    nm_analysis,\n",
    "    nm_decode,\n",
    "    nm_define_nmchannels,\n",
    "    nm_IO,\n",
    "    nm_plots,\n",
    ")\n",
    "from sklearn import metrics, model_selection\n",
    "from skopt import space as skopt_space\n",
    "from scipy import io\n",
    "import numpy as np\n",
    "import matplotlib.pyplot as plt"
   ],
   "metadata": {
    "collapsed": false,
    "pycharm": {
     "name": "#%%\n"
    }
   }
  },
  {
   "cell_type": "code",
   "execution_count": 4,
   "outputs": [
    {
     "name": "stdout",
     "output_type": "stream",
     "text": [
      "Extracting parameters from /home/lauraflyra/Documents/BCCN/Lab_Rotation_DBS_Decoding/BIDS_data/sub-006/ses-EcogLfpMedOff02/ieeg/sub-006_ses-EcogLfpMedOff02_task-SelfpacedRotationL_acq-StimOn_run-1_ieeg.vhdr...\n",
      "Setting channel info structure...\n",
      "Reading channel info from /home/lauraflyra/Documents/BCCN/Lab_Rotation_DBS_Decoding/BIDS_data/sub-006/ses-EcogLfpMedOff02/ieeg/sub-006_ses-EcogLfpMedOff02_task-SelfpacedRotationL_acq-StimOn_run-1_channels.tsv.\n",
      "Reading electrode coords from /home/lauraflyra/Documents/BCCN/Lab_Rotation_DBS_Decoding/BIDS_data/sub-006/ses-EcogLfpMedOff02/ieeg/sub-006_ses-EcogLfpMedOff02_space-MNI152NLin2009bAsym_electrodes.tsv.\n"
     ]
    }
   ],
   "source": [
    "# Run here the feature estimation steps in the Berlin data set subject, then export it to example_decodingML\n",
    "\n",
    "import os\n",
    "import py_neuromodulation as nm\n",
    "from py_neuromodulation import (\n",
    "    nm_analysis,\n",
    "    nm_decode,\n",
    "    nm_define_nmchannels,\n",
    "    nm_IO,\n",
    "    nm_plots,\n",
    ")\n",
    "\n",
    "sub = \"006\"\n",
    "ses = \"EcogLfpMedOff02\"\n",
    "task = \"SelfpacedRotationL\"\n",
    "acq = \"StimOn\"\n",
    "run = 1\n",
    "datatype = \"ieeg\"\n",
    "\n",
    "# Define run name and access paths in the BIDS format.\n",
    "RUN_NAME = f\"sub-{sub}_ses-{ses}_task-{task}_acq-{acq}_run-{run}\"\n",
    "\n",
    "PATH_RUN = os.path.join(\n",
    "    \"/home/lauraflyra/Documents/BCCN/Lab_Rotation_DBS_Decoding/BIDS_data\",\n",
    "    f\"sub-{sub}\",\n",
    "    f\"ses-{ses}\",\n",
    "    datatype,\n",
    "    RUN_NAME,\n",
    ")\n",
    "PATH_BIDS = \"/home/lauraflyra/Documents/BCCN/Lab_Rotation_DBS_Decoding/BIDS_data\"\n",
    "\n",
    "# Provide a path for the output data.\n",
    "PATH_OUT = os.path.join(\"/home/lauraflyra/Documents/BCCN/Lab_Rotation_DBS_Decoding/BIDS_data\",\n",
    "                        \"derivatives\")\n",
    "\n",
    "(\n",
    "    raw,\n",
    "    data,\n",
    "    sfreq,\n",
    "    line_noise,\n",
    "    coord_list,\n",
    "    coord_names,\n",
    ") = nm_IO.read_BIDS_data(\n",
    "    PATH_RUN=PATH_RUN, BIDS_PATH=PATH_BIDS, datatype=datatype\n",
    ")"
   ],
   "metadata": {
    "collapsed": false,
    "pycharm": {
     "name": "#%%\n"
    }
   }
  },
  {
   "cell_type": "code",
   "execution_count": 5,
   "outputs": [
    {
     "data": {
      "text/plain": "<RawBrainVision | sub-006_ses-EcogLfpMedOff02_task-SelfpacedRotationL_acq-StimOn_run-1_ieeg.eeg, 33 x 1869183 (467.3 s), ~47 kB, data not loaded>",
      "text/html": "<table class=\"table table-hover table-striped table-sm table-responsive small\">\n    <tr>\n        <th>Measurement date</th>\n        \n        <td>August 31, 2021  11:11:19 GMT</td>\n        \n    </tr>\n    <tr>\n        <th>Experimenter</th>\n        \n        <td>mne_anonymize</td>\n        \n    </tr>\n        <th>Participant</th>\n        \n        <td>Unknown</td>\n        \n    </tr>\n    <tr>\n        <th>Digitized points</th>\n        \n        <td>22 points</td>\n        \n    </tr>\n    <tr>\n        <th>Good channels</th>\n        <td>16 DBS, 6 ECoG, 2 EEG, 2 EMG, 7 misc</td>\n    </tr>\n    <tr>\n        <th>Bad channels</th>\n        <td>LFP_R_02_STN_MT, LFP_R_03_STN_MT, LFP_R_04_STN_MT, LFP_L_01_STN_MT, LFP_L_02_STN_MT, LFP_L_06_STN_MT</td>\n    </tr>\n    <tr>\n        <th>EOG channels</th>\n        <td>Not available</td>\n    </tr>\n    <tr>\n        <th>ECG channels</th>\n        <td>Not available</td>\n    \n    <tr>\n        <th>Sampling frequency</th>\n        <td>4000.00 Hz</td>\n    </tr>\n    \n    \n    <tr>\n        <th>Highpass</th>\n        <td>0.00 Hz</td>\n    </tr>\n    \n    \n    <tr>\n        <th>Lowpass</th>\n        <td>2000.00 Hz</td>\n    </tr>\n    \n    \n    \n    <tr>\n        <th>Filenames</th>\n        <td>sub-006_ses-EcogLfpMedOff02_task-SelfpacedRotationL_acq-StimOn_run-1_ieeg.eeg</td>\n    </tr>\n    \n    <tr>\n        <th>Duration</th>\n        <td>00:07:47 (HH:MM:SS)</td>\n    </tr>\n</table>"
     },
     "execution_count": 5,
     "metadata": {},
     "output_type": "execute_result"
    }
   ],
   "source": [
    "raw"
   ],
   "metadata": {
    "collapsed": false,
    "pycharm": {
     "name": "#%%\n"
    }
   }
  },
  {
   "cell_type": "code",
   "execution_count": 8,
   "outputs": [],
   "source": [
    "nm_channels = nm_define_nmchannels.set_channels(\n",
    "    ch_names=raw.ch_names,\n",
    "    ch_types=raw.get_channel_types(),\n",
    "    reference=\"default\",\n",
    "    bads=raw.info[\"bads\"],\n",
    "    new_names=\"default\",\n",
    "    used_types=(\"ecog\", \"dbs\", \"eeg\", \"emg\"),\n",
    "   target_keywords=(\"ACC_R_X_D2_TM\",),\n",
    ")"
   ],
   "metadata": {
    "collapsed": false,
    "pycharm": {
     "name": "#%%\n"
    }
   }
  },
  {
   "cell_type": "code",
   "execution_count": 7,
   "outputs": [
    {
     "data": {
      "text/plain": "                name      rereference  used  target  type status  \\\n0    LFP_R_01_STN_MT  LFP_R_08_STN_MT     1       0   dbs   good   \n1    LFP_R_02_STN_MT  LFP_R_01_STN_MT     0       0   dbs    bad   \n2    LFP_R_03_STN_MT  LFP_R_02_STN_MT     0       0   dbs    bad   \n3    LFP_R_04_STN_MT  LFP_R_03_STN_MT     0       0   dbs    bad   \n4    LFP_R_05_STN_MT  LFP_R_04_STN_MT     1       0   dbs   good   \n5    LFP_R_06_STN_MT  LFP_R_05_STN_MT     1       0   dbs   good   \n6    LFP_R_07_STN_MT  LFP_R_06_STN_MT     1       0   dbs   good   \n7    LFP_R_08_STN_MT  LFP_R_07_STN_MT     1       0   dbs   good   \n8    LFP_L_01_STN_MT  LFP_L_08_STN_MT     0       0   dbs    bad   \n9    LFP_L_02_STN_MT  LFP_L_01_STN_MT     0       0   dbs    bad   \n10   LFP_L_03_STN_MT  LFP_L_02_STN_MT     1       0   dbs   good   \n11   LFP_L_04_STN_MT  LFP_L_03_STN_MT     1       0   dbs   good   \n12   LFP_L_05_STN_MT  LFP_L_04_STN_MT     1       0   dbs   good   \n13   LFP_L_06_STN_MT  LFP_L_05_STN_MT     0       0   dbs    bad   \n14   LFP_L_07_STN_MT  LFP_L_06_STN_MT     1       0   dbs   good   \n15   LFP_L_08_STN_MT  LFP_L_07_STN_MT     1       0   dbs   good   \n16  ECOG_R_01_SMC_AT          average     1       0  ecog   good   \n17  ECOG_R_02_SMC_AT          average     1       0  ecog   good   \n18  ECOG_R_03_SMC_AT          average     1       0  ecog   good   \n19  ECOG_R_04_SMC_AT          average     1       0  ecog   good   \n20  ECOG_R_05_SMC_AT          average     1       0  ecog   good   \n21  ECOG_R_06_SMC_AT          average     1       0  ecog   good   \n22         EEG_CZ_TM             None     1       0   eeg   good   \n23         EEG_FZ_TM             None     1       0   eeg   good   \n24       EMG_R_BR_TM             None     0       0   emg   good   \n25       EMG_L_BR_TM             None     0       0   emg   good   \n26     ACC_R_X_D2_TM             None     0       1  misc   good   \n27     ACC_R_Y_D2_TM             None     0       0  misc   good   \n28     ACC_R_Z_D2_TM             None     0       0  misc   good   \n29     ACC_L_X_D2_TM             None     0       0  misc   good   \n30     ACC_L_Y_D2_TM             None     0       0  misc   good   \n31     ACC_L_Z_D2_TM             None     0       0  misc   good   \n32  ANALOG_L_ROTA_CH             None     0       0  misc   good   \n\n                           new_name  \n0   LFP_R_01_STN_MT-LFP_R_08_STN_MT  \n1   LFP_R_02_STN_MT-LFP_R_01_STN_MT  \n2   LFP_R_03_STN_MT-LFP_R_02_STN_MT  \n3   LFP_R_04_STN_MT-LFP_R_03_STN_MT  \n4   LFP_R_05_STN_MT-LFP_R_04_STN_MT  \n5   LFP_R_06_STN_MT-LFP_R_05_STN_MT  \n6   LFP_R_07_STN_MT-LFP_R_06_STN_MT  \n7   LFP_R_08_STN_MT-LFP_R_07_STN_MT  \n8   LFP_L_01_STN_MT-LFP_L_08_STN_MT  \n9   LFP_L_02_STN_MT-LFP_L_01_STN_MT  \n10  LFP_L_03_STN_MT-LFP_L_02_STN_MT  \n11  LFP_L_04_STN_MT-LFP_L_03_STN_MT  \n12  LFP_L_05_STN_MT-LFP_L_04_STN_MT  \n13  LFP_L_06_STN_MT-LFP_L_05_STN_MT  \n14  LFP_L_07_STN_MT-LFP_L_06_STN_MT  \n15  LFP_L_08_STN_MT-LFP_L_07_STN_MT  \n16          ECOG_R_01_SMC_AT-avgref  \n17          ECOG_R_02_SMC_AT-avgref  \n18          ECOG_R_03_SMC_AT-avgref  \n19          ECOG_R_04_SMC_AT-avgref  \n20          ECOG_R_05_SMC_AT-avgref  \n21          ECOG_R_06_SMC_AT-avgref  \n22                        EEG_CZ_TM  \n23                        EEG_FZ_TM  \n24                      EMG_R_BR_TM  \n25                      EMG_L_BR_TM  \n26                    ACC_R_X_D2_TM  \n27                    ACC_R_Y_D2_TM  \n28                    ACC_R_Z_D2_TM  \n29                    ACC_L_X_D2_TM  \n30                    ACC_L_Y_D2_TM  \n31                    ACC_L_Z_D2_TM  \n32                 ANALOG_L_ROTA_CH  ",
      "text/html": "<div>\n<style scoped>\n    .dataframe tbody tr th:only-of-type {\n        vertical-align: middle;\n    }\n\n    .dataframe tbody tr th {\n        vertical-align: top;\n    }\n\n    .dataframe thead th {\n        text-align: right;\n    }\n</style>\n<table border=\"1\" class=\"dataframe\">\n  <thead>\n    <tr style=\"text-align: right;\">\n      <th></th>\n      <th>name</th>\n      <th>rereference</th>\n      <th>used</th>\n      <th>target</th>\n      <th>type</th>\n      <th>status</th>\n      <th>new_name</th>\n    </tr>\n  </thead>\n  <tbody>\n    <tr>\n      <th>0</th>\n      <td>LFP_R_01_STN_MT</td>\n      <td>LFP_R_08_STN_MT</td>\n      <td>1</td>\n      <td>0</td>\n      <td>dbs</td>\n      <td>good</td>\n      <td>LFP_R_01_STN_MT-LFP_R_08_STN_MT</td>\n    </tr>\n    <tr>\n      <th>1</th>\n      <td>LFP_R_02_STN_MT</td>\n      <td>LFP_R_01_STN_MT</td>\n      <td>0</td>\n      <td>0</td>\n      <td>dbs</td>\n      <td>bad</td>\n      <td>LFP_R_02_STN_MT-LFP_R_01_STN_MT</td>\n    </tr>\n    <tr>\n      <th>2</th>\n      <td>LFP_R_03_STN_MT</td>\n      <td>LFP_R_02_STN_MT</td>\n      <td>0</td>\n      <td>0</td>\n      <td>dbs</td>\n      <td>bad</td>\n      <td>LFP_R_03_STN_MT-LFP_R_02_STN_MT</td>\n    </tr>\n    <tr>\n      <th>3</th>\n      <td>LFP_R_04_STN_MT</td>\n      <td>LFP_R_03_STN_MT</td>\n      <td>0</td>\n      <td>0</td>\n      <td>dbs</td>\n      <td>bad</td>\n      <td>LFP_R_04_STN_MT-LFP_R_03_STN_MT</td>\n    </tr>\n    <tr>\n      <th>4</th>\n      <td>LFP_R_05_STN_MT</td>\n      <td>LFP_R_04_STN_MT</td>\n      <td>1</td>\n      <td>0</td>\n      <td>dbs</td>\n      <td>good</td>\n      <td>LFP_R_05_STN_MT-LFP_R_04_STN_MT</td>\n    </tr>\n    <tr>\n      <th>5</th>\n      <td>LFP_R_06_STN_MT</td>\n      <td>LFP_R_05_STN_MT</td>\n      <td>1</td>\n      <td>0</td>\n      <td>dbs</td>\n      <td>good</td>\n      <td>LFP_R_06_STN_MT-LFP_R_05_STN_MT</td>\n    </tr>\n    <tr>\n      <th>6</th>\n      <td>LFP_R_07_STN_MT</td>\n      <td>LFP_R_06_STN_MT</td>\n      <td>1</td>\n      <td>0</td>\n      <td>dbs</td>\n      <td>good</td>\n      <td>LFP_R_07_STN_MT-LFP_R_06_STN_MT</td>\n    </tr>\n    <tr>\n      <th>7</th>\n      <td>LFP_R_08_STN_MT</td>\n      <td>LFP_R_07_STN_MT</td>\n      <td>1</td>\n      <td>0</td>\n      <td>dbs</td>\n      <td>good</td>\n      <td>LFP_R_08_STN_MT-LFP_R_07_STN_MT</td>\n    </tr>\n    <tr>\n      <th>8</th>\n      <td>LFP_L_01_STN_MT</td>\n      <td>LFP_L_08_STN_MT</td>\n      <td>0</td>\n      <td>0</td>\n      <td>dbs</td>\n      <td>bad</td>\n      <td>LFP_L_01_STN_MT-LFP_L_08_STN_MT</td>\n    </tr>\n    <tr>\n      <th>9</th>\n      <td>LFP_L_02_STN_MT</td>\n      <td>LFP_L_01_STN_MT</td>\n      <td>0</td>\n      <td>0</td>\n      <td>dbs</td>\n      <td>bad</td>\n      <td>LFP_L_02_STN_MT-LFP_L_01_STN_MT</td>\n    </tr>\n    <tr>\n      <th>10</th>\n      <td>LFP_L_03_STN_MT</td>\n      <td>LFP_L_02_STN_MT</td>\n      <td>1</td>\n      <td>0</td>\n      <td>dbs</td>\n      <td>good</td>\n      <td>LFP_L_03_STN_MT-LFP_L_02_STN_MT</td>\n    </tr>\n    <tr>\n      <th>11</th>\n      <td>LFP_L_04_STN_MT</td>\n      <td>LFP_L_03_STN_MT</td>\n      <td>1</td>\n      <td>0</td>\n      <td>dbs</td>\n      <td>good</td>\n      <td>LFP_L_04_STN_MT-LFP_L_03_STN_MT</td>\n    </tr>\n    <tr>\n      <th>12</th>\n      <td>LFP_L_05_STN_MT</td>\n      <td>LFP_L_04_STN_MT</td>\n      <td>1</td>\n      <td>0</td>\n      <td>dbs</td>\n      <td>good</td>\n      <td>LFP_L_05_STN_MT-LFP_L_04_STN_MT</td>\n    </tr>\n    <tr>\n      <th>13</th>\n      <td>LFP_L_06_STN_MT</td>\n      <td>LFP_L_05_STN_MT</td>\n      <td>0</td>\n      <td>0</td>\n      <td>dbs</td>\n      <td>bad</td>\n      <td>LFP_L_06_STN_MT-LFP_L_05_STN_MT</td>\n    </tr>\n    <tr>\n      <th>14</th>\n      <td>LFP_L_07_STN_MT</td>\n      <td>LFP_L_06_STN_MT</td>\n      <td>1</td>\n      <td>0</td>\n      <td>dbs</td>\n      <td>good</td>\n      <td>LFP_L_07_STN_MT-LFP_L_06_STN_MT</td>\n    </tr>\n    <tr>\n      <th>15</th>\n      <td>LFP_L_08_STN_MT</td>\n      <td>LFP_L_07_STN_MT</td>\n      <td>1</td>\n      <td>0</td>\n      <td>dbs</td>\n      <td>good</td>\n      <td>LFP_L_08_STN_MT-LFP_L_07_STN_MT</td>\n    </tr>\n    <tr>\n      <th>16</th>\n      <td>ECOG_R_01_SMC_AT</td>\n      <td>average</td>\n      <td>1</td>\n      <td>0</td>\n      <td>ecog</td>\n      <td>good</td>\n      <td>ECOG_R_01_SMC_AT-avgref</td>\n    </tr>\n    <tr>\n      <th>17</th>\n      <td>ECOG_R_02_SMC_AT</td>\n      <td>average</td>\n      <td>1</td>\n      <td>0</td>\n      <td>ecog</td>\n      <td>good</td>\n      <td>ECOG_R_02_SMC_AT-avgref</td>\n    </tr>\n    <tr>\n      <th>18</th>\n      <td>ECOG_R_03_SMC_AT</td>\n      <td>average</td>\n      <td>1</td>\n      <td>0</td>\n      <td>ecog</td>\n      <td>good</td>\n      <td>ECOG_R_03_SMC_AT-avgref</td>\n    </tr>\n    <tr>\n      <th>19</th>\n      <td>ECOG_R_04_SMC_AT</td>\n      <td>average</td>\n      <td>1</td>\n      <td>0</td>\n      <td>ecog</td>\n      <td>good</td>\n      <td>ECOG_R_04_SMC_AT-avgref</td>\n    </tr>\n    <tr>\n      <th>20</th>\n      <td>ECOG_R_05_SMC_AT</td>\n      <td>average</td>\n      <td>1</td>\n      <td>0</td>\n      <td>ecog</td>\n      <td>good</td>\n      <td>ECOG_R_05_SMC_AT-avgref</td>\n    </tr>\n    <tr>\n      <th>21</th>\n      <td>ECOG_R_06_SMC_AT</td>\n      <td>average</td>\n      <td>1</td>\n      <td>0</td>\n      <td>ecog</td>\n      <td>good</td>\n      <td>ECOG_R_06_SMC_AT-avgref</td>\n    </tr>\n    <tr>\n      <th>22</th>\n      <td>EEG_CZ_TM</td>\n      <td>None</td>\n      <td>1</td>\n      <td>0</td>\n      <td>eeg</td>\n      <td>good</td>\n      <td>EEG_CZ_TM</td>\n    </tr>\n    <tr>\n      <th>23</th>\n      <td>EEG_FZ_TM</td>\n      <td>None</td>\n      <td>1</td>\n      <td>0</td>\n      <td>eeg</td>\n      <td>good</td>\n      <td>EEG_FZ_TM</td>\n    </tr>\n    <tr>\n      <th>24</th>\n      <td>EMG_R_BR_TM</td>\n      <td>None</td>\n      <td>0</td>\n      <td>0</td>\n      <td>emg</td>\n      <td>good</td>\n      <td>EMG_R_BR_TM</td>\n    </tr>\n    <tr>\n      <th>25</th>\n      <td>EMG_L_BR_TM</td>\n      <td>None</td>\n      <td>0</td>\n      <td>0</td>\n      <td>emg</td>\n      <td>good</td>\n      <td>EMG_L_BR_TM</td>\n    </tr>\n    <tr>\n      <th>26</th>\n      <td>ACC_R_X_D2_TM</td>\n      <td>None</td>\n      <td>0</td>\n      <td>1</td>\n      <td>misc</td>\n      <td>good</td>\n      <td>ACC_R_X_D2_TM</td>\n    </tr>\n    <tr>\n      <th>27</th>\n      <td>ACC_R_Y_D2_TM</td>\n      <td>None</td>\n      <td>0</td>\n      <td>0</td>\n      <td>misc</td>\n      <td>good</td>\n      <td>ACC_R_Y_D2_TM</td>\n    </tr>\n    <tr>\n      <th>28</th>\n      <td>ACC_R_Z_D2_TM</td>\n      <td>None</td>\n      <td>0</td>\n      <td>0</td>\n      <td>misc</td>\n      <td>good</td>\n      <td>ACC_R_Z_D2_TM</td>\n    </tr>\n    <tr>\n      <th>29</th>\n      <td>ACC_L_X_D2_TM</td>\n      <td>None</td>\n      <td>0</td>\n      <td>0</td>\n      <td>misc</td>\n      <td>good</td>\n      <td>ACC_L_X_D2_TM</td>\n    </tr>\n    <tr>\n      <th>30</th>\n      <td>ACC_L_Y_D2_TM</td>\n      <td>None</td>\n      <td>0</td>\n      <td>0</td>\n      <td>misc</td>\n      <td>good</td>\n      <td>ACC_L_Y_D2_TM</td>\n    </tr>\n    <tr>\n      <th>31</th>\n      <td>ACC_L_Z_D2_TM</td>\n      <td>None</td>\n      <td>0</td>\n      <td>0</td>\n      <td>misc</td>\n      <td>good</td>\n      <td>ACC_L_Z_D2_TM</td>\n    </tr>\n    <tr>\n      <th>32</th>\n      <td>ANALOG_L_ROTA_CH</td>\n      <td>None</td>\n      <td>0</td>\n      <td>0</td>\n      <td>misc</td>\n      <td>good</td>\n      <td>ANALOG_L_ROTA_CH</td>\n    </tr>\n  </tbody>\n</table>\n</div>"
     },
     "execution_count": 7,
     "metadata": {},
     "output_type": "execute_result"
    }
   ],
   "source": [
    "nm_channels"
   ],
   "metadata": {
    "collapsed": false,
    "pycharm": {
     "name": "#%%\n"
    }
   }
  },
  {
   "cell_type": "code",
   "execution_count": null,
   "outputs": [],
   "source": [],
   "metadata": {
    "collapsed": false,
    "pycharm": {
     "name": "#%%\n"
    }
   }
  }
 ],
 "metadata": {
  "kernelspec": {
   "display_name": "Python 3.10.4 ('pn_env')",
   "language": "python",
   "name": "python3"
  },
  "language_info": {
   "codemirror_mode": {
    "name": "ipython",
    "version": 3
   },
   "file_extension": ".py",
   "mimetype": "text/x-python",
   "name": "python",
   "nbconvert_exporter": "python",
   "pygments_lexer": "ipython3",
   "version": "3.10.4"
  },
  "vscode": {
   "interpreter": {
    "hash": "068809834e2a877c66848149765187bcd8d0c325867eadeec9fbf2ed2d947eea"
   }
  }
 },
 "nbformat": 4,
 "nbformat_minor": 0
}