{
 "cells": [
  {
   "cell_type": "code",
   "execution_count": 23,
   "metadata": {},
   "outputs": [],
   "source": [
    "import py_neuromodulation as nm\n",
    "import xgboost\n",
    "from py_neuromodulation import (\n",
    "    nm_analysis,\n",
    "    nm_decode,\n",
    "    nm_define_nmchannels,\n",
    "    nm_IO,\n",
    "    nm_plots,\n",
    ")\n",
    "from sklearn import metrics, model_selection\n",
    "import json\n",
    "import matplotlib.pyplot as plt\n",
    "import numpy as np"
   ]
  },
  {
   "cell_type": "code",
   "execution_count": 3,
   "metadata": {},
   "outputs": [],
   "source": [
    "PATH_RNS = r\"C:\\Users\\DY548\\Documents\\Python Scripts\\trial\\test data\\PIT-RNS0427_PE20181120-1_EOF_SZ-NZ.EDF\""
   ]
  },
  {
   "cell_type": "code",
   "execution_count": 4,
   "metadata": {},
   "outputs": [],
   "source": [
    "import mne"
   ]
  },
  {
   "cell_type": "code",
   "execution_count": 5,
   "metadata": {},
   "outputs": [
    {
     "name": "stdout",
     "output_type": "stream",
     "text": [
      "Extracting EDF parameters from C:\\Users\\DY548\\Documents\\Python Scripts\\trial\\test data\\PIT-RNS0427_PE20181120-1_EOF_SZ-NZ.EDF...\n",
      "EDF file detected\n",
      "Setting channel info structure...\n",
      "Creating raw.info structure...\n"
     ]
    }
   ],
   "source": [
    "raw = mne.io.read_raw_edf(PATH_RNS)"
   ]
  },
  {
   "cell_type": "code",
   "execution_count": 6,
   "metadata": {},
   "outputs": [
    {
     "data": {
      "text/plain": [
       "mne.io.edf.edf.RawEDF"
      ]
     },
     "execution_count": 6,
     "metadata": {},
     "output_type": "execute_result"
    }
   ],
   "source": [
    "type(raw)"
   ]
  },
  {
   "cell_type": "code",
   "execution_count": 15,
   "metadata": {},
   "outputs": [
    {
     "data": {
      "text/plain": [
       "<mne_qt_browser._pg_figure.MNEQtBrowser at 0x138e66fa830>"
      ]
     },
     "execution_count": 15,
     "metadata": {},
     "output_type": "execute_result"
    },
    {
     "name": "stdout",
     "output_type": "stream",
     "text": [
      "Channels marked as bad:\n",
      "none\n"
     ]
    }
   ],
   "source": [
    "raw.plot()"
   ]
  },
  {
   "cell_type": "code",
   "execution_count": 10,
   "metadata": {},
   "outputs": [
    {
     "data": {
      "text/html": [
       "<table class=\"table table-hover table-striped table-sm table-responsive small\">\n",
       "    <tr>\n",
       "        <th>Measurement date</th>\n",
       "        \n",
       "        <td>March 20, 2019  09:49:01 GMT</td>\n",
       "        \n",
       "    </tr>\n",
       "    <tr>\n",
       "        <th>Experimenter</th>\n",
       "        \n",
       "        <td>Unknown</td>\n",
       "        \n",
       "    </tr>\n",
       "        <th>Participant</th>\n",
       "        \n",
       "        <td>Unknown</td>\n",
       "        \n",
       "    </tr>\n",
       "    <tr>\n",
       "        <th>Digitized points</th>\n",
       "        \n",
       "        <td>Not available</td>\n",
       "        \n",
       "    </tr>\n",
       "    <tr>\n",
       "        <th>Good channels</th>\n",
       "        <td>4 EEG</td>\n",
       "    </tr>\n",
       "    <tr>\n",
       "        <th>Bad channels</th>\n",
       "        <td>None</td>\n",
       "    </tr>\n",
       "    <tr>\n",
       "        <th>EOG channels</th>\n",
       "        <td>Not available</td>\n",
       "    </tr>\n",
       "    <tr>\n",
       "        <th>ECG channels</th>\n",
       "        <td>Not available</td>\n",
       "    \n",
       "    <tr>\n",
       "        <th>Sampling frequency</th>\n",
       "        <td>250.00 Hz</td>\n",
       "    </tr>\n",
       "    \n",
       "    \n",
       "    <tr>\n",
       "        <th>Highpass</th>\n",
       "        <td>0.00 Hz</td>\n",
       "    </tr>\n",
       "    \n",
       "    \n",
       "    <tr>\n",
       "        <th>Lowpass</th>\n",
       "        <td>125.00 Hz</td>\n",
       "    </tr>\n",
       "    \n",
       "    \n",
       "</table>"
      ],
      "text/plain": [
       "<Info | 7 non-empty values\n",
       " bads: []\n",
       " ch_names: channel1, channel2, channel3, channel4\n",
       " chs: 4 EEG\n",
       " custom_ref_applied: False\n",
       " highpass: 0.0 Hz\n",
       " lowpass: 125.0 Hz\n",
       " meas_date: 2019-03-20 09:49:01 UTC\n",
       " nchan: 4\n",
       " projs: []\n",
       " sfreq: 250.0 Hz\n",
       ">"
      ]
     },
     "execution_count": 10,
     "metadata": {},
     "output_type": "execute_result"
    }
   ],
   "source": [
    "raw.info"
   ]
  },
  {
   "cell_type": "code",
   "execution_count": 12,
   "metadata": {},
   "outputs": [
    {
     "data": {
      "text/plain": [
       "(4, 1335500)"
      ]
     },
     "execution_count": 12,
     "metadata": {},
     "output_type": "execute_result"
    }
   ],
   "source": [
    "raw.get_data().shape"
   ]
  },
  {
   "cell_type": "code",
   "execution_count": 13,
   "metadata": {},
   "outputs": [
    {
     "data": {
      "text/plain": [
       "array([0.000000e+00, 4.000000e-03, 8.000000e-03, ..., 5.341988e+03,\n",
       "       5.341992e+03, 5.341996e+03])"
      ]
     },
     "execution_count": 13,
     "metadata": {},
     "output_type": "execute_result"
    }
   ],
   "source": [
    "raw.times"
   ]
  },
  {
   "cell_type": "code",
   "execution_count": 14,
   "metadata": {},
   "outputs": [
    {
     "data": {
      "text/plain": [
       "250.0"
      ]
     },
     "execution_count": 14,
     "metadata": {},
     "output_type": "execute_result"
    }
   ],
   "source": [
    "1/(raw.times[1])"
   ]
  },
  {
   "cell_type": "code",
   "execution_count": 17,
   "metadata": {},
   "outputs": [
    {
     "data": {
      "text/plain": [
       "array([  64.696   ,  245.016   ,  425.336   ,  605.584   ,  785.904   ,\n",
       "        966.224   , 1146.544   , 1186.759   , 1187.406404, 1326.864   ,\n",
       "       1507.184   , 1687.504   , 1867.824   , 2048.144   , 2228.464   ,\n",
       "       2408.784   , 2589.104   , 2769.424   , 2949.744   , 3130.064   ,\n",
       "       3310.384   , 3490.704   , 3671.024   , 3851.344   , 4031.664   ,\n",
       "       4211.984   , 4309.187192, 4392.304   , 4572.624   , 4752.944   ,\n",
       "       4933.264   , 5113.584   , 5293.904   ])"
      ]
     },
     "execution_count": 17,
     "metadata": {},
     "output_type": "execute_result"
    }
   ],
   "source": [
    "raw.annotations.onset"
   ]
  },
  {
   "cell_type": "code",
   "execution_count": 19,
   "metadata": {},
   "outputs": [
    {
     "data": {
      "text/plain": [
       "array(['eof', 'eof', 'eof', 'eof', 'eof', 'eof', 'eof', 'NZ5', 'sz_on',\n",
       "       'eof', 'eof', 'eof', 'eof', 'eof', 'eof', 'eof', 'eof', 'eof',\n",
       "       'eof', 'eof', 'eof', 'eof', 'eof', 'eof', 'eof', 'eof', 'sz_on',\n",
       "       'eof', 'eof', 'eof', 'eof', 'eof', 'eof'], dtype='<U5')"
      ]
     },
     "execution_count": 19,
     "metadata": {},
     "output_type": "execute_result"
    }
   ],
   "source": [
    "raw.annotations.description"
   ]
  },
  {
   "cell_type": "code",
   "execution_count": 20,
   "metadata": {},
   "outputs": [
    {
     "data": {
      "text/plain": [
       "['channel1', 'channel2', 'channel3', 'channel4']"
      ]
     },
     "execution_count": 20,
     "metadata": {},
     "output_type": "execute_result"
    }
   ],
   "source": [
    "raw.ch_names"
   ]
  },
  {
   "cell_type": "code",
   "execution_count": 24,
   "metadata": {},
   "outputs": [],
   "source": [
    "nm_channels = nm_define_nmchannels.set_channels(\n",
    "    ch_names=raw.ch_names,\n",
    "    ch_types=[\"ecog\" for i in range(4)],\n",
    "    reference=None,\n",
    "    bads=None,\n",
    "    new_names=\"default\",\n",
    "    used_types=(\"ecog\",),\n",
    "    target_keywords=None,\n",
    "\n",
    ")"
   ]
  },
  {
   "cell_type": "code",
   "execution_count": 25,
   "metadata": {},
   "outputs": [
    {
     "data": {
      "text/html": [
       "<div>\n",
       "<style scoped>\n",
       "    .dataframe tbody tr th:only-of-type {\n",
       "        vertical-align: middle;\n",
       "    }\n",
       "\n",
       "    .dataframe tbody tr th {\n",
       "        vertical-align: top;\n",
       "    }\n",
       "\n",
       "    .dataframe thead th {\n",
       "        text-align: right;\n",
       "    }\n",
       "</style>\n",
       "<table border=\"1\" class=\"dataframe\">\n",
       "  <thead>\n",
       "    <tr style=\"text-align: right;\">\n",
       "      <th></th>\n",
       "      <th>name</th>\n",
       "      <th>rereference</th>\n",
       "      <th>used</th>\n",
       "      <th>target</th>\n",
       "      <th>type</th>\n",
       "      <th>status</th>\n",
       "      <th>new_name</th>\n",
       "    </tr>\n",
       "  </thead>\n",
       "  <tbody>\n",
       "    <tr>\n",
       "      <th>0</th>\n",
       "      <td>channel1</td>\n",
       "      <td>None</td>\n",
       "      <td>1</td>\n",
       "      <td>0</td>\n",
       "      <td>ecog</td>\n",
       "      <td>good</td>\n",
       "      <td>channel1</td>\n",
       "    </tr>\n",
       "    <tr>\n",
       "      <th>1</th>\n",
       "      <td>channel2</td>\n",
       "      <td>None</td>\n",
       "      <td>1</td>\n",
       "      <td>0</td>\n",
       "      <td>ecog</td>\n",
       "      <td>good</td>\n",
       "      <td>channel2</td>\n",
       "    </tr>\n",
       "    <tr>\n",
       "      <th>2</th>\n",
       "      <td>channel3</td>\n",
       "      <td>None</td>\n",
       "      <td>1</td>\n",
       "      <td>0</td>\n",
       "      <td>ecog</td>\n",
       "      <td>good</td>\n",
       "      <td>channel3</td>\n",
       "    </tr>\n",
       "    <tr>\n",
       "      <th>3</th>\n",
       "      <td>channel4</td>\n",
       "      <td>None</td>\n",
       "      <td>1</td>\n",
       "      <td>0</td>\n",
       "      <td>ecog</td>\n",
       "      <td>good</td>\n",
       "      <td>channel4</td>\n",
       "    </tr>\n",
       "  </tbody>\n",
       "</table>\n",
       "</div>"
      ],
      "text/plain": [
       "       name rereference  used  target  type status  new_name\n",
       "0  channel1        None     1       0  ecog   good  channel1\n",
       "1  channel2        None     1       0  ecog   good  channel2\n",
       "2  channel3        None     1       0  ecog   good  channel3\n",
       "3  channel4        None     1       0  ecog   good  channel4"
      ]
     },
     "execution_count": 25,
     "metadata": {},
     "output_type": "execute_result"
    }
   ],
   "source": [
    "nm_channels"
   ]
  },
  {
   "cell_type": "code",
   "execution_count": 26,
   "metadata": {},
   "outputs": [],
   "source": [
    "stream = nm.Stream(\n",
    "    settings=None,\n",
    "    nm_channels=nm_channels,\n",
    "    path_grids=None,\n",
    "    verbose=True,\n",
    ")"
   ]
  },
  {
   "cell_type": "code",
   "execution_count": 28,
   "metadata": {},
   "outputs": [],
   "source": [
    "from pprint import pprint"
   ]
  },
  {
   "cell_type": "code",
   "execution_count": 31,
   "metadata": {},
   "outputs": [
    {
     "name": "stdout",
     "output_type": "stream",
     "text": [
      "{'bandpass_filter_settings': {'bandpower_features': {'activity': True,\n",
      "                                                     'complexity': False,\n",
      "                                                     'mobility': False},\n",
      "                              'kalman_filter': True,\n",
      "                              'log_transform': True,\n",
      "                              'segment_lengths_ms': {'HFA': 100,\n",
      "                                                     'alpha': 500,\n",
      "                                                     'high beta': 333,\n",
      "                                                     'high gamma': 100,\n",
      "                                                     'low beta': 333,\n",
      "                                                     'low gamma': 100,\n",
      "                                                     'theta': 1000}},\n",
      " 'burst_settings': {'burst_features': {'amplitude': True,\n",
      "                                       'burst_rate_per_s': True,\n",
      "                                       'duration': True,\n",
      "                                       'in_burst': True},\n",
      "                    'frequency_bands': ['low beta', 'high beta', 'low gamma'],\n",
      "                    'threshold': 75,\n",
      "                    'time_duration_s': 30},\n",
      " 'coherence': {'channels': [['LFP_L_1_STN_BS', 'ECOG_L_4_SMC_AT']],\n",
      "               'frequency_bands': ['high beta'],\n",
      "               'method': {'coh': True, 'icoh': True},\n",
      "               'params': {'window': 'hann'}},\n",
      " 'feature_normalization_settings': {'clip': 3,\n",
      "                                    'normalization_method': 'zscore',\n",
      "                                    'normalization_time_s': 30},\n",
      " 'features': {'bandpass_filter': True,\n",
      "              'bursts': True,\n",
      "              'coherence': True,\n",
      "              'fft': True,\n",
      "              'fooof': True,\n",
      "              'nolds': True,\n",
      "              'raw_hjorth': True,\n",
      "              'return_raw': True,\n",
      "              'sharpwave_analysis': True,\n",
      "              'stft': True},\n",
      " 'fft_settings': {'kalman_filter': True,\n",
      "                  'log_transform': True,\n",
      "                  'windowlength_ms': 1000},\n",
      " 'fooof': {'aperiodic': {'exponent': True, 'offset': True},\n",
      "           'freq_range_hz': [2, 40],\n",
      "           'knee': True,\n",
      "           'max_n_peaks': 3,\n",
      "           'min_peak_height': 0,\n",
      "           'peak_threshold': 2,\n",
      "           'peak_width_limits': [0.5, 12],\n",
      "           'periodic': {'band_width': True,\n",
      "                        'center_frequency': True,\n",
      "                        'height_over_ap': True},\n",
      "           'windowlength_ms': 800},\n",
      " 'frequency_ranges_hz': {'HFA': [200, 400],\n",
      "                         'alpha': [8, 12],\n",
      "                         'high beta': [20, 35],\n",
      "                         'high gamma': [90, 200],\n",
      "                         'low beta': [13, 20],\n",
      "                         'low gamma': [60, 80],\n",
      "                         'theta': [4, 8]},\n",
      " 'kalman_filter_settings': {'Tp': 0.1,\n",
      "                            'frequency_bands': ['theta',\n",
      "                                                'alpha',\n",
      "                                                'low beta',\n",
      "                                                'high beta',\n",
      "                                                'low gamma',\n",
      "                                                'high gamma',\n",
      "                                                'HFA'],\n",
      "                            'sigma_v': 1,\n",
      "                            'sigma_w': 0.7},\n",
      " 'nolds_features': {'correlation_dimension': True,\n",
      "                    'data': {'frequency_bands': ['theta',\n",
      "                                                 'alpha',\n",
      "                                                 'low beta',\n",
      "                                                 'high beta',\n",
      "                                                 'low gamma',\n",
      "                                                 'high gamma',\n",
      "                                                 'HFA'],\n",
      "                             'raw': True},\n",
      "                    'detrended_fluctutaion_analysis': True,\n",
      "                    'hurst_exponent': True,\n",
      "                    'lyapunov_exponent': True,\n",
      "                    'sample_entropy': True},\n",
      " 'postprocessing': {'feature_normalization': True,\n",
      "                    'project_cortex': True,\n",
      "                    'project_subcortex': True},\n",
      " 'preprocessing': {'notch_filter': True,\n",
      "                   'preprocessing_order': ['raw_resampling',\n",
      "                                           'notch_filter',\n",
      "                                           're_referencing',\n",
      "                                           'raw_normalization'],\n",
      "                   'raw_normalization': True,\n",
      "                   'raw_resampling': True,\n",
      "                   're_referencing': True},\n",
      " 'project_cortex_settings': {'max_dist_cm': 20},\n",
      " 'project_subcortex_settings': {'max_dist_cm': 5},\n",
      " 'raw_normalization_settings': {'clip': 3,\n",
      "                                'normalization_method': 'zscore',\n",
      "                                'normalization_time_s': 30},\n",
      " 'raw_resampling_settings': {'resample_freq_hz': 1000},\n",
      " 'sampling_rate_features_hz': 10,\n",
      " 'segment_length_features_ms': 1000,\n",
      " 'sharpwave_analysis_settings': {'apply_estimator_between_peaks_and_troughs': True,\n",
      "                                 'detect_peaks': {'distance_peaks_ms': 10,\n",
      "                                                  'distance_troughs_ms': 5,\n",
      "                                                  'estimate': True},\n",
      "                                 'detect_troughs': {'distance_peaks_ms': 5,\n",
      "                                                    'distance_troughs_ms': 10,\n",
      "                                                    'estimate': True},\n",
      "                                 'estimator': {'max': ['prominence',\n",
      "                                                       'sharpness'],\n",
      "                                               'mean': ['interval'],\n",
      "                                               'median': None,\n",
      "                                               'min': None,\n",
      "                                               'var': None},\n",
      "                                 'filter_ranges_hz': [[5, 80], [5, 30]],\n",
      "                                 'sharpwave_features': {'decay_steepness': False,\n",
      "                                                        'decay_time': False,\n",
      "                                                        'interval': True,\n",
      "                                                        'peak_left': False,\n",
      "                                                        'peak_right': False,\n",
      "                                                        'prominence': True,\n",
      "                                                        'rise_steepness': False,\n",
      "                                                        'rise_time': False,\n",
      "                                                        'sharpness': True,\n",
      "                                                        'slope_ratio': False,\n",
      "                                                        'trough': False,\n",
      "                                                        'width': False}},\n",
      " 'stft_settings': {'kalman_filter': True,\n",
      "                   'log_transform': True,\n",
      "                   'windowlength_ms': 500}}\n"
     ]
    }
   ],
   "source": [
    "pprint(stream.settings)"
   ]
  },
  {
   "cell_type": "code",
   "execution_count": 48,
   "metadata": {},
   "outputs": [
    {
     "name": "stdout",
     "output_type": "stream",
     "text": [
      "{'notch_filter': False,\n",
      " 'preprecessing_order': [],\n",
      " 'preprocessing_order': [],\n",
      " 'raw_normalization': False,\n",
      " 'raw_resampling': False,\n",
      " 're_referencing': False}\n"
     ]
    }
   ],
   "source": [
    "pprint(stream.settings[\"preprocessing\"])"
   ]
  },
  {
   "cell_type": "code",
   "execution_count": 47,
   "metadata": {},
   "outputs": [],
   "source": [
    "stream.settings[\"preprocessing\"][\"notch_filter\"] = False\n",
    "stream.settings[\"preprocessing\"][\"preprocessing_order\"] = []\n",
    "stream.settings[\"preprocessing\"][\"raw_normalization\"] = False\n",
    "stream.settings[\"preprocessing\"][\"raw_resampling\"] = False\n",
    "stream.settings[\"preprocessing\"][\"re_referencing\"] = False"
   ]
  },
  {
   "cell_type": "code",
   "execution_count": 34,
   "metadata": {},
   "outputs": [
    {
     "data": {
      "text/plain": [
       "{'raw_hjorth': True,\n",
       " 'return_raw': True,\n",
       " 'bandpass_filter': True,\n",
       " 'stft': True,\n",
       " 'fft': True,\n",
       " 'sharpwave_analysis': True,\n",
       " 'coherence': True,\n",
       " 'fooof': True,\n",
       " 'nolds': True,\n",
       " 'bursts': True}"
      ]
     },
     "execution_count": 34,
     "metadata": {},
     "output_type": "execute_result"
    }
   ],
   "source": [
    "stream.settings[\"features\"]"
   ]
  },
  {
   "cell_type": "code",
   "execution_count": 35,
   "metadata": {},
   "outputs": [],
   "source": [
    "stream.settings[\"features\"][\"fft\"] = True\n",
    "stream.settings[\"features\"][\"raw_hjorth\"] = False\n",
    "stream.settings[\"features\"][\"return_raw\"] = False\n",
    "stream.settings[\"features\"][\"bandpass_filter\"] = False\n",
    "stream.settings[\"features\"][\"stft\"] = False\n",
    "stream.settings[\"features\"][\"sharpwave_analysis\"] = False\n",
    "stream.settings[\"features\"][\"coherence\"] = False\n",
    "stream.settings[\"features\"][\"fooof\"] = False\n",
    "stream.settings[\"features\"][\"nolds\"] = False\n",
    "stream.settings[\"features\"][\"bursts\"] = False"
   ]
  },
  {
   "cell_type": "code",
   "execution_count": 37,
   "metadata": {},
   "outputs": [
    {
     "name": "stdout",
     "output_type": "stream",
     "text": [
      "Effective window size : 8.192 (s)\n"
     ]
    },
    {
     "name": "stderr",
     "output_type": "stream",
     "text": [
      "[Parallel(n_jobs=1)]: Using backend SequentialBackend with 1 concurrent workers.\n",
      "[Parallel(n_jobs=1)]: Done   1 out of   1 | elapsed:    0.1s remaining:    0.0s\n",
      "[Parallel(n_jobs=1)]: Done   1 out of   1 | elapsed:    0.1s finished\n"
     ]
    },
    {
     "data": {
      "image/png": "[encoded data removed]",
      "text/plain": [
       "<MNELineFigure size 1000x350 with 1 Axes>"
      ]
     },
     "metadata": {},
     "output_type": "display_data"
    }
   ],
   "source": [
    "raw.plot_psd()\n",
    "plt.show()"
   ]
  },
  {
   "cell_type": "code",
   "execution_count": 39,
   "metadata": {},
   "outputs": [],
   "source": [
    "stream.settings[\"postprocessing\"][\"feature_normalization\"] = False\n",
    "stream.settings[\"postprocessing\"][\"project_cortex\"] = False\n",
    "stream.settings[\"postprocessing\"][\"project_subcortex\"] = False"
   ]
  },
  {
   "cell_type": "code",
   "execution_count": 56,
   "metadata": {},
   "outputs": [],
   "source": [
    "stream.settings[\"frequency_ranges_hz\"] = \\\n",
    "{\n",
    "\"theta\": [\n",
    "            4,\n",
    "            8\n",
    "        ],\n",
    "\"alpha\": [\n",
    "            8,\n",
    "            12\n",
    "        ],\n",
    "\"low beta\": [\n",
    "            13,\n",
    "            20\n",
    "        ],\n",
    "\"high beta\": [\n",
    "            20,\n",
    "            35\n",
    "        ]\n",
    "}\n",
    "        "
   ]
  },
  {
   "cell_type": "code",
   "execution_count": 63,
   "metadata": {},
   "outputs": [],
   "source": [
    "stream.settings[\"fft_settings\"][\"log_transform\"] = False\n",
    "stream.settings[\"fft_settings\"][\"kalman_filter\"] = False"
   ]
  },
  {
   "cell_type": "code",
   "execution_count": 64,
   "metadata": {},
   "outputs": [
    {
     "data": {
      "text/plain": [
       "{'theta': [4, 8],\n",
       " 'alpha': [8, 12],\n",
       " 'low beta': [13, 20],\n",
       " 'high beta': [20, 35]}"
      ]
     },
     "execution_count": 64,
     "metadata": {},
     "output_type": "execute_result"
    }
   ],
   "source": [
    "stream.settings[\"frequency_ranges_hz\"]"
   ]
  },
  {
   "cell_type": "code",
   "execution_count": 65,
   "metadata": {},
   "outputs": [
    {
     "name": "stdout",
     "output_type": "stream",
     "text": [
      "No Error occurred when testing the settings.\n"
     ]
    }
   ],
   "source": [
    "stream.init_stream(\n",
    "    sfreq=250,\n",
    "    line_noise=60,\n",
    "    coord_list=[],\n",
    "    coord_names=[],\n",
    ")\n"
   ]
  },
  {
   "cell_type": "code",
   "execution_count": 66,
   "metadata": {},
   "outputs": [
    {
     "data": {
      "text/plain": [
       "'c:\\\\Users\\\\DY548\\\\Documents\\\\GitHub\\\\py_neuromodulation\\\\examples'"
      ]
     },
     "execution_count": 66,
     "metadata": {},
     "output_type": "execute_result"
    }
   ],
   "source": [
    "os.getcwd()"
   ]
  },
  {
   "cell_type": "code",
   "execution_count": 68,
   "metadata": {},
   "outputs": [
    {
     "ename": "ValueError",
     "evalue": "If data is passed as an array, the first dimension must match the number of channel names in `nm_channels`. Got: Data columns: 1335500, nm_channels.name: 4.",
     "output_type": "error",
     "traceback": [
      "\u001b[1;31m---------------------------------------------------------------------------\u001b[0m",
      "\u001b[1;31mValueError\u001b[0m                                Traceback (most recent call last)",
      "Cell \u001b[1;32mIn [68], line 1\u001b[0m\n\u001b[1;32m----> 1\u001b[0m stream\u001b[39m.\u001b[39mrun(\n\u001b[0;32m      2\u001b[0m     data\u001b[39m=\u001b[39mraw\u001b[39m.\u001b[39mget_data()\u001b[39m.\u001b[39mT,\n\u001b[0;32m      3\u001b[0m     out_path_root\u001b[39m=\u001b[39mos\u001b[39m.\u001b[39mgetcwd(),\n\u001b[0;32m      4\u001b[0m     folder_name\u001b[39m=\u001b[39m\u001b[39m\"\u001b[39m\u001b[39mTestRNS\u001b[39m\u001b[39m\"\u001b[39m,\n\u001b[0;32m      5\u001b[0m )\n",
      "File \u001b[1;32m~\\Documents\\Python Scripts\\trial\\py_neuromodulation\\nm_stream_offline.py:127\u001b[0m, in \u001b[0;36mStream.run\u001b[1;34m(self, data, out_path_root, folder_name)\u001b[0m\n\u001b[0;32m    119\u001b[0m \u001b[39mdef\u001b[39;00m \u001b[39mrun\u001b[39m(\n\u001b[0;32m    120\u001b[0m     \u001b[39mself\u001b[39m,\n\u001b[0;32m    121\u001b[0m     data: np\u001b[39m.\u001b[39mndarray \u001b[39m|\u001b[39m pd\u001b[39m.\u001b[39mDataFrame,\n\u001b[0;32m    122\u001b[0m     out_path_root: _PathLike \u001b[39m=\u001b[39m \u001b[39mNone\u001b[39;00m,\n\u001b[0;32m    123\u001b[0m     folder_name: \u001b[39mstr\u001b[39m \u001b[39m=\u001b[39m \u001b[39m\"\u001b[39m\u001b[39msub\u001b[39m\u001b[39m\"\u001b[39m,\n\u001b[0;32m    124\u001b[0m ) \u001b[39m-\u001b[39m\u001b[39m>\u001b[39m \u001b[39mNone\u001b[39;00m:\n\u001b[0;32m    125\u001b[0m     \u001b[39m\"\"\"Does not need to run in parallel.\"\"\"\u001b[39;00m\n\u001b[1;32m--> 127\u001b[0m     data \u001b[39m=\u001b[39m \u001b[39mself\u001b[39;49m\u001b[39m.\u001b[39;49m_handle_data(data)\n\u001b[0;32m    129\u001b[0m     \u001b[39mself\u001b[39m\u001b[39m.\u001b[39m_run_offline(data, out_path_root, folder_name)\n",
      "File \u001b[1;32m~\\Documents\\Python Scripts\\trial\\py_neuromodulation\\nm_stream_offline.py:60\u001b[0m, in \u001b[0;36m_OfflineStream._handle_data\u001b[1;34m(self, data)\u001b[0m\n\u001b[0;32m     58\u001b[0m \u001b[39mif\u001b[39;00m \u001b[39misinstance\u001b[39m(data, np\u001b[39m.\u001b[39mndarray):\n\u001b[0;32m     59\u001b[0m     \u001b[39mif\u001b[39;00m \u001b[39mnot\u001b[39;00m \u001b[39mlen\u001b[39m(names_expected) \u001b[39m==\u001b[39m data\u001b[39m.\u001b[39mshape[\u001b[39m0\u001b[39m]:\n\u001b[1;32m---> 60\u001b[0m         \u001b[39mraise\u001b[39;00m \u001b[39mValueError\u001b[39;00m(\n\u001b[0;32m     61\u001b[0m             \u001b[39m\"\u001b[39m\u001b[39mIf data is passed as an array, the first dimension must\u001b[39m\u001b[39m\"\u001b[39m\n\u001b[0;32m     62\u001b[0m             \u001b[39m\"\u001b[39m\u001b[39m match the number of channel names in `nm_channels`. Got:\u001b[39m\u001b[39m\"\u001b[39m\n\u001b[0;32m     63\u001b[0m             \u001b[39mf\u001b[39m\u001b[39m\"\u001b[39m\u001b[39m Data columns: \u001b[39m\u001b[39m{\u001b[39;00mdata\u001b[39m.\u001b[39mshape[\u001b[39m0\u001b[39m]\u001b[39m}\u001b[39;00m\u001b[39m, nm_channels.name:\u001b[39m\u001b[39m\"\u001b[39m\n\u001b[0;32m     64\u001b[0m             \u001b[39mf\u001b[39m\u001b[39m\"\u001b[39m\u001b[39m \u001b[39m\u001b[39m{\u001b[39;00m\u001b[39mlen\u001b[39m(names_expected)\u001b[39m}\u001b[39;00m\u001b[39m.\u001b[39m\u001b[39m\"\u001b[39m\n\u001b[0;32m     65\u001b[0m         )\n\u001b[0;32m     66\u001b[0m     \u001b[39mreturn\u001b[39;00m data\n\u001b[0;32m     67\u001b[0m names_data \u001b[39m=\u001b[39m data\u001b[39m.\u001b[39mcolumns\u001b[39m.\u001b[39mto_list()\n",
      "\u001b[1;31mValueError\u001b[0m: If data is passed as an array, the first dimension must match the number of channel names in `nm_channels`. Got: Data columns: 1335500, nm_channels.name: 4."
     ]
    }
   ],
   "source": [
    "stream.run(\n",
    "    data=raw.get_data(),\n",
    "    out_path_root=os.getcwd(),\n",
    "    folder_name=\"TestRNS\",\n",
    ")"
   ]
  },
  {
   "cell_type": "code",
   "execution_count": null,
   "metadata": {},
   "outputs": [],
   "source": []
  }
 ],
 "metadata": {
  "kernelspec": {
   "display_name": "Python 3.10.6 ('pn_env')",
   "language": "python",
   "name": "python3"
  },
  "language_info": {
   "codemirror_mode": {
    "name": "ipython",
    "version": 3
   },
   "file_extension": ".py",
   "mimetype": "text/x-python",
   "name": "python",
   "nbconvert_exporter": "python",
   "pygments_lexer": "ipython3",
   "version": "3.10.6"
  },
  "orig_nbformat": 4,
  "vscode": {
   "interpreter": {
    "hash": "7ed6488e8cccd50d0c46a1d59d4f66bd667c1f92cfc3525fc624fde3ed67359f"
   }
  }
 },
 "nbformat": 4,
 "nbformat_minor": 2
}
