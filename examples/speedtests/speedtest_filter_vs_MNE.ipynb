{
 "cells": [
  {
   "cell_type": "code",
   "execution_count": 1,
   "id": "preliminary-archives",
   "metadata": {},
   "outputs": [],
   "source": [
    "from mne.datasets import sample\n",
    "from mne.io import read_raw_fif\n",
    "import numpy as np \n",
    "import mne \n",
    "import time\n",
    "from mne import filter"
   ]
  },
  {
   "cell_type": "code",
   "execution_count": 2,
   "id": "working-loading",
   "metadata": {},
   "outputs": [],
   "source": [
    "def calc_band_filters(f_ranges, sample_rate, filter_len=\"1000ms\", l_trans_bandwidth=4, h_trans_bandwidth=4):\n",
    "    \"\"\"\"Calculate bandpass filters with adjustable length for given frequency ranges.\n",
    "    This function returns for the given frequency band ranges the filter coefficients with length \"filter_len\".\n",
    "    Thus the filters can be sequentially used for band power estimation.\n",
    "    Parameters\n",
    "    ----------\n",
    "    f_ranges : list of lists\n",
    "        frequency ranges.\n",
    "    sample_rate : float\n",
    "        sampling frequency.\n",
    "    filter_len : str, optional\n",
    "        length of the filter. Human readable (e.g.\"1000ms\" or \"1s\"). Default is \"1000ms\"\n",
    "    l_trans_bandwidth : int/float, optional\n",
    "        Length of the lower transition band. The default is 4.\n",
    "    h_trans_bandwidth : int/float, optional\n",
    "        Length of the higher transition band. The default is 4.\n",
    "    Returns\n",
    "    -------\n",
    "    filter_fun : array\n",
    "        filter coefficients stored in array of shape (n_franges, filter_len (in samples))\n",
    "    \"\"\"\n",
    "    filter_list = []\n",
    "    for a, f_range in enumerate(f_ranges):\n",
    "        h = mne.filter.create_filter(None, sample_rate, l_freq=f_range[0], h_freq=f_range[1], fir_design='firwin',\n",
    "                                        l_trans_bandwidth=l_trans_bandwidth, h_trans_bandwidth=h_trans_bandwidth,\n",
    "                                        filter_length=filter_len)\n",
    "        filter_list.append(h)\n",
    "    filter_bank = np.vstack(filter_list)\n",
    "    return filter_bank\n",
    "\n",
    "def apply_filter(dat_, filter_bank, fs):\n",
    "        \"\"\"Apply previously calculated (bandpass) filters to data.\n",
    "        Parameters\n",
    "        ----------\n",
    "        dat_ : array (n_samples, ) or (n_channels, n_samples)\n",
    "            segment of data.\n",
    "        filter_fun : array\n",
    "            output of calc_band_filters.\n",
    "        Returns\n",
    "        -------\n",
    "        filtered : array\n",
    "            (n_chan, n_fbands, filter_len) array conatining the filtered signal\n",
    "            at each freq band, where n_fbands is the number of filter bands used to decompose the signal\n",
    "        \"\"\"    \n",
    "        if dat_.ndim == 1:\n",
    "            filtered = np.zeros((1, filter_bank.shape[0], fs))\n",
    "            for filt in range(filter_bank.shape[0]):\n",
    "                filtered[0, filt, :] = np.convolve(filter_bank[filt,:], dat_)[int(fs-fs/2):int(fs+fs/2)]\n",
    "        elif dat_.ndim == 2:\n",
    "            filtered = np.zeros((dat_.shape[0], filter_bank.shape[0], fs))\n",
    "            for chan in range(dat_.shape[0]):\n",
    "                for filt in range(filter_bank.shape[0]):\n",
    "                    filtered[chan, filt, :] = np.convolve(filter_bank[filt, :], \\\n",
    "                                                        dat_[chan,:])[int(fs-fs/2):int(fs+fs/2)] # mode=\"full\"\n",
    "        return filtered"
   ]
  },
  {
   "cell_type": "code",
   "execution_count": 3,
   "id": "intelligent-brush",
   "metadata": {},
   "outputs": [
    {
     "name": "stdout",
     "output_type": "stream",
     "text": [
      "No data specified. Sanity checks related to the length of the signal relative to the filter order will be skipped.\n",
      "Setting up band-pass filter from 4 - 8 Hz\n",
      "\n",
      "FIR filter parameters\n",
      "---------------------\n",
      "Designing a one-pass, zero-phase, non-causal bandpass filter:\n",
      "- Windowed time-domain design (firwin) method\n",
      "- Hamming window with 0.0194 passband ripple and 53 dB stopband attenuation\n",
      "- Lower passband edge: 4.00\n",
      "- Lower transition bandwidth: 4.00 Hz (-6 dB cutoff frequency: 2.00 Hz)\n",
      "- Upper passband edge: 8.00 Hz\n",
      "- Upper transition bandwidth: 4.00 Hz (-6 dB cutoff frequency: 10.00 Hz)\n",
      "- Filter length: 501 samples (1.002 sec)\n",
      "\n",
      "No data specified. Sanity checks related to the length of the signal relative to the filter order will be skipped.\n",
      "Setting up band-pass filter from 8 - 12 Hz\n",
      "\n",
      "FIR filter parameters\n",
      "---------------------\n",
      "Designing a one-pass, zero-phase, non-causal bandpass filter:\n",
      "- Windowed time-domain design (firwin) method\n",
      "- Hamming window with 0.0194 passband ripple and 53 dB stopband attenuation\n",
      "- Lower passband edge: 8.00\n",
      "- Lower transition bandwidth: 4.00 Hz (-6 dB cutoff frequency: 6.00 Hz)\n",
      "- Upper passband edge: 12.00 Hz\n",
      "- Upper transition bandwidth: 4.00 Hz (-6 dB cutoff frequency: 14.00 Hz)\n",
      "- Filter length: 501 samples (1.002 sec)\n",
      "\n",
      "No data specified. Sanity checks related to the length of the signal relative to the filter order will be skipped.\n",
      "Setting up band-pass filter from 13 - 20 Hz\n",
      "\n",
      "FIR filter parameters\n",
      "---------------------\n",
      "Designing a one-pass, zero-phase, non-causal bandpass filter:\n",
      "- Windowed time-domain design (firwin) method\n",
      "- Hamming window with 0.0194 passband ripple and 53 dB stopband attenuation\n",
      "- Lower passband edge: 13.00\n",
      "- Lower transition bandwidth: 4.00 Hz (-6 dB cutoff frequency: 11.00 Hz)\n",
      "- Upper passband edge: 20.00 Hz\n",
      "- Upper transition bandwidth: 4.00 Hz (-6 dB cutoff frequency: 22.00 Hz)\n",
      "- Filter length: 501 samples (1.002 sec)\n",
      "\n",
      "No data specified. Sanity checks related to the length of the signal relative to the filter order will be skipped.\n",
      "Setting up band-pass filter from 20 - 35 Hz\n",
      "\n",
      "FIR filter parameters\n",
      "---------------------\n",
      "Designing a one-pass, zero-phase, non-causal bandpass filter:\n",
      "- Windowed time-domain design (firwin) method\n",
      "- Hamming window with 0.0194 passband ripple and 53 dB stopband attenuation\n",
      "- Lower passband edge: 20.00\n",
      "- Lower transition bandwidth: 4.00 Hz (-6 dB cutoff frequency: 18.00 Hz)\n",
      "- Upper passband edge: 35.00 Hz\n",
      "- Upper transition bandwidth: 4.00 Hz (-6 dB cutoff frequency: 37.00 Hz)\n",
      "- Filter length: 501 samples (1.002 sec)\n",
      "\n",
      "No data specified. Sanity checks related to the length of the signal relative to the filter order will be skipped.\n",
      "Setting up band-pass filter from 13 - 35 Hz\n",
      "\n",
      "FIR filter parameters\n",
      "---------------------\n",
      "Designing a one-pass, zero-phase, non-causal bandpass filter:\n",
      "- Windowed time-domain design (firwin) method\n",
      "- Hamming window with 0.0194 passband ripple and 53 dB stopband attenuation\n",
      "- Lower passband edge: 13.00\n",
      "- Lower transition bandwidth: 4.00 Hz (-6 dB cutoff frequency: 11.00 Hz)\n",
      "- Upper passband edge: 35.00 Hz\n",
      "- Upper transition bandwidth: 4.00 Hz (-6 dB cutoff frequency: 37.00 Hz)\n",
      "- Filter length: 501 samples (1.002 sec)\n",
      "\n",
      "No data specified. Sanity checks related to the length of the signal relative to the filter order will be skipped.\n",
      "Setting up band-pass filter from 60 - 80 Hz\n",
      "\n",
      "FIR filter parameters\n",
      "---------------------\n",
      "Designing a one-pass, zero-phase, non-causal bandpass filter:\n",
      "- Windowed time-domain design (firwin) method\n",
      "- Hamming window with 0.0194 passband ripple and 53 dB stopband attenuation\n",
      "- Lower passband edge: 60.00\n",
      "- Lower transition bandwidth: 4.00 Hz (-6 dB cutoff frequency: 58.00 Hz)\n",
      "- Upper passband edge: 80.00 Hz\n",
      "- Upper transition bandwidth: 4.00 Hz (-6 dB cutoff frequency: 82.00 Hz)\n",
      "- Filter length: 501 samples (1.002 sec)\n",
      "\n",
      "No data specified. Sanity checks related to the length of the signal relative to the filter order will be skipped.\n",
      "Setting up band-pass filter from 90 - 2e+02 Hz\n",
      "\n",
      "FIR filter parameters\n",
      "---------------------\n",
      "Designing a one-pass, zero-phase, non-causal bandpass filter:\n",
      "- Windowed time-domain design (firwin) method\n",
      "- Hamming window with 0.0194 passband ripple and 53 dB stopband attenuation\n",
      "- Lower passband edge: 90.00\n",
      "- Lower transition bandwidth: 4.00 Hz (-6 dB cutoff frequency: 88.00 Hz)\n",
      "- Upper passband edge: 200.00 Hz\n",
      "- Upper transition bandwidth: 4.00 Hz (-6 dB cutoff frequency: 202.00 Hz)\n",
      "- Filter length: 501 samples (1.002 sec)\n",
      "\n",
      "No data specified. Sanity checks related to the length of the signal relative to the filter order will be skipped.\n",
      "Setting up band-pass filter from 60 - 2e+02 Hz\n",
      "\n",
      "FIR filter parameters\n",
      "---------------------\n",
      "Designing a one-pass, zero-phase, non-causal bandpass filter:\n",
      "- Windowed time-domain design (firwin) method\n",
      "- Hamming window with 0.0194 passband ripple and 53 dB stopband attenuation\n",
      "- Lower passband edge: 60.00\n",
      "- Lower transition bandwidth: 4.00 Hz (-6 dB cutoff frequency: 58.00 Hz)\n",
      "- Upper passband edge: 200.00 Hz\n",
      "- Upper transition bandwidth: 4.00 Hz (-6 dB cutoff frequency: 202.00 Hz)\n",
      "- Filter length: 501 samples (1.002 sec)\n",
      "\n"
     ]
    }
   ],
   "source": [
    "# setup examplary data \n",
    "data_points = 500\n",
    "channels = 6\n",
    "data = np.random.random([channels, data_points])\n",
    "\n",
    "# definition of \n",
    "filter_ranges = np.array([[4, 8], [8, 12], [13, 20], [20, 35], [13, 35], [60, 80], [90, 200], \\\n",
    "                          [60, 200]])\n",
    "\n",
    "fs = 500\n",
    "filter_bank = calc_band_filters(filter_ranges, fs, filter_len=\"1000ms\", l_trans_bandwidth=4, h_trans_bandwidth=4)"
   ]
  },
  {
   "cell_type": "code",
   "execution_count": 4,
   "id": "funded-sussex",
   "metadata": {},
   "outputs": [
    {
     "name": "stdout",
     "output_type": "stream",
     "text": [
      "0.005991220474243164\n"
     ]
    }
   ],
   "source": [
    "start = time.time()\n",
    "dat_filtered = apply_filter(data, filter_bank, fs)\n",
    "end = time.time()\n",
    "print(end - start)"
   ]
  },
  {
   "cell_type": "code",
   "execution_count": 5,
   "id": "amateur-script",
   "metadata": {},
   "outputs": [
    {
     "data": {
      "text/plain": [
       "(6, 8, 500)"
      ]
     },
     "execution_count": 5,
     "metadata": {},
     "output_type": "execute_result"
    }
   ],
   "source": [
    "dat_filtered.shape"
   ]
  },
  {
   "cell_type": "code",
   "execution_count": 6,
   "id": "motivated-aggregate",
   "metadata": {},
   "outputs": [
    {
     "name": "stdout",
     "output_type": "stream",
     "text": [
      "0.0310056209564209\n"
     ]
    },
    {
     "name": "stderr",
     "output_type": "stream",
     "text": [
      "<ipython-input-6-56bf5642d479>:6: RuntimeWarning: filter_length (825) is longer than the signal (500), distortion is likely. Reduce filter length or filter a longer signal.\n",
      "  h_freq=filter_[1], method=\"fir\", verbose=0)\n",
      "<ipython-input-6-56bf5642d479>:6: RuntimeWarning: filter_length (825) is longer than the signal (500), distortion is likely. Reduce filter length or filter a longer signal.\n",
      "  h_freq=filter_[1], method=\"fir\", verbose=0)\n",
      "<ipython-input-6-56bf5642d479>:6: RuntimeWarning: filter_length (509) is longer than the signal (500), distortion is likely. Reduce filter length or filter a longer signal.\n",
      "  h_freq=filter_[1], method=\"fir\", verbose=0)\n",
      "<ipython-input-6-56bf5642d479>:6: RuntimeWarning: filter_length (509) is longer than the signal (500), distortion is likely. Reduce filter length or filter a longer signal.\n",
      "  h_freq=filter_[1], method=\"fir\", verbose=0)\n"
     ]
    }
   ],
   "source": [
    "start = time.time()\n",
    "filtered_out = np.zeros([channels, filter_ranges.shape[0], data_points])\n",
    "for filter_idx, filter_ in enumerate(filter_ranges):\n",
    "    #print(filter_)\n",
    "    filtered_out[:,filter_idx,:] = mne.filter.filter_data(data, sfreq=fs, l_freq=filter_[0], \\\n",
    "                                                          h_freq=filter_[1], method=\"fir\", verbose=0)\n",
    "end = time.time()\n",
    "print(end - start)"
   ]
  },
  {
   "cell_type": "code",
   "execution_count": 7,
   "id": "powered-remedy",
   "metadata": {},
   "outputs": [
    {
     "data": {
      "text/plain": [
       "(6, 8, 500)"
      ]
     },
     "execution_count": 7,
     "metadata": {},
     "output_type": "execute_result"
    }
   ],
   "source": [
    "filtered_out.shape"
   ]
  },
  {
   "cell_type": "code",
   "execution_count": null,
   "id": "australian-annotation",
   "metadata": {},
   "outputs": [],
   "source": []
  }
 ],
 "metadata": {
  "kernelspec": {
   "display_name": "Python 3",
   "language": "python",
   "name": "python3"
  },
  "language_info": {
   "codemirror_mode": {
    "name": "ipython",
    "version": 3
   },
   "file_extension": ".py",
   "mimetype": "text/x-python",
   "name": "python",
   "nbconvert_exporter": "python",
   "pygments_lexer": "ipython3",
   "version": "3.7.4"
  }
 },
 "nbformat": 4,
 "nbformat_minor": 5
}
